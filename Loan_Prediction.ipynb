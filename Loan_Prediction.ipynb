{
 "cells": [
  {
   "cell_type": "code",
   "execution_count": 647,
   "metadata": {},
   "outputs": [],
   "source": [
    "import pandas as pd\n",
    "import numpy as np\n",
    "import matplotlib.pyplot as plt\n",
    "from sklearn.preprocessing import StandardScaler\n",
    "from sklearn.linear_model import LogisticRegression\n",
    "from sklearn.metrics import classification_report\n",
    "from sklearn.model_selection import train_test_split\n",
    "from sklearn.svm import SVC\n",
    "from sklearn.model_selection import GridSearchCV\n",
    "from sklearn.metrics import confusion_matrix\n",
    "from sklearn.metrics import plot_confusion_matrix\n",
    "from sklearn.tree import DecisionTreeClassifier\n",
    "from sklearn.tree import plot_tree\n",
    "from sklearn.ensemble import RandomForestClassifier\n",
    "import pickle"
   ]
  },
  {
   "cell_type": "code",
   "execution_count": 648,
   "metadata": {},
   "outputs": [],
   "source": [
    "import warnings\n",
    "warnings.filterwarnings('ignore')"
   ]
  },
  {
   "cell_type": "code",
   "execution_count": 649,
   "metadata": {},
   "outputs": [
    {
     "data": {
      "text/html": [
       "<div>\n",
       "<style scoped>\n",
       "    .dataframe tbody tr th:only-of-type {\n",
       "        vertical-align: middle;\n",
       "    }\n",
       "\n",
       "    .dataframe tbody tr th {\n",
       "        vertical-align: top;\n",
       "    }\n",
       "\n",
       "    .dataframe thead th {\n",
       "        text-align: right;\n",
       "    }\n",
       "</style>\n",
       "<table border=\"1\" class=\"dataframe\">\n",
       "  <thead>\n",
       "    <tr style=\"text-align: right;\">\n",
       "      <th></th>\n",
       "      <th>Loan_ID</th>\n",
       "      <th>Gender</th>\n",
       "      <th>Married</th>\n",
       "      <th>Dependents</th>\n",
       "      <th>Education</th>\n",
       "      <th>Self_Employed</th>\n",
       "      <th>ApplicantIncome</th>\n",
       "      <th>CoapplicantIncome</th>\n",
       "      <th>LoanAmount</th>\n",
       "      <th>Loan_Amount_Term</th>\n",
       "      <th>Credit_History</th>\n",
       "      <th>Property_Area</th>\n",
       "      <th>Loan_Status</th>\n",
       "    </tr>\n",
       "  </thead>\n",
       "  <tbody>\n",
       "    <tr>\n",
       "      <td>0</td>\n",
       "      <td>LP001002</td>\n",
       "      <td>Male</td>\n",
       "      <td>No</td>\n",
       "      <td>0</td>\n",
       "      <td>Graduate</td>\n",
       "      <td>No</td>\n",
       "      <td>5849</td>\n",
       "      <td>0.0</td>\n",
       "      <td>NaN</td>\n",
       "      <td>360.0</td>\n",
       "      <td>1.0</td>\n",
       "      <td>Urban</td>\n",
       "      <td>Y</td>\n",
       "    </tr>\n",
       "    <tr>\n",
       "      <td>1</td>\n",
       "      <td>LP001003</td>\n",
       "      <td>Male</td>\n",
       "      <td>Yes</td>\n",
       "      <td>1</td>\n",
       "      <td>Graduate</td>\n",
       "      <td>No</td>\n",
       "      <td>4583</td>\n",
       "      <td>1508.0</td>\n",
       "      <td>128.0</td>\n",
       "      <td>360.0</td>\n",
       "      <td>1.0</td>\n",
       "      <td>Rural</td>\n",
       "      <td>N</td>\n",
       "    </tr>\n",
       "    <tr>\n",
       "      <td>2</td>\n",
       "      <td>LP001005</td>\n",
       "      <td>Male</td>\n",
       "      <td>Yes</td>\n",
       "      <td>0</td>\n",
       "      <td>Graduate</td>\n",
       "      <td>Yes</td>\n",
       "      <td>3000</td>\n",
       "      <td>0.0</td>\n",
       "      <td>66.0</td>\n",
       "      <td>360.0</td>\n",
       "      <td>1.0</td>\n",
       "      <td>Urban</td>\n",
       "      <td>Y</td>\n",
       "    </tr>\n",
       "    <tr>\n",
       "      <td>3</td>\n",
       "      <td>LP001006</td>\n",
       "      <td>Male</td>\n",
       "      <td>Yes</td>\n",
       "      <td>0</td>\n",
       "      <td>Not Graduate</td>\n",
       "      <td>No</td>\n",
       "      <td>2583</td>\n",
       "      <td>2358.0</td>\n",
       "      <td>120.0</td>\n",
       "      <td>360.0</td>\n",
       "      <td>1.0</td>\n",
       "      <td>Urban</td>\n",
       "      <td>Y</td>\n",
       "    </tr>\n",
       "    <tr>\n",
       "      <td>4</td>\n",
       "      <td>LP001008</td>\n",
       "      <td>Male</td>\n",
       "      <td>No</td>\n",
       "      <td>0</td>\n",
       "      <td>Graduate</td>\n",
       "      <td>No</td>\n",
       "      <td>6000</td>\n",
       "      <td>0.0</td>\n",
       "      <td>141.0</td>\n",
       "      <td>360.0</td>\n",
       "      <td>1.0</td>\n",
       "      <td>Urban</td>\n",
       "      <td>Y</td>\n",
       "    </tr>\n",
       "  </tbody>\n",
       "</table>\n",
       "</div>"
      ],
      "text/plain": [
       "    Loan_ID Gender Married Dependents     Education Self_Employed  \\\n",
       "0  LP001002   Male      No          0      Graduate            No   \n",
       "1  LP001003   Male     Yes          1      Graduate            No   \n",
       "2  LP001005   Male     Yes          0      Graduate           Yes   \n",
       "3  LP001006   Male     Yes          0  Not Graduate            No   \n",
       "4  LP001008   Male      No          0      Graduate            No   \n",
       "\n",
       "   ApplicantIncome  CoapplicantIncome  LoanAmount  Loan_Amount_Term  \\\n",
       "0             5849                0.0         NaN             360.0   \n",
       "1             4583             1508.0       128.0             360.0   \n",
       "2             3000                0.0        66.0             360.0   \n",
       "3             2583             2358.0       120.0             360.0   \n",
       "4             6000                0.0       141.0             360.0   \n",
       "\n",
       "   Credit_History Property_Area Loan_Status  \n",
       "0             1.0         Urban           Y  \n",
       "1             1.0         Rural           N  \n",
       "2             1.0         Urban           Y  \n",
       "3             1.0         Urban           Y  \n",
       "4             1.0         Urban           Y  "
      ]
     },
     "execution_count": 649,
     "metadata": {},
     "output_type": "execute_result"
    }
   ],
   "source": [
    "df = pd.read_csv('./data/train.csv')\n",
    "df.head()"
   ]
  },
  {
   "cell_type": "code",
   "execution_count": 650,
   "metadata": {},
   "outputs": [
    {
     "data": {
      "text/html": [
       "<div>\n",
       "<style scoped>\n",
       "    .dataframe tbody tr th:only-of-type {\n",
       "        vertical-align: middle;\n",
       "    }\n",
       "\n",
       "    .dataframe tbody tr th {\n",
       "        vertical-align: top;\n",
       "    }\n",
       "\n",
       "    .dataframe thead th {\n",
       "        text-align: right;\n",
       "    }\n",
       "</style>\n",
       "<table border=\"1\" class=\"dataframe\">\n",
       "  <thead>\n",
       "    <tr style=\"text-align: right;\">\n",
       "      <th></th>\n",
       "      <th>Loan_ID</th>\n",
       "      <th>Gender</th>\n",
       "      <th>Married</th>\n",
       "      <th>Dependents</th>\n",
       "      <th>Education</th>\n",
       "      <th>Self_Employed</th>\n",
       "      <th>ApplicantIncome</th>\n",
       "      <th>CoapplicantIncome</th>\n",
       "      <th>LoanAmount</th>\n",
       "      <th>Loan_Amount_Term</th>\n",
       "      <th>Credit_History</th>\n",
       "      <th>Property_Area</th>\n",
       "    </tr>\n",
       "  </thead>\n",
       "  <tbody>\n",
       "    <tr>\n",
       "      <td>0</td>\n",
       "      <td>LP001015</td>\n",
       "      <td>Male</td>\n",
       "      <td>Yes</td>\n",
       "      <td>0</td>\n",
       "      <td>Graduate</td>\n",
       "      <td>No</td>\n",
       "      <td>5720</td>\n",
       "      <td>0</td>\n",
       "      <td>110.0</td>\n",
       "      <td>360.0</td>\n",
       "      <td>1.0</td>\n",
       "      <td>Urban</td>\n",
       "    </tr>\n",
       "    <tr>\n",
       "      <td>1</td>\n",
       "      <td>LP001022</td>\n",
       "      <td>Male</td>\n",
       "      <td>Yes</td>\n",
       "      <td>1</td>\n",
       "      <td>Graduate</td>\n",
       "      <td>No</td>\n",
       "      <td>3076</td>\n",
       "      <td>1500</td>\n",
       "      <td>126.0</td>\n",
       "      <td>360.0</td>\n",
       "      <td>1.0</td>\n",
       "      <td>Urban</td>\n",
       "    </tr>\n",
       "    <tr>\n",
       "      <td>2</td>\n",
       "      <td>LP001031</td>\n",
       "      <td>Male</td>\n",
       "      <td>Yes</td>\n",
       "      <td>2</td>\n",
       "      <td>Graduate</td>\n",
       "      <td>No</td>\n",
       "      <td>5000</td>\n",
       "      <td>1800</td>\n",
       "      <td>208.0</td>\n",
       "      <td>360.0</td>\n",
       "      <td>1.0</td>\n",
       "      <td>Urban</td>\n",
       "    </tr>\n",
       "    <tr>\n",
       "      <td>3</td>\n",
       "      <td>LP001035</td>\n",
       "      <td>Male</td>\n",
       "      <td>Yes</td>\n",
       "      <td>2</td>\n",
       "      <td>Graduate</td>\n",
       "      <td>No</td>\n",
       "      <td>2340</td>\n",
       "      <td>2546</td>\n",
       "      <td>100.0</td>\n",
       "      <td>360.0</td>\n",
       "      <td>NaN</td>\n",
       "      <td>Urban</td>\n",
       "    </tr>\n",
       "    <tr>\n",
       "      <td>4</td>\n",
       "      <td>LP001051</td>\n",
       "      <td>Male</td>\n",
       "      <td>No</td>\n",
       "      <td>0</td>\n",
       "      <td>Not Graduate</td>\n",
       "      <td>No</td>\n",
       "      <td>3276</td>\n",
       "      <td>0</td>\n",
       "      <td>78.0</td>\n",
       "      <td>360.0</td>\n",
       "      <td>1.0</td>\n",
       "      <td>Urban</td>\n",
       "    </tr>\n",
       "  </tbody>\n",
       "</table>\n",
       "</div>"
      ],
      "text/plain": [
       "    Loan_ID Gender Married Dependents     Education Self_Employed  \\\n",
       "0  LP001015   Male     Yes          0      Graduate            No   \n",
       "1  LP001022   Male     Yes          1      Graduate            No   \n",
       "2  LP001031   Male     Yes          2      Graduate            No   \n",
       "3  LP001035   Male     Yes          2      Graduate            No   \n",
       "4  LP001051   Male      No          0  Not Graduate            No   \n",
       "\n",
       "   ApplicantIncome  CoapplicantIncome  LoanAmount  Loan_Amount_Term  \\\n",
       "0             5720                  0       110.0             360.0   \n",
       "1             3076               1500       126.0             360.0   \n",
       "2             5000               1800       208.0             360.0   \n",
       "3             2340               2546       100.0             360.0   \n",
       "4             3276                  0        78.0             360.0   \n",
       "\n",
       "   Credit_History Property_Area  \n",
       "0             1.0         Urban  \n",
       "1             1.0         Urban  \n",
       "2             1.0         Urban  \n",
       "3             NaN         Urban  \n",
       "4             1.0         Urban  "
      ]
     },
     "execution_count": 650,
     "metadata": {},
     "output_type": "execute_result"
    }
   ],
   "source": [
    "# df_test dataset has same features as df besides the \"Loan_Status\" feature.\n",
    "# We will use it with df to get some values. \n",
    "df_test = pd.read_csv('./data/test.csv')\n",
    "df_test.head()"
   ]
  },
  {
   "cell_type": "code",
   "execution_count": 651,
   "metadata": {},
   "outputs": [
    {
     "name": "stdout",
     "output_type": "stream",
     "text": [
      "<class 'pandas.core.frame.DataFrame'>\n",
      "RangeIndex: 614 entries, 0 to 613\n",
      "Data columns (total 13 columns):\n",
      "Loan_ID              614 non-null object\n",
      "Gender               601 non-null object\n",
      "Married              611 non-null object\n",
      "Dependents           599 non-null object\n",
      "Education            614 non-null object\n",
      "Self_Employed        582 non-null object\n",
      "ApplicantIncome      614 non-null int64\n",
      "CoapplicantIncome    614 non-null float64\n",
      "LoanAmount           592 non-null float64\n",
      "Loan_Amount_Term     600 non-null float64\n",
      "Credit_History       564 non-null float64\n",
      "Property_Area        614 non-null object\n",
      "Loan_Status          614 non-null object\n",
      "dtypes: float64(4), int64(1), object(8)\n",
      "memory usage: 62.5+ KB\n"
     ]
    }
   ],
   "source": [
    "df.info()"
   ]
  },
  {
   "cell_type": "code",
   "execution_count": 652,
   "metadata": {},
   "outputs": [
    {
     "data": {
      "text/html": [
       "<div>\n",
       "<style scoped>\n",
       "    .dataframe tbody tr th:only-of-type {\n",
       "        vertical-align: middle;\n",
       "    }\n",
       "\n",
       "    .dataframe tbody tr th {\n",
       "        vertical-align: top;\n",
       "    }\n",
       "\n",
       "    .dataframe thead th {\n",
       "        text-align: right;\n",
       "    }\n",
       "</style>\n",
       "<table border=\"1\" class=\"dataframe\">\n",
       "  <thead>\n",
       "    <tr style=\"text-align: right;\">\n",
       "      <th></th>\n",
       "      <th>ApplicantIncome</th>\n",
       "      <th>CoapplicantIncome</th>\n",
       "      <th>LoanAmount</th>\n",
       "      <th>Loan_Amount_Term</th>\n",
       "      <th>Credit_History</th>\n",
       "    </tr>\n",
       "  </thead>\n",
       "  <tbody>\n",
       "    <tr>\n",
       "      <td>count</td>\n",
       "      <td>614.000000</td>\n",
       "      <td>614.000000</td>\n",
       "      <td>592.000000</td>\n",
       "      <td>600.00000</td>\n",
       "      <td>564.000000</td>\n",
       "    </tr>\n",
       "    <tr>\n",
       "      <td>mean</td>\n",
       "      <td>5403.459283</td>\n",
       "      <td>1621.245798</td>\n",
       "      <td>146.412162</td>\n",
       "      <td>342.00000</td>\n",
       "      <td>0.842199</td>\n",
       "    </tr>\n",
       "    <tr>\n",
       "      <td>std</td>\n",
       "      <td>6109.041673</td>\n",
       "      <td>2926.248369</td>\n",
       "      <td>85.587325</td>\n",
       "      <td>65.12041</td>\n",
       "      <td>0.364878</td>\n",
       "    </tr>\n",
       "    <tr>\n",
       "      <td>min</td>\n",
       "      <td>150.000000</td>\n",
       "      <td>0.000000</td>\n",
       "      <td>9.000000</td>\n",
       "      <td>12.00000</td>\n",
       "      <td>0.000000</td>\n",
       "    </tr>\n",
       "    <tr>\n",
       "      <td>25%</td>\n",
       "      <td>2877.500000</td>\n",
       "      <td>0.000000</td>\n",
       "      <td>100.000000</td>\n",
       "      <td>360.00000</td>\n",
       "      <td>1.000000</td>\n",
       "    </tr>\n",
       "    <tr>\n",
       "      <td>50%</td>\n",
       "      <td>3812.500000</td>\n",
       "      <td>1188.500000</td>\n",
       "      <td>128.000000</td>\n",
       "      <td>360.00000</td>\n",
       "      <td>1.000000</td>\n",
       "    </tr>\n",
       "    <tr>\n",
       "      <td>75%</td>\n",
       "      <td>5795.000000</td>\n",
       "      <td>2297.250000</td>\n",
       "      <td>168.000000</td>\n",
       "      <td>360.00000</td>\n",
       "      <td>1.000000</td>\n",
       "    </tr>\n",
       "    <tr>\n",
       "      <td>max</td>\n",
       "      <td>81000.000000</td>\n",
       "      <td>41667.000000</td>\n",
       "      <td>700.000000</td>\n",
       "      <td>480.00000</td>\n",
       "      <td>1.000000</td>\n",
       "    </tr>\n",
       "  </tbody>\n",
       "</table>\n",
       "</div>"
      ],
      "text/plain": [
       "       ApplicantIncome  CoapplicantIncome  LoanAmount  Loan_Amount_Term  \\\n",
       "count       614.000000         614.000000  592.000000         600.00000   \n",
       "mean       5403.459283        1621.245798  146.412162         342.00000   \n",
       "std        6109.041673        2926.248369   85.587325          65.12041   \n",
       "min         150.000000           0.000000    9.000000          12.00000   \n",
       "25%        2877.500000           0.000000  100.000000         360.00000   \n",
       "50%        3812.500000        1188.500000  128.000000         360.00000   \n",
       "75%        5795.000000        2297.250000  168.000000         360.00000   \n",
       "max       81000.000000       41667.000000  700.000000         480.00000   \n",
       "\n",
       "       Credit_History  \n",
       "count      564.000000  \n",
       "mean         0.842199  \n",
       "std          0.364878  \n",
       "min          0.000000  \n",
       "25%          1.000000  \n",
       "50%          1.000000  \n",
       "75%          1.000000  \n",
       "max          1.000000  "
      ]
     },
     "execution_count": 652,
     "metadata": {},
     "output_type": "execute_result"
    }
   ],
   "source": [
    "# describes numeric data\n",
    "df.describe()"
   ]
  },
  {
   "cell_type": "code",
   "execution_count": 653,
   "metadata": {},
   "outputs": [
    {
     "data": {
      "text/html": [
       "<div>\n",
       "<style scoped>\n",
       "    .dataframe tbody tr th:only-of-type {\n",
       "        vertical-align: middle;\n",
       "    }\n",
       "\n",
       "    .dataframe tbody tr th {\n",
       "        vertical-align: top;\n",
       "    }\n",
       "\n",
       "    .dataframe thead th {\n",
       "        text-align: right;\n",
       "    }\n",
       "</style>\n",
       "<table border=\"1\" class=\"dataframe\">\n",
       "  <thead>\n",
       "    <tr style=\"text-align: right;\">\n",
       "      <th></th>\n",
       "      <th>Loan_ID</th>\n",
       "      <th>Gender</th>\n",
       "      <th>Married</th>\n",
       "      <th>Dependents</th>\n",
       "      <th>Education</th>\n",
       "      <th>Self_Employed</th>\n",
       "      <th>Property_Area</th>\n",
       "      <th>Loan_Status</th>\n",
       "    </tr>\n",
       "  </thead>\n",
       "  <tbody>\n",
       "    <tr>\n",
       "      <td>count</td>\n",
       "      <td>614</td>\n",
       "      <td>601</td>\n",
       "      <td>611</td>\n",
       "      <td>599</td>\n",
       "      <td>614</td>\n",
       "      <td>582</td>\n",
       "      <td>614</td>\n",
       "      <td>614</td>\n",
       "    </tr>\n",
       "    <tr>\n",
       "      <td>unique</td>\n",
       "      <td>614</td>\n",
       "      <td>2</td>\n",
       "      <td>2</td>\n",
       "      <td>4</td>\n",
       "      <td>2</td>\n",
       "      <td>2</td>\n",
       "      <td>3</td>\n",
       "      <td>2</td>\n",
       "    </tr>\n",
       "    <tr>\n",
       "      <td>top</td>\n",
       "      <td>LP002158</td>\n",
       "      <td>Male</td>\n",
       "      <td>Yes</td>\n",
       "      <td>0</td>\n",
       "      <td>Graduate</td>\n",
       "      <td>No</td>\n",
       "      <td>Semiurban</td>\n",
       "      <td>Y</td>\n",
       "    </tr>\n",
       "    <tr>\n",
       "      <td>freq</td>\n",
       "      <td>1</td>\n",
       "      <td>489</td>\n",
       "      <td>398</td>\n",
       "      <td>345</td>\n",
       "      <td>480</td>\n",
       "      <td>500</td>\n",
       "      <td>233</td>\n",
       "      <td>422</td>\n",
       "    </tr>\n",
       "  </tbody>\n",
       "</table>\n",
       "</div>"
      ],
      "text/plain": [
       "         Loan_ID Gender Married Dependents Education Self_Employed  \\\n",
       "count        614    601     611        599       614           582   \n",
       "unique       614      2       2          4         2             2   \n",
       "top     LP002158   Male     Yes          0  Graduate            No   \n",
       "freq           1    489     398        345       480           500   \n",
       "\n",
       "       Property_Area Loan_Status  \n",
       "count            614         614  \n",
       "unique             3           2  \n",
       "top        Semiurban           Y  \n",
       "freq             233         422  "
      ]
     },
     "execution_count": 653,
     "metadata": {},
     "output_type": "execute_result"
    }
   ],
   "source": [
    "# describes categorical data\n",
    "df.describe(include='O')"
   ]
  },
  {
   "cell_type": "code",
   "execution_count": 654,
   "metadata": {},
   "outputs": [],
   "source": [
    "# Loan_ID is unique for each data point, so we can drop it\n",
    "df.drop('Loan_ID', axis=1, inplace=True)\n",
    "df_extended.drop('Loan_ID', axis=1, inplace=True)"
   ]
  },
  {
   "cell_type": "code",
   "execution_count": 655,
   "metadata": {},
   "outputs": [
    {
     "data": {
      "text/plain": [
       "Gender               13\n",
       "Married               3\n",
       "Dependents           15\n",
       "Education             0\n",
       "Self_Employed        32\n",
       "ApplicantIncome       0\n",
       "CoapplicantIncome     0\n",
       "LoanAmount           22\n",
       "Loan_Amount_Term     14\n",
       "Credit_History       50\n",
       "Property_Area         0\n",
       "Loan_Status           0\n",
       "dtype: int64"
      ]
     },
     "execution_count": 655,
     "metadata": {},
     "output_type": "execute_result"
    }
   ],
   "source": [
    "# null or missing values\n",
    "df.isnull().sum()"
   ]
  },
  {
   "cell_type": "code",
   "execution_count": 656,
   "metadata": {},
   "outputs": [],
   "source": [
    "# As we have some missing values, and our data is not a huge one,\n",
    "# we will try to use df_test to get corresponding filling values (mode, mean and etc.) \n",
    "# or in other words we will use concatenated 2 dataframes where it is possible."
   ]
  },
  {
   "cell_type": "code",
   "execution_count": 657,
   "metadata": {},
   "outputs": [
    {
     "data": {
      "text/html": [
       "<div>\n",
       "<style scoped>\n",
       "    .dataframe tbody tr th:only-of-type {\n",
       "        vertical-align: middle;\n",
       "    }\n",
       "\n",
       "    .dataframe tbody tr th {\n",
       "        vertical-align: top;\n",
       "    }\n",
       "\n",
       "    .dataframe thead th {\n",
       "        text-align: right;\n",
       "    }\n",
       "</style>\n",
       "<table border=\"1\" class=\"dataframe\">\n",
       "  <thead>\n",
       "    <tr style=\"text-align: right;\">\n",
       "      <th></th>\n",
       "      <th>ApplicantIncome</th>\n",
       "      <th>CoapplicantIncome</th>\n",
       "      <th>Credit_History</th>\n",
       "      <th>Dependents</th>\n",
       "      <th>Education</th>\n",
       "      <th>Gender</th>\n",
       "      <th>LoanAmount</th>\n",
       "      <th>Loan_Amount_Term</th>\n",
       "      <th>Loan_ID</th>\n",
       "      <th>Loan_Status</th>\n",
       "      <th>Married</th>\n",
       "      <th>Property_Area</th>\n",
       "      <th>Self_Employed</th>\n",
       "    </tr>\n",
       "  </thead>\n",
       "  <tbody>\n",
       "    <tr>\n",
       "      <td>0</td>\n",
       "      <td>5849</td>\n",
       "      <td>0.0</td>\n",
       "      <td>1.0</td>\n",
       "      <td>0</td>\n",
       "      <td>Graduate</td>\n",
       "      <td>Male</td>\n",
       "      <td>NaN</td>\n",
       "      <td>360.0</td>\n",
       "      <td>NaN</td>\n",
       "      <td>Y</td>\n",
       "      <td>No</td>\n",
       "      <td>Urban</td>\n",
       "      <td>No</td>\n",
       "    </tr>\n",
       "    <tr>\n",
       "      <td>1</td>\n",
       "      <td>4583</td>\n",
       "      <td>1508.0</td>\n",
       "      <td>1.0</td>\n",
       "      <td>1</td>\n",
       "      <td>Graduate</td>\n",
       "      <td>Male</td>\n",
       "      <td>128.0</td>\n",
       "      <td>360.0</td>\n",
       "      <td>NaN</td>\n",
       "      <td>N</td>\n",
       "      <td>Yes</td>\n",
       "      <td>Rural</td>\n",
       "      <td>No</td>\n",
       "    </tr>\n",
       "    <tr>\n",
       "      <td>2</td>\n",
       "      <td>3000</td>\n",
       "      <td>0.0</td>\n",
       "      <td>1.0</td>\n",
       "      <td>0</td>\n",
       "      <td>Graduate</td>\n",
       "      <td>Male</td>\n",
       "      <td>66.0</td>\n",
       "      <td>360.0</td>\n",
       "      <td>NaN</td>\n",
       "      <td>Y</td>\n",
       "      <td>Yes</td>\n",
       "      <td>Urban</td>\n",
       "      <td>Yes</td>\n",
       "    </tr>\n",
       "    <tr>\n",
       "      <td>3</td>\n",
       "      <td>2583</td>\n",
       "      <td>2358.0</td>\n",
       "      <td>1.0</td>\n",
       "      <td>0</td>\n",
       "      <td>Not Graduate</td>\n",
       "      <td>Male</td>\n",
       "      <td>120.0</td>\n",
       "      <td>360.0</td>\n",
       "      <td>NaN</td>\n",
       "      <td>Y</td>\n",
       "      <td>Yes</td>\n",
       "      <td>Urban</td>\n",
       "      <td>No</td>\n",
       "    </tr>\n",
       "    <tr>\n",
       "      <td>4</td>\n",
       "      <td>6000</td>\n",
       "      <td>0.0</td>\n",
       "      <td>1.0</td>\n",
       "      <td>0</td>\n",
       "      <td>Graduate</td>\n",
       "      <td>Male</td>\n",
       "      <td>141.0</td>\n",
       "      <td>360.0</td>\n",
       "      <td>NaN</td>\n",
       "      <td>Y</td>\n",
       "      <td>No</td>\n",
       "      <td>Urban</td>\n",
       "      <td>No</td>\n",
       "    </tr>\n",
       "  </tbody>\n",
       "</table>\n",
       "</div>"
      ],
      "text/plain": [
       "   ApplicantIncome  CoapplicantIncome  Credit_History Dependents  \\\n",
       "0             5849                0.0             1.0          0   \n",
       "1             4583             1508.0             1.0          1   \n",
       "2             3000                0.0             1.0          0   \n",
       "3             2583             2358.0             1.0          0   \n",
       "4             6000                0.0             1.0          0   \n",
       "\n",
       "      Education Gender  LoanAmount  Loan_Amount_Term Loan_ID Loan_Status  \\\n",
       "0      Graduate   Male         NaN             360.0     NaN           Y   \n",
       "1      Graduate   Male       128.0             360.0     NaN           N   \n",
       "2      Graduate   Male        66.0             360.0     NaN           Y   \n",
       "3  Not Graduate   Male       120.0             360.0     NaN           Y   \n",
       "4      Graduate   Male       141.0             360.0     NaN           Y   \n",
       "\n",
       "  Married Property_Area Self_Employed  \n",
       "0      No         Urban            No  \n",
       "1     Yes         Rural            No  \n",
       "2     Yes         Urban           Yes  \n",
       "3     Yes         Urban            No  \n",
       "4      No         Urban            No  "
      ]
     },
     "execution_count": 657,
     "metadata": {},
     "output_type": "execute_result"
    }
   ],
   "source": [
    "df_extended = pd.concat([df,df_test])\n",
    "df_extended.head()"
   ]
  },
  {
   "cell_type": "code",
   "execution_count": 658,
   "metadata": {},
   "outputs": [
    {
     "data": {
      "text/html": [
       "<div>\n",
       "<style scoped>\n",
       "    .dataframe tbody tr th:only-of-type {\n",
       "        vertical-align: middle;\n",
       "    }\n",
       "\n",
       "    .dataframe tbody tr th {\n",
       "        vertical-align: top;\n",
       "    }\n",
       "\n",
       "    .dataframe thead th {\n",
       "        text-align: right;\n",
       "    }\n",
       "</style>\n",
       "<table border=\"1\" class=\"dataframe\">\n",
       "  <thead>\n",
       "    <tr style=\"text-align: right;\">\n",
       "      <th></th>\n",
       "      <th>ApplicantIncome</th>\n",
       "      <th>CoapplicantIncome</th>\n",
       "      <th>Credit_History</th>\n",
       "      <th>LoanAmount</th>\n",
       "      <th>Loan_Amount_Term</th>\n",
       "    </tr>\n",
       "  </thead>\n",
       "  <tbody>\n",
       "    <tr>\n",
       "      <td>ApplicantIncome</td>\n",
       "      <td>1.000000</td>\n",
       "      <td>-0.114247</td>\n",
       "      <td>0.023378</td>\n",
       "      <td>0.551811</td>\n",
       "      <td>-0.023089</td>\n",
       "    </tr>\n",
       "    <tr>\n",
       "      <td>CoapplicantIncome</td>\n",
       "      <td>-0.114247</td>\n",
       "      <td>1.000000</td>\n",
       "      <td>-0.027253</td>\n",
       "      <td>0.179228</td>\n",
       "      <td>-0.043860</td>\n",
       "    </tr>\n",
       "    <tr>\n",
       "      <td>Credit_History</td>\n",
       "      <td>0.023378</td>\n",
       "      <td>-0.027253</td>\n",
       "      <td>1.000000</td>\n",
       "      <td>-0.008235</td>\n",
       "      <td>-0.020439</td>\n",
       "    </tr>\n",
       "    <tr>\n",
       "      <td>LoanAmount</td>\n",
       "      <td>0.551811</td>\n",
       "      <td>0.179228</td>\n",
       "      <td>-0.008235</td>\n",
       "      <td>1.000000</td>\n",
       "      <td>0.055636</td>\n",
       "    </tr>\n",
       "    <tr>\n",
       "      <td>Loan_Amount_Term</td>\n",
       "      <td>-0.023089</td>\n",
       "      <td>-0.043860</td>\n",
       "      <td>-0.020439</td>\n",
       "      <td>0.055636</td>\n",
       "      <td>1.000000</td>\n",
       "    </tr>\n",
       "  </tbody>\n",
       "</table>\n",
       "</div>"
      ],
      "text/plain": [
       "                   ApplicantIncome  CoapplicantIncome  Credit_History  \\\n",
       "ApplicantIncome           1.000000          -0.114247        0.023378   \n",
       "CoapplicantIncome        -0.114247           1.000000       -0.027253   \n",
       "Credit_History            0.023378          -0.027253        1.000000   \n",
       "LoanAmount                0.551811           0.179228       -0.008235   \n",
       "Loan_Amount_Term         -0.023089          -0.043860       -0.020439   \n",
       "\n",
       "                   LoanAmount  Loan_Amount_Term  \n",
       "ApplicantIncome      0.551811         -0.023089  \n",
       "CoapplicantIncome    0.179228         -0.043860  \n",
       "Credit_History      -0.008235         -0.020439  \n",
       "LoanAmount           1.000000          0.055636  \n",
       "Loan_Amount_Term     0.055636          1.000000  "
      ]
     },
     "execution_count": 658,
     "metadata": {},
     "output_type": "execute_result"
    }
   ],
   "source": [
    "df_extended.corr()"
   ]
  },
  {
   "cell_type": "markdown",
   "metadata": {},
   "source": [
    "### Filling missing data"
   ]
  },
  {
   "cell_type": "markdown",
   "metadata": {},
   "source": [
    "#### Married"
   ]
  },
  {
   "cell_type": "code",
   "execution_count": 659,
   "metadata": {},
   "outputs": [
    {
     "data": {
      "text/plain": [
       "'Yes'"
      ]
     },
     "execution_count": 659,
     "metadata": {},
     "output_type": "execute_result"
    }
   ],
   "source": [
    "df_extended['Married'].value_counts().index[0]"
   ]
  },
  {
   "cell_type": "code",
   "execution_count": 660,
   "metadata": {},
   "outputs": [
    {
     "data": {
      "text/plain": [
       "'Yes'"
      ]
     },
     "execution_count": 660,
     "metadata": {},
     "output_type": "execute_result"
    }
   ],
   "source": [
    "df_extended['Married'].mode()[0]"
   ]
  },
  {
   "cell_type": "code",
   "execution_count": 661,
   "metadata": {},
   "outputs": [
    {
     "data": {
      "text/plain": [
       "3"
      ]
     },
     "execution_count": 661,
     "metadata": {},
     "output_type": "execute_result"
    }
   ],
   "source": [
    "df_extended['Married'].isnull().sum()"
   ]
  },
  {
   "cell_type": "code",
   "execution_count": 662,
   "metadata": {},
   "outputs": [
    {
     "data": {
      "text/plain": [
       "614"
      ]
     },
     "execution_count": 662,
     "metadata": {},
     "output_type": "execute_result"
    }
   ],
   "source": [
    "len(df['Married'])"
   ]
  },
  {
   "cell_type": "code",
   "execution_count": 663,
   "metadata": {},
   "outputs": [
    {
     "data": {
      "text/plain": [
       "611"
      ]
     },
     "execution_count": 663,
     "metadata": {},
     "output_type": "execute_result"
    }
   ],
   "source": [
    "notna_married = df[df['Married'].notna()]\n",
    "len(notna_married)"
   ]
  },
  {
   "cell_type": "code",
   "execution_count": 664,
   "metadata": {},
   "outputs": [
    {
     "name": "stdout",
     "output_type": "stream",
     "text": [
      "Y    134\n",
      "N     79\n",
      "Name: Loan_Status, dtype: int64\n",
      "Y    285\n",
      "N    113\n",
      "Name: Loan_Status, dtype: int64\n"
     ]
    }
   ],
   "source": [
    "marr_no = notna_married[notna_married['Married']=='No']['Loan_Status'].value_counts()\n",
    "marr_yes = notna_married[notna_married['Married']=='Yes']['Loan_Status'].value_counts()\n",
    "print(marr_no)\n",
    "print(marr_yes)"
   ]
  },
  {
   "cell_type": "code",
   "execution_count": 665,
   "metadata": {},
   "outputs": [
    {
     "data": {
      "image/png": "[encoded data removed]",
      "text/plain": [
       "<Figure size 432x288 with 1 Axes>"
      ]
     },
     "metadata": {
      "needs_background": "light"
     },
     "output_type": "display_data"
    }
   ],
   "source": [
    "width = 0.4\n",
    "labels = ['Yes', 'No']\n",
    "x = np.arange(len(df['Loan_Status'].value_counts()))\n",
    "plt.bar(x-0.2, marr_no, width=width, label='No')\n",
    "plt.bar(x+0.2, marr_yes, width, label='Yes')\n",
    "plt.legend(title=\"Married\")\n",
    "plt.xlabel('Loan Status')\n",
    "plt.ylabel('Count')\n",
    "plt.xticks(ticks=x, labels=labels)\n",
    "plt.show()"
   ]
  },
  {
   "cell_type": "code",
   "execution_count": 666,
   "metadata": {},
   "outputs": [],
   "source": [
    "# We can see that married applicants 'Loan Status' = 'Yes' proportion is higher than not married,\n",
    "# so we decide to use weighted filling."
   ]
  },
  {
   "cell_type": "code",
   "execution_count": 667,
   "metadata": {},
   "outputs": [
    {
     "data": {
      "text/plain": [
       "'Yes'"
      ]
     },
     "execution_count": 667,
     "metadata": {},
     "output_type": "execute_result"
    }
   ],
   "source": [
    "df['Married'].mode()[0]"
   ]
  },
  {
   "cell_type": "code",
   "execution_count": 668,
   "metadata": {},
   "outputs": [
    {
     "data": {
      "text/plain": [
       "398"
      ]
     },
     "execution_count": 668,
     "metadata": {},
     "output_type": "execute_result"
    }
   ],
   "source": [
    "count_yes, count_no = df['Married'].value_counts()\n",
    "count_yes"
   ]
  },
  {
   "cell_type": "code",
   "execution_count": 669,
   "metadata": {},
   "outputs": [
    {
     "data": {
      "text/plain": [
       "0.65"
      ]
     },
     "execution_count": 669,
     "metadata": {},
     "output_type": "execute_result"
    }
   ],
   "source": [
    "weight_yes = np.round(count_yes/(count_yes+count_no),2)\n",
    "weight_yes"
   ]
  },
  {
   "cell_type": "code",
   "execution_count": 670,
   "metadata": {},
   "outputs": [
    {
     "data": {
      "text/plain": [
       "'No'"
      ]
     },
     "execution_count": 670,
     "metadata": {},
     "output_type": "execute_result"
    }
   ],
   "source": [
    "np.random.choice(['Yes', 'No'], p=[weight_yes, 1-weight_yes])"
   ]
  },
  {
   "cell_type": "code",
   "execution_count": 671,
   "metadata": {},
   "outputs": [
    {
     "data": {
      "text/plain": [
       "0"
      ]
     },
     "execution_count": 671,
     "metadata": {},
     "output_type": "execute_result"
    }
   ],
   "source": [
    "df['Married']=df['Married'].fillna(np.random.choice(['Yes', 'No'], p=[weight_yes, 1-weight_yes]))\n",
    "df['Married'].isnull().sum()"
   ]
  },
  {
   "cell_type": "code",
   "execution_count": 672,
   "metadata": {},
   "outputs": [
    {
     "data": {
      "text/plain": [
       "0"
      ]
     },
     "execution_count": 672,
     "metadata": {},
     "output_type": "execute_result"
    }
   ],
   "source": [
    "df['Married'].isnull().sum()"
   ]
  },
  {
   "cell_type": "markdown",
   "metadata": {},
   "source": [
    "#### LoanAmount"
   ]
  },
  {
   "cell_type": "code",
   "execution_count": 673,
   "metadata": {},
   "outputs": [
    {
     "data": {
      "text/plain": [
       "22"
      ]
     },
     "execution_count": 673,
     "metadata": {},
     "output_type": "execute_result"
    }
   ],
   "source": [
    "df['LoanAmount'].isnull().sum()"
   ]
  },
  {
   "cell_type": "code",
   "execution_count": 674,
   "metadata": {},
   "outputs": [
    {
     "data": {
      "text/plain": [
       "1      128.0\n",
       "2       66.0\n",
       "3      120.0\n",
       "4      141.0\n",
       "5      267.0\n",
       "       ...  \n",
       "362    113.0\n",
       "363    115.0\n",
       "364    126.0\n",
       "365    158.0\n",
       "366     98.0\n",
       "Name: LoanAmount, Length: 954, dtype: float64"
      ]
     },
     "execution_count": 674,
     "metadata": {},
     "output_type": "execute_result"
    }
   ],
   "source": [
    "loan_am_df_ext_notna_mask = pd.notna(df_extended['LoanAmount'])\n",
    "loan_am = df_extended['LoanAmount']\n",
    "loan_am_df_ext_notna = loan_am[loan_am_df_ext_notna_mask]\n",
    "loan_am_df_ext_notna"
   ]
  },
  {
   "cell_type": "code",
   "execution_count": 675,
   "metadata": {},
   "outputs": [
    {
     "data": {
      "text/plain": [
       "<matplotlib.collections.PathCollection at 0x21503ccfe88>"
      ]
     },
     "execution_count": 675,
     "metadata": {},
     "output_type": "execute_result"
    },
    {
     "data": {
      "image/png": "[encoded data removed]",
      "text/plain": [
       "<Figure size 432x288 with 1 Axes>"
      ]
     },
     "metadata": {
      "needs_background": "light"
     },
     "output_type": "display_data"
    }
   ],
   "source": [
    "ind_loan_am_df_ext_notna = range(len(loan_am_df_ext_notna))\n",
    "plt.scatter(ind_loan_am_df_ext_notna,loan_am_df_ext_notna)"
   ]
  },
  {
   "cell_type": "code",
   "execution_count": 676,
   "metadata": {},
   "outputs": [],
   "source": [
    "# LoanAmount was affected by outliers, so to fill nan values we will use median instead of mean."
   ]
  },
  {
   "cell_type": "code",
   "execution_count": 677,
   "metadata": {},
   "outputs": [
    {
     "data": {
      "text/plain": [
       "142.51153039832286"
      ]
     },
     "execution_count": 677,
     "metadata": {},
     "output_type": "execute_result"
    }
   ],
   "source": [
    "df_extended['LoanAmount'].mean()"
   ]
  },
  {
   "cell_type": "code",
   "execution_count": 678,
   "metadata": {},
   "outputs": [
    {
     "data": {
      "text/plain": [
       "126.0"
      ]
     },
     "execution_count": 678,
     "metadata": {},
     "output_type": "execute_result"
    }
   ],
   "source": [
    "df_extended['LoanAmount'].median()"
   ]
  },
  {
   "cell_type": "code",
   "execution_count": 679,
   "metadata": {},
   "outputs": [
    {
     "data": {
      "text/plain": [
       "128.0"
      ]
     },
     "execution_count": 679,
     "metadata": {},
     "output_type": "execute_result"
    }
   ],
   "source": [
    "df['LoanAmount'].median()"
   ]
  },
  {
   "cell_type": "code",
   "execution_count": 680,
   "metadata": {},
   "outputs": [
    {
     "data": {
      "text/plain": [
       "0"
      ]
     },
     "execution_count": 680,
     "metadata": {},
     "output_type": "execute_result"
    }
   ],
   "source": [
    "df['LoanAmount']=df['LoanAmount'].fillna(df_extended['LoanAmount'].median())\n",
    "df['LoanAmount'].isnull().sum()"
   ]
  },
  {
   "cell_type": "markdown",
   "metadata": {},
   "source": [
    "#### Self_Employed"
   ]
  },
  {
   "cell_type": "code",
   "execution_count": 681,
   "metadata": {},
   "outputs": [
    {
     "data": {
      "text/plain": [
       "55"
      ]
     },
     "execution_count": 681,
     "metadata": {},
     "output_type": "execute_result"
    }
   ],
   "source": [
    "df_extended['Self_Employed'].isnull().sum()"
   ]
  },
  {
   "cell_type": "code",
   "execution_count": 682,
   "metadata": {},
   "outputs": [
    {
     "data": {
      "text/plain": [
       "32"
      ]
     },
     "execution_count": 682,
     "metadata": {},
     "output_type": "execute_result"
    }
   ],
   "source": [
    "df['Self_Employed'].isnull().sum()"
   ]
  },
  {
   "cell_type": "code",
   "execution_count": 683,
   "metadata": {},
   "outputs": [
    {
     "name": "stdout",
     "output_type": "stream",
     "text": [
      "No     500\n",
      "Yes     82\n",
      "Name: Self_Employed, dtype: int64\n"
     ]
    },
    {
     "data": {
      "text/plain": [
       "582"
      ]
     },
     "execution_count": 683,
     "metadata": {},
     "output_type": "execute_result"
    }
   ],
   "source": [
    "notna_self_emp = df[df['Self_Employed'].notna()]\n",
    "print(df['Self_Employed'].value_counts())\n",
    "len(notna_self_emp)"
   ]
  },
  {
   "cell_type": "code",
   "execution_count": 684,
   "metadata": {},
   "outputs": [
    {
     "name": "stdout",
     "output_type": "stream",
     "text": [
      "Y    343\n",
      "N    157\n",
      "Name: Loan_Status, dtype: int64\n",
      "Y    56\n",
      "N    26\n",
      "Name: Loan_Status, dtype: int64\n"
     ]
    }
   ],
   "source": [
    "self_emp_no = notna_self_emp[notna_self_emp['Self_Employed']=='No']['Loan_Status'].value_counts()\n",
    "self_emp_yes = notna_self_emp[notna_self_emp['Self_Employed']=='Yes']['Loan_Status'].value_counts()\n",
    "print(self_emp_no)\n",
    "print(self_emp_yes)"
   ]
  },
  {
   "cell_type": "code",
   "execution_count": 685,
   "metadata": {},
   "outputs": [
    {
     "data": {
      "image/png": "[encoded data removed]",
      "text/plain": [
       "<Figure size 432x288 with 1 Axes>"
      ]
     },
     "metadata": {
      "needs_background": "light"
     },
     "output_type": "display_data"
    }
   ],
   "source": [
    "width = 0.4\n",
    "labels = ['Yes', 'No']\n",
    "x = np.arange(len(df['Loan_Status'].value_counts()))\n",
    "plt.bar(x-0.2, self_emp_no, width=width, label='No')\n",
    "plt.bar(x+0.2, self_emp_yes, width, label='Yes')\n",
    "plt.legend(title=\"Self_Employed\")\n",
    "plt.xlabel('Loan Status')\n",
    "plt.ylabel('Count')\n",
    "plt.xticks(ticks=x, labels=labels)\n",
    "plt.show()"
   ]
  },
  {
   "cell_type": "code",
   "execution_count": 686,
   "metadata": {},
   "outputs": [
    {
     "data": {
      "text/plain": [
       "Y    343\n",
       "N    157\n",
       "Name: Loan_Status, dtype: int64"
      ]
     },
     "execution_count": 686,
     "metadata": {},
     "output_type": "execute_result"
    }
   ],
   "source": [
    "self_emp_no"
   ]
  },
  {
   "cell_type": "code",
   "execution_count": 687,
   "metadata": {},
   "outputs": [
    {
     "data": {
      "text/plain": [
       "85.79234972677595"
      ]
     },
     "execution_count": 687,
     "metadata": {},
     "output_type": "execute_result"
    }
   ],
   "source": [
    "# percentage of 'Loan Status' == No in the group of applicants with 'Self_employed' == 'No'.\n",
    "self_emp_no[1]/(self_emp_no[1]+self_emp_yes[1]) * 100"
   ]
  },
  {
   "cell_type": "code",
   "execution_count": 688,
   "metadata": {},
   "outputs": [
    {
     "data": {
      "text/plain": [
       "85.96491228070175"
      ]
     },
     "execution_count": 688,
     "metadata": {},
     "output_type": "execute_result"
    }
   ],
   "source": [
    "# percentage of 'Loan Status' == No in the group of applicants with 'Self_employed' == 'Yes'.\n",
    "self_emp_no[0]/(self_emp_no[0]+self_emp_yes[0]) * 100"
   ]
  },
  {
   "cell_type": "code",
   "execution_count": 689,
   "metadata": {},
   "outputs": [],
   "source": [
    "# As there is not obvious distinguish between 'Loan_Status' == 'Y' and 'N' proportions, we will fill it with the feature mode."
   ]
  },
  {
   "cell_type": "code",
   "execution_count": 690,
   "metadata": {},
   "outputs": [
    {
     "data": {
      "text/plain": [
       "0    No\n",
       "dtype: object"
      ]
     },
     "execution_count": 690,
     "metadata": {},
     "output_type": "execute_result"
    }
   ],
   "source": [
    "df_extended['Self_Employed'].mode()"
   ]
  },
  {
   "cell_type": "code",
   "execution_count": 691,
   "metadata": {},
   "outputs": [
    {
     "data": {
      "text/plain": [
       "0"
      ]
     },
     "execution_count": 691,
     "metadata": {},
     "output_type": "execute_result"
    }
   ],
   "source": [
    "df['Self_Employed']=df['Self_Employed'].fillna(df_extended['Self_Employed'].mode()[0])\n",
    "df['Self_Employed'].isna().sum()"
   ]
  },
  {
   "cell_type": "code",
   "execution_count": 692,
   "metadata": {},
   "outputs": [
    {
     "data": {
      "text/plain": [
       "No     532\n",
       "Yes     82\n",
       "Name: Self_Employed, dtype: int64"
      ]
     },
     "execution_count": 692,
     "metadata": {},
     "output_type": "execute_result"
    }
   ],
   "source": [
    "df['Self_Employed'].value_counts()"
   ]
  },
  {
   "cell_type": "code",
   "execution_count": 693,
   "metadata": {},
   "outputs": [
    {
     "data": {
      "text/plain": [
       "'No'"
      ]
     },
     "execution_count": 693,
     "metadata": {},
     "output_type": "execute_result"
    }
   ],
   "source": [
    "df_extended['Self_Employed'].mode()[0]"
   ]
  },
  {
   "cell_type": "markdown",
   "metadata": {},
   "source": [
    "#### Loan_Amount_Term"
   ]
  },
  {
   "cell_type": "code",
   "execution_count": 694,
   "metadata": {},
   "outputs": [
    {
     "data": {
      "text/plain": [
       "20"
      ]
     },
     "execution_count": 694,
     "metadata": {},
     "output_type": "execute_result"
    }
   ],
   "source": [
    "df_extended['Loan_Amount_Term'].isnull().sum()"
   ]
  },
  {
   "cell_type": "code",
   "execution_count": 695,
   "metadata": {},
   "outputs": [
    {
     "data": {
      "text/plain": [
       "14"
      ]
     },
     "execution_count": 695,
     "metadata": {},
     "output_type": "execute_result"
    }
   ],
   "source": [
    "df['Loan_Amount_Term'].isnull().sum()"
   ]
  },
  {
   "cell_type": "code",
   "execution_count": 696,
   "metadata": {},
   "outputs": [
    {
     "data": {
      "text/plain": [
       "360.0    823\n",
       "180.0     66\n",
       "480.0     23\n",
       "300.0     20\n",
       "240.0      8\n",
       "84.0       7\n",
       "120.0      4\n",
       "36.0       3\n",
       "60.0       3\n",
       "12.0       2\n",
       "350.0      1\n",
       "6.0        1\n",
       "Name: Loan_Amount_Term, dtype: int64"
      ]
     },
     "execution_count": 696,
     "metadata": {},
     "output_type": "execute_result"
    }
   ],
   "source": [
    "df_extended['Loan_Amount_Term'].value_counts()"
   ]
  },
  {
   "cell_type": "code",
   "execution_count": 697,
   "metadata": {},
   "outputs": [
    {
     "data": {
      "text/plain": [
       "360.0"
      ]
     },
     "execution_count": 697,
     "metadata": {},
     "output_type": "execute_result"
    }
   ],
   "source": [
    "df_extended['Loan_Amount_Term'].median()"
   ]
  },
  {
   "cell_type": "code",
   "execution_count": 698,
   "metadata": {},
   "outputs": [],
   "source": [
    "# For a financial sector if a loan term is not defined (long term, short term) it treated as short term (<=360),\n",
    "# so we will use that approach and will fill empty values with '360' or with the feature mode which is the same '360'."
   ]
  },
  {
   "cell_type": "code",
   "execution_count": 699,
   "metadata": {},
   "outputs": [
    {
     "data": {
      "text/plain": [
       "numpy.float64"
      ]
     },
     "execution_count": 699,
     "metadata": {},
     "output_type": "execute_result"
    }
   ],
   "source": [
    "type(df_extended['Loan_Amount_Term'].mode()[0])"
   ]
  },
  {
   "cell_type": "code",
   "execution_count": 700,
   "metadata": {},
   "outputs": [
    {
     "data": {
      "text/plain": [
       "0"
      ]
     },
     "execution_count": 700,
     "metadata": {},
     "output_type": "execute_result"
    }
   ],
   "source": [
    "df['Loan_Amount_Term']=df['Loan_Amount_Term'].fillna(df_extended['Loan_Amount_Term'].mode()[0])\n",
    "df['Loan_Amount_Term'].isna().sum()"
   ]
  },
  {
   "cell_type": "markdown",
   "metadata": {},
   "source": [
    "#### Credit_History        "
   ]
  },
  {
   "cell_type": "code",
   "execution_count": 701,
   "metadata": {},
   "outputs": [
    {
     "data": {
      "text/plain": [
       "0      1.0\n",
       "1      1.0\n",
       "2      1.0\n",
       "3      1.0\n",
       "4      1.0\n",
       "      ... \n",
       "609    1.0\n",
       "610    1.0\n",
       "611    1.0\n",
       "612    1.0\n",
       "613    0.0\n",
       "Name: Credit_History, Length: 614, dtype: float64"
      ]
     },
     "execution_count": 701,
     "metadata": {},
     "output_type": "execute_result"
    }
   ],
   "source": [
    "df[\"Credit_History\"]"
   ]
  },
  {
   "cell_type": "code",
   "execution_count": 702,
   "metadata": {},
   "outputs": [
    {
     "data": {
      "text/plain": [
       "0      1.0\n",
       "1      1.0\n",
       "2      1.0\n",
       "3      1.0\n",
       "4      1.0\n",
       "      ... \n",
       "609    1.0\n",
       "610    1.0\n",
       "611    1.0\n",
       "612    1.0\n",
       "613    0.0\n",
       "Name: Credit_History, Length: 614, dtype: float64"
      ]
     },
     "execution_count": 702,
     "metadata": {},
     "output_type": "execute_result"
    }
   ],
   "source": [
    "df['Credit_History'].astype('float')"
   ]
  },
  {
   "cell_type": "code",
   "execution_count": 703,
   "metadata": {},
   "outputs": [
    {
     "data": {
      "text/plain": [
       "79"
      ]
     },
     "execution_count": 703,
     "metadata": {},
     "output_type": "execute_result"
    }
   ],
   "source": [
    "df_extended['Credit_History'].isnull().sum()"
   ]
  },
  {
   "cell_type": "code",
   "execution_count": 704,
   "metadata": {},
   "outputs": [
    {
     "data": {
      "text/plain": [
       "50"
      ]
     },
     "execution_count": 704,
     "metadata": {},
     "output_type": "execute_result"
    }
   ],
   "source": [
    "df['Credit_History'].isnull().sum()"
   ]
  },
  {
   "cell_type": "code",
   "execution_count": 705,
   "metadata": {},
   "outputs": [
    {
     "name": "stdout",
     "output_type": "stream",
     "text": [
      "1.0    475\n",
      "0.0     89\n",
      "Name: Credit_History, dtype: int64\n"
     ]
    },
    {
     "data": {
      "text/plain": [
       "564"
      ]
     },
     "execution_count": 705,
     "metadata": {},
     "output_type": "execute_result"
    }
   ],
   "source": [
    "notna_cred_hist = df[df['Credit_History'].notna()]\n",
    "print(df['Credit_History'].value_counts())\n",
    "len(notna_cred_hist)"
   ]
  },
  {
   "cell_type": "code",
   "execution_count": 706,
   "metadata": {},
   "outputs": [
    {
     "data": {
      "text/plain": [
       "1.0    475\n",
       "0.0     89\n",
       "Name: Credit_History, dtype: int64"
      ]
     },
     "execution_count": 706,
     "metadata": {},
     "output_type": "execute_result"
    }
   ],
   "source": [
    "df['Credit_History'].value_counts()"
   ]
  },
  {
   "cell_type": "code",
   "execution_count": 707,
   "metadata": {},
   "outputs": [
    {
     "data": {
      "text/plain": [
       "1.0    754\n",
       "0.0    148\n",
       "Name: Credit_History, dtype: int64"
      ]
     },
     "execution_count": 707,
     "metadata": {},
     "output_type": "execute_result"
    }
   ],
   "source": [
    "df_extended['Credit_History'].value_counts()"
   ]
  },
  {
   "cell_type": "code",
   "execution_count": 708,
   "metadata": {},
   "outputs": [
    {
     "name": "stdout",
     "output_type": "stream",
     "text": [
      "Y     7\n",
      "N    82\n",
      "Name: Loan_Status, dtype: int64\n",
      "Y    378\n",
      "N     97\n",
      "Name: Loan_Status, dtype: int64\n",
      "Y     7\n",
      "N    82\n",
      "Name: Loan_Status, dtype: int64\n"
     ]
    }
   ],
   "source": [
    "cred_hist_no = notna_cred_hist[notna_cred_hist['Credit_History']==0]['Loan_Status'].value_counts()\n",
    "cred_hist_yes = notna_cred_hist[notna_cred_hist['Credit_History']==1]['Loan_Status'].value_counts()\n",
    "print(cred_hist_no[::-1])\n",
    "print(cred_hist_yes)\n",
    "cred_hist_no = cred_hist_no[::-1]\n",
    "print(cred_hist_no)"
   ]
  },
  {
   "cell_type": "code",
   "execution_count": 709,
   "metadata": {},
   "outputs": [
    {
     "data": {
      "image/png": "[encoded data removed]",
      "text/plain": [
       "<Figure size 432x288 with 1 Axes>"
      ]
     },
     "metadata": {
      "needs_background": "light"
     },
     "output_type": "display_data"
    }
   ],
   "source": [
    "width = 0.4\n",
    "labels = ['Yes', 'No']\n",
    "x = np.arange(len(df['Loan_Status'].value_counts()))\n",
    "plt.bar(x-0.2, cred_hist_no, width=width, label='No')\n",
    "plt.bar(x+0.2, cred_hist_yes, width, label='Yes')\n",
    "plt.legend(title=\"Credit History\")\n",
    "plt.xlabel('Loan Status')\n",
    "plt.ylabel('Count')\n",
    "plt.xticks(ticks=x, labels=labels)\n",
    "plt.show()"
   ]
  },
  {
   "cell_type": "code",
   "execution_count": 710,
   "metadata": {},
   "outputs": [
    {
     "data": {
      "text/plain": [
       "45.81005586592179"
      ]
     },
     "execution_count": 710,
     "metadata": {},
     "output_type": "execute_result"
    }
   ],
   "source": [
    "# percentage of 'Loan Status' == No in the group of applicants that have not 'Credit History'.\n",
    "cred_hist_no[1]/(cred_hist_no[1]+cred_hist_yes[1]) * 100"
   ]
  },
  {
   "cell_type": "code",
   "execution_count": 711,
   "metadata": {},
   "outputs": [
    {
     "data": {
      "text/plain": [
       "1.8181818181818181"
      ]
     },
     "execution_count": 711,
     "metadata": {},
     "output_type": "execute_result"
    }
   ],
   "source": [
    "# percentage of 'Loan Status' == No in the group of applicants that have 'Credit History'.\n",
    "cred_hist_no[0]/(cred_hist_no[0]+cred_hist_yes[0]) * 100"
   ]
  },
  {
   "cell_type": "code",
   "execution_count": 712,
   "metadata": {},
   "outputs": [],
   "source": [
    "# As plot shows applicants that have not a 'Credit History' have approximately equal chances to receive a loan\n",
    "# But the situation is different when applicant has 'Credit History'."
   ]
  },
  {
   "cell_type": "code",
   "execution_count": 713,
   "metadata": {},
   "outputs": [
    {
     "data": {
      "text/html": [
       "<div>\n",
       "<style scoped>\n",
       "    .dataframe tbody tr th:only-of-type {\n",
       "        vertical-align: middle;\n",
       "    }\n",
       "\n",
       "    .dataframe tbody tr th {\n",
       "        vertical-align: top;\n",
       "    }\n",
       "\n",
       "    .dataframe thead th {\n",
       "        text-align: right;\n",
       "    }\n",
       "</style>\n",
       "<table border=\"1\" class=\"dataframe\">\n",
       "  <thead>\n",
       "    <tr style=\"text-align: right;\">\n",
       "      <th></th>\n",
       "      <th>Gender</th>\n",
       "      <th>Married</th>\n",
       "      <th>Dependents</th>\n",
       "      <th>Education</th>\n",
       "      <th>Self_Employed</th>\n",
       "      <th>ApplicantIncome</th>\n",
       "      <th>CoapplicantIncome</th>\n",
       "      <th>LoanAmount</th>\n",
       "      <th>Loan_Amount_Term</th>\n",
       "      <th>Credit_History</th>\n",
       "      <th>Property_Area</th>\n",
       "      <th>Loan_Status</th>\n",
       "    </tr>\n",
       "  </thead>\n",
       "  <tbody>\n",
       "    <tr>\n",
       "      <td>16</td>\n",
       "      <td>Male</td>\n",
       "      <td>No</td>\n",
       "      <td>1</td>\n",
       "      <td>Not Graduate</td>\n",
       "      <td>No</td>\n",
       "      <td>3596</td>\n",
       "      <td>0.0</td>\n",
       "      <td>100.0</td>\n",
       "      <td>240.0</td>\n",
       "      <td>NaN</td>\n",
       "      <td>Urban</td>\n",
       "      <td>Y</td>\n",
       "    </tr>\n",
       "    <tr>\n",
       "      <td>42</td>\n",
       "      <td>Male</td>\n",
       "      <td>Yes</td>\n",
       "      <td>0</td>\n",
       "      <td>Graduate</td>\n",
       "      <td>No</td>\n",
       "      <td>2400</td>\n",
       "      <td>0.0</td>\n",
       "      <td>75.0</td>\n",
       "      <td>360.0</td>\n",
       "      <td>NaN</td>\n",
       "      <td>Urban</td>\n",
       "      <td>Y</td>\n",
       "    </tr>\n",
       "    <tr>\n",
       "      <td>79</td>\n",
       "      <td>Male</td>\n",
       "      <td>Yes</td>\n",
       "      <td>3+</td>\n",
       "      <td>Not Graduate</td>\n",
       "      <td>Yes</td>\n",
       "      <td>3333</td>\n",
       "      <td>2166.0</td>\n",
       "      <td>130.0</td>\n",
       "      <td>360.0</td>\n",
       "      <td>NaN</td>\n",
       "      <td>Semiurban</td>\n",
       "      <td>Y</td>\n",
       "    </tr>\n",
       "    <tr>\n",
       "      <td>86</td>\n",
       "      <td>Male</td>\n",
       "      <td>Yes</td>\n",
       "      <td>2</td>\n",
       "      <td>Not Graduate</td>\n",
       "      <td>No</td>\n",
       "      <td>3333</td>\n",
       "      <td>2000.0</td>\n",
       "      <td>99.0</td>\n",
       "      <td>360.0</td>\n",
       "      <td>NaN</td>\n",
       "      <td>Semiurban</td>\n",
       "      <td>Y</td>\n",
       "    </tr>\n",
       "    <tr>\n",
       "      <td>117</td>\n",
       "      <td>Male</td>\n",
       "      <td>Yes</td>\n",
       "      <td>1</td>\n",
       "      <td>Graduate</td>\n",
       "      <td>No</td>\n",
       "      <td>2214</td>\n",
       "      <td>1398.0</td>\n",
       "      <td>85.0</td>\n",
       "      <td>360.0</td>\n",
       "      <td>NaN</td>\n",
       "      <td>Urban</td>\n",
       "      <td>Y</td>\n",
       "    </tr>\n",
       "  </tbody>\n",
       "</table>\n",
       "</div>"
      ],
      "text/plain": [
       "    Gender Married Dependents     Education Self_Employed  ApplicantIncome  \\\n",
       "16    Male      No          1  Not Graduate            No             3596   \n",
       "42    Male     Yes          0      Graduate            No             2400   \n",
       "79    Male     Yes         3+  Not Graduate           Yes             3333   \n",
       "86    Male     Yes          2  Not Graduate            No             3333   \n",
       "117   Male     Yes          1      Graduate            No             2214   \n",
       "\n",
       "     CoapplicantIncome  LoanAmount  Loan_Amount_Term  Credit_History  \\\n",
       "16                 0.0       100.0             240.0             NaN   \n",
       "42                 0.0        75.0             360.0             NaN   \n",
       "79              2166.0       130.0             360.0             NaN   \n",
       "86              2000.0        99.0             360.0             NaN   \n",
       "117             1398.0        85.0             360.0             NaN   \n",
       "\n",
       "    Property_Area Loan_Status  \n",
       "16          Urban           Y  \n",
       "42          Urban           Y  \n",
       "79      Semiurban           Y  \n",
       "86      Semiurban           Y  \n",
       "117         Urban           Y  "
      ]
     },
     "execution_count": 713,
     "metadata": {},
     "output_type": "execute_result"
    }
   ],
   "source": [
    "df.loc[(df['Credit_History'].isna()) & (df['Loan_Status'] == 'Y')].head()"
   ]
  },
  {
   "cell_type": "code",
   "execution_count": 714,
   "metadata": {},
   "outputs": [
    {
     "data": {
      "text/plain": [
       "1.0    475\n",
       "0.0     89\n",
       "Name: Credit_History, dtype: int64"
      ]
     },
     "execution_count": 714,
     "metadata": {},
     "output_type": "execute_result"
    }
   ],
   "source": [
    "df['Credit_History'].value_counts()"
   ]
  },
  {
   "cell_type": "code",
   "execution_count": 715,
   "metadata": {},
   "outputs": [],
   "source": [
    "# If 'Loan_Status' == 'Y' --> 'Credit_History' = 1\n",
    "df.loc[(df['Credit_History'].isna()) & (df['Loan_Status'] == 'Y'),'Credit_History'] = 1.0"
   ]
  },
  {
   "cell_type": "code",
   "execution_count": 716,
   "metadata": {},
   "outputs": [
    {
     "data": {
      "text/plain": [
       "1.0    512\n",
       "0.0     89\n",
       "Name: Credit_History, dtype: int64"
      ]
     },
     "execution_count": 716,
     "metadata": {},
     "output_type": "execute_result"
    }
   ],
   "source": [
    "df['Credit_History'].value_counts()"
   ]
  },
  {
   "cell_type": "code",
   "execution_count": 717,
   "metadata": {},
   "outputs": [
    {
     "data": {
      "text/plain": [
       "13"
      ]
     },
     "execution_count": 717,
     "metadata": {},
     "output_type": "execute_result"
    }
   ],
   "source": [
    "df['Credit_History'].isna().sum()"
   ]
  },
  {
   "cell_type": "code",
   "execution_count": 718,
   "metadata": {},
   "outputs": [
    {
     "data": {
      "text/plain": [
       "0.46"
      ]
     },
     "execution_count": 718,
     "metadata": {},
     "output_type": "execute_result"
    }
   ],
   "source": [
    "weight_no = np.round(cred_hist_no[1]/(cred_hist_no[1]+cred_hist_yes[1]),2)\n",
    "weight_no"
   ]
  },
  {
   "cell_type": "code",
   "execution_count": 719,
   "metadata": {},
   "outputs": [],
   "source": [
    "# If 'Loan_Status' == 'N' --> 'Credit_History' will be filled by randomly choozen values \"Y\" and \"N\"\n",
    "# with appropriate probabilities.\n",
    "df.loc[(df['Credit_History'].isna()) & (df['Loan_Status'] == 'N'),'Credit_History'] = np.random.choice(\n",
    "    [1.0, 0.0], p=[1-weight_no, weight_no]\n",
    ")"
   ]
  },
  {
   "cell_type": "code",
   "execution_count": 720,
   "metadata": {},
   "outputs": [
    {
     "data": {
      "text/plain": [
       "0"
      ]
     },
     "execution_count": 720,
     "metadata": {},
     "output_type": "execute_result"
    }
   ],
   "source": [
    "df['Credit_History'].isna().sum()"
   ]
  },
  {
   "cell_type": "code",
   "execution_count": 721,
   "metadata": {},
   "outputs": [
    {
     "data": {
      "text/plain": [
       "dtype('float64')"
      ]
     },
     "execution_count": 721,
     "metadata": {},
     "output_type": "execute_result"
    }
   ],
   "source": [
    "df['Credit_History'].dtype"
   ]
  },
  {
   "cell_type": "code",
   "execution_count": 722,
   "metadata": {},
   "outputs": [
    {
     "data": {
      "text/plain": [
       "1.0    512\n",
       "0.0    102\n",
       "Name: Credit_History, dtype: int64"
      ]
     },
     "execution_count": 722,
     "metadata": {},
     "output_type": "execute_result"
    }
   ],
   "source": [
    "df['Credit_History'].value_counts()"
   ]
  },
  {
   "cell_type": "markdown",
   "metadata": {},
   "source": [
    "#### Gender"
   ]
  },
  {
   "cell_type": "code",
   "execution_count": 723,
   "metadata": {},
   "outputs": [
    {
     "data": {
      "text/plain": [
       "24"
      ]
     },
     "execution_count": 723,
     "metadata": {},
     "output_type": "execute_result"
    }
   ],
   "source": [
    "df_extended['Gender'].isnull().sum()"
   ]
  },
  {
   "cell_type": "code",
   "execution_count": 724,
   "metadata": {},
   "outputs": [
    {
     "data": {
      "text/plain": [
       "13"
      ]
     },
     "execution_count": 724,
     "metadata": {},
     "output_type": "execute_result"
    }
   ],
   "source": [
    "df['Gender'].isnull().sum()"
   ]
  },
  {
   "cell_type": "code",
   "execution_count": 725,
   "metadata": {},
   "outputs": [
    {
     "name": "stdout",
     "output_type": "stream",
     "text": [
      "Male      489\n",
      "Female    112\n",
      "Name: Gender, dtype: int64\n"
     ]
    },
    {
     "data": {
      "text/plain": [
       "601"
      ]
     },
     "execution_count": 725,
     "metadata": {},
     "output_type": "execute_result"
    }
   ],
   "source": [
    "notna_gender = df[df['Gender'].notna()]\n",
    "print(df['Gender'].value_counts())\n",
    "len(notna_gender)"
   ]
  },
  {
   "cell_type": "code",
   "execution_count": 726,
   "metadata": {},
   "outputs": [
    {
     "name": "stdout",
     "output_type": "stream",
     "text": [
      "Y    339\n",
      "N    150\n",
      "Name: Loan_Status, dtype: int64\n",
      "Y    75\n",
      "N    37\n",
      "Name: Loan_Status, dtype: int64\n"
     ]
    }
   ],
   "source": [
    "gender_male = notna_gender[notna_gender['Gender']=='Male']['Loan_Status'].value_counts()\n",
    "gender_female = notna_gender[notna_gender['Gender']=='Female']['Loan_Status'].value_counts()\n",
    "print(gender_male)\n",
    "print(gender_female)"
   ]
  },
  {
   "cell_type": "code",
   "execution_count": 727,
   "metadata": {},
   "outputs": [
    {
     "data": {
      "image/png": "[encoded data removed]",
      "text/plain": [
       "<Figure size 432x288 with 1 Axes>"
      ]
     },
     "metadata": {
      "needs_background": "light"
     },
     "output_type": "display_data"
    }
   ],
   "source": [
    "width = 0.4\n",
    "labels = ['Yes', 'No']\n",
    "x = np.arange(len(df['Loan_Status'].value_counts()))\n",
    "plt.bar(x-0.2, gender_male, width=width, label='Male')\n",
    "plt.bar(x+0.2, gender_female, width, label='female')\n",
    "plt.legend(title=\"Credit History\")\n",
    "plt.xlabel('Loan Status')\n",
    "plt.ylabel('Count')\n",
    "plt.xticks(ticks=x, labels=labels)\n",
    "plt.show()"
   ]
  },
  {
   "cell_type": "code",
   "execution_count": 728,
   "metadata": {},
   "outputs": [
    {
     "data": {
      "text/plain": [
       "81.88405797101449"
      ]
     },
     "execution_count": 728,
     "metadata": {},
     "output_type": "execute_result"
    }
   ],
   "source": [
    "# percentage of 'Loan Status' == No in the group of applicants with 'Gender' == 'Male'.\n",
    "gender_male[0]/(gender_male[0]+gender_female[0]) * 100"
   ]
  },
  {
   "cell_type": "code",
   "execution_count": 729,
   "metadata": {},
   "outputs": [
    {
     "data": {
      "text/plain": [
       "80.21390374331551"
      ]
     },
     "execution_count": 729,
     "metadata": {},
     "output_type": "execute_result"
    }
   ],
   "source": [
    "# percentage of 'Loan Status' == No in the group of applicants with 'Gender' == 'Female'.\n",
    "gender_male[1]/(gender_male[1]+gender_female[1]) * 100"
   ]
  },
  {
   "cell_type": "code",
   "execution_count": 730,
   "metadata": {},
   "outputs": [],
   "source": [
    "# As plot shows applicants with 'Gender' == Male and 'Gender' == Female have approximately equal chances to receive a loan.\n",
    "# But the proportion of applicants 'Male' and 'Female' is very different.\n",
    "# So to keep this proportion, we will fill missing values using random choice with a computed weights for each subgroup."
   ]
  },
  {
   "cell_type": "code",
   "execution_count": 731,
   "metadata": {},
   "outputs": [
    {
     "name": "stdout",
     "output_type": "stream",
     "text": [
      "0.81\n"
     ]
    }
   ],
   "source": [
    "# weight_0 ---> weight of 'Male'\n",
    "weight_0 = np.round(df['Gender'].value_counts()[0] / len(notna_gender), 2)\n",
    "print(weight_0)\n",
    "# weight_1 ---> weight of 'Female'\n",
    "weight_1 = 1 - weight_0"
   ]
  },
  {
   "cell_type": "code",
   "execution_count": 732,
   "metadata": {},
   "outputs": [
    {
     "data": {
      "text/plain": [
       "0"
      ]
     },
     "execution_count": 732,
     "metadata": {},
     "output_type": "execute_result"
    }
   ],
   "source": [
    "df['Gender']=df['Gender'].fillna(str(np.random.choice(['Male', 'Female'], p=[weight_0, weight_1])))\n",
    "df['Gender'].isna().sum()"
   ]
  },
  {
   "cell_type": "markdown",
   "metadata": {},
   "source": [
    "#### Dependents"
   ]
  },
  {
   "cell_type": "code",
   "execution_count": 733,
   "metadata": {},
   "outputs": [
    {
     "data": {
      "text/plain": [
       "25"
      ]
     },
     "execution_count": 733,
     "metadata": {},
     "output_type": "execute_result"
    }
   ],
   "source": [
    "df_extended['Dependents'].isnull().sum()"
   ]
  },
  {
   "cell_type": "code",
   "execution_count": 734,
   "metadata": {},
   "outputs": [
    {
     "data": {
      "text/plain": [
       "15"
      ]
     },
     "execution_count": 734,
     "metadata": {},
     "output_type": "execute_result"
    }
   ],
   "source": [
    "df['Dependents'].isnull().sum()"
   ]
  },
  {
   "cell_type": "code",
   "execution_count": 735,
   "metadata": {},
   "outputs": [
    {
     "name": "stdout",
     "output_type": "stream",
     "text": [
      "0     345\n",
      "1     102\n",
      "2     101\n",
      "3+     51\n",
      "Name: Dependents, dtype: int64\n"
     ]
    },
    {
     "data": {
      "text/plain": [
       "599"
      ]
     },
     "execution_count": 735,
     "metadata": {},
     "output_type": "execute_result"
    }
   ],
   "source": [
    "notna_dependents = df[df['Dependents'].notna()]\n",
    "print(df['Dependents'].value_counts())\n",
    "len(notna_dependents)"
   ]
  },
  {
   "cell_type": "code",
   "execution_count": 736,
   "metadata": {},
   "outputs": [
    {
     "name": "stdout",
     "output_type": "stream",
     "text": [
      "Y    238\n",
      "N    107\n",
      "Name: Loan_Status, dtype: int64\n",
      "Y    66\n",
      "N    36\n",
      "Name: Loan_Status, dtype: int64\n",
      "Y    76\n",
      "N    25\n",
      "Name: Loan_Status, dtype: int64\n",
      "Y    33\n",
      "N    18\n",
      "Name: Loan_Status, dtype: int64\n"
     ]
    }
   ],
   "source": [
    "depend_0 = notna_dependents[notna_dependents['Dependents']=='0']['Loan_Status'].value_counts()\n",
    "depend_1 = notna_dependents[notna_dependents['Dependents']=='1']['Loan_Status'].value_counts()\n",
    "depend_2 = notna_dependents[notna_dependents['Dependents']=='2']['Loan_Status'].value_counts()\n",
    "depend_3 = notna_dependents[notna_dependents['Dependents']=='3+']['Loan_Status'].value_counts()\n",
    "print(depend_0)\n",
    "print(depend_1)\n",
    "print(depend_2)\n",
    "print(depend_3)"
   ]
  },
  {
   "cell_type": "code",
   "execution_count": 737,
   "metadata": {},
   "outputs": [
    {
     "data": {
      "image/png": "[encoded data removed]",
      "text/plain": [
       "<Figure size 432x288 with 1 Axes>"
      ]
     },
     "metadata": {
      "needs_background": "light"
     },
     "output_type": "display_data"
    }
   ],
   "source": [
    "width = 0.2\n",
    "labels = ['Yes', 'No']\n",
    "x = np.arange(len(df['Loan_Status'].value_counts()))\n",
    "plt.bar(x-0.3, depend_0, width=width, label='0')\n",
    "plt.bar(x-0.1, depend_1, width, label='1')\n",
    "plt.bar(x+0.1, depend_2, width, label='2')\n",
    "plt.bar(x+0.3, depend_3, width, label='3+')\n",
    "plt.legend(title=\"Dependents\")\n",
    "plt.xlabel('Loan Status')\n",
    "plt.ylabel('Count')\n",
    "plt.xticks(ticks=x, labels=labels)\n",
    "plt.show()"
   ]
  },
  {
   "cell_type": "code",
   "execution_count": 738,
   "metadata": {},
   "outputs": [
    {
     "data": {
      "text/plain": [
       "25"
      ]
     },
     "execution_count": 738,
     "metadata": {},
     "output_type": "execute_result"
    }
   ],
   "source": [
    "df_extended['Dependents'].isna().sum()"
   ]
  },
  {
   "cell_type": "code",
   "execution_count": 739,
   "metadata": {},
   "outputs": [
    {
     "data": {
      "text/plain": [
       "0"
      ]
     },
     "execution_count": 739,
     "metadata": {},
     "output_type": "execute_result"
    }
   ],
   "source": [
    "# For this group as default value or value for filling missing data we will use mode of this feature.\n",
    "df['Dependents']=df['Dependents'].fillna(df_extended['Dependents'].mode()[0])\n",
    "df['Dependents'].isna().sum()"
   ]
  },
  {
   "cell_type": "code",
   "execution_count": 740,
   "metadata": {},
   "outputs": [],
   "source": [
    "# Fianly we fill all missing values "
   ]
  },
  {
   "cell_type": "code",
   "execution_count": 741,
   "metadata": {},
   "outputs": [
    {
     "name": "stdout",
     "output_type": "stream",
     "text": [
      "<class 'pandas.core.frame.DataFrame'>\n",
      "RangeIndex: 614 entries, 0 to 613\n",
      "Data columns (total 12 columns):\n",
      "Gender               614 non-null object\n",
      "Married              614 non-null object\n",
      "Dependents           614 non-null object\n",
      "Education            614 non-null object\n",
      "Self_Employed        614 non-null object\n",
      "ApplicantIncome      614 non-null int64\n",
      "CoapplicantIncome    614 non-null float64\n",
      "LoanAmount           614 non-null float64\n",
      "Loan_Amount_Term     614 non-null float64\n",
      "Credit_History       614 non-null float64\n",
      "Property_Area        614 non-null object\n",
      "Loan_Status          614 non-null object\n",
      "dtypes: float64(4), int64(1), object(7)\n",
      "memory usage: 57.7+ KB\n"
     ]
    }
   ],
   "source": [
    "df.info()"
   ]
  },
  {
   "cell_type": "code",
   "execution_count": 742,
   "metadata": {},
   "outputs": [
    {
     "data": {
      "text/plain": [
       "0      1\n",
       "1      0\n",
       "2      1\n",
       "3      1\n",
       "4      1\n",
       "      ..\n",
       "609    1\n",
       "610    1\n",
       "611    1\n",
       "612    1\n",
       "613    0\n",
       "Name: Loan_Status, Length: 614, dtype: int64"
      ]
     },
     "execution_count": 742,
     "metadata": {},
     "output_type": "execute_result"
    }
   ],
   "source": [
    "df['Loan_Status'] = df['Loan_Status'].map({'N' : 0, 'Y': 1})\n",
    "df['Loan_Status']"
   ]
  },
  {
   "cell_type": "code",
   "execution_count": 743,
   "metadata": {},
   "outputs": [
    {
     "data": {
      "text/html": [
       "<div>\n",
       "<style scoped>\n",
       "    .dataframe tbody tr th:only-of-type {\n",
       "        vertical-align: middle;\n",
       "    }\n",
       "\n",
       "    .dataframe tbody tr th {\n",
       "        vertical-align: top;\n",
       "    }\n",
       "\n",
       "    .dataframe thead th {\n",
       "        text-align: right;\n",
       "    }\n",
       "</style>\n",
       "<table border=\"1\" class=\"dataframe\">\n",
       "  <thead>\n",
       "    <tr style=\"text-align: right;\">\n",
       "      <th></th>\n",
       "      <th>Gender</th>\n",
       "      <th>Married</th>\n",
       "      <th>Dependents</th>\n",
       "      <th>Education</th>\n",
       "      <th>Self_Employed</th>\n",
       "      <th>ApplicantIncome</th>\n",
       "      <th>CoapplicantIncome</th>\n",
       "      <th>LoanAmount</th>\n",
       "      <th>Loan_Amount_Term</th>\n",
       "      <th>Credit_History</th>\n",
       "      <th>Property_Area</th>\n",
       "      <th>Loan_Status</th>\n",
       "    </tr>\n",
       "  </thead>\n",
       "  <tbody>\n",
       "    <tr>\n",
       "      <td>0</td>\n",
       "      <td>Male</td>\n",
       "      <td>No</td>\n",
       "      <td>0</td>\n",
       "      <td>Graduate</td>\n",
       "      <td>No</td>\n",
       "      <td>5849</td>\n",
       "      <td>0.0</td>\n",
       "      <td>126.0</td>\n",
       "      <td>360.0</td>\n",
       "      <td>1.0</td>\n",
       "      <td>Urban</td>\n",
       "      <td>1</td>\n",
       "    </tr>\n",
       "    <tr>\n",
       "      <td>1</td>\n",
       "      <td>Male</td>\n",
       "      <td>Yes</td>\n",
       "      <td>1</td>\n",
       "      <td>Graduate</td>\n",
       "      <td>No</td>\n",
       "      <td>4583</td>\n",
       "      <td>1508.0</td>\n",
       "      <td>128.0</td>\n",
       "      <td>360.0</td>\n",
       "      <td>1.0</td>\n",
       "      <td>Rural</td>\n",
       "      <td>0</td>\n",
       "    </tr>\n",
       "    <tr>\n",
       "      <td>2</td>\n",
       "      <td>Male</td>\n",
       "      <td>Yes</td>\n",
       "      <td>0</td>\n",
       "      <td>Graduate</td>\n",
       "      <td>Yes</td>\n",
       "      <td>3000</td>\n",
       "      <td>0.0</td>\n",
       "      <td>66.0</td>\n",
       "      <td>360.0</td>\n",
       "      <td>1.0</td>\n",
       "      <td>Urban</td>\n",
       "      <td>1</td>\n",
       "    </tr>\n",
       "    <tr>\n",
       "      <td>3</td>\n",
       "      <td>Male</td>\n",
       "      <td>Yes</td>\n",
       "      <td>0</td>\n",
       "      <td>Not Graduate</td>\n",
       "      <td>No</td>\n",
       "      <td>2583</td>\n",
       "      <td>2358.0</td>\n",
       "      <td>120.0</td>\n",
       "      <td>360.0</td>\n",
       "      <td>1.0</td>\n",
       "      <td>Urban</td>\n",
       "      <td>1</td>\n",
       "    </tr>\n",
       "    <tr>\n",
       "      <td>4</td>\n",
       "      <td>Male</td>\n",
       "      <td>No</td>\n",
       "      <td>0</td>\n",
       "      <td>Graduate</td>\n",
       "      <td>No</td>\n",
       "      <td>6000</td>\n",
       "      <td>0.0</td>\n",
       "      <td>141.0</td>\n",
       "      <td>360.0</td>\n",
       "      <td>1.0</td>\n",
       "      <td>Urban</td>\n",
       "      <td>1</td>\n",
       "    </tr>\n",
       "  </tbody>\n",
       "</table>\n",
       "</div>"
      ],
      "text/plain": [
       "  Gender Married Dependents     Education Self_Employed  ApplicantIncome  \\\n",
       "0   Male      No          0      Graduate            No             5849   \n",
       "1   Male     Yes          1      Graduate            No             4583   \n",
       "2   Male     Yes          0      Graduate           Yes             3000   \n",
       "3   Male     Yes          0  Not Graduate            No             2583   \n",
       "4   Male      No          0      Graduate            No             6000   \n",
       "\n",
       "   CoapplicantIncome  LoanAmount  Loan_Amount_Term  Credit_History  \\\n",
       "0                0.0       126.0             360.0             1.0   \n",
       "1             1508.0       128.0             360.0             1.0   \n",
       "2                0.0        66.0             360.0             1.0   \n",
       "3             2358.0       120.0             360.0             1.0   \n",
       "4                0.0       141.0             360.0             1.0   \n",
       "\n",
       "  Property_Area  Loan_Status  \n",
       "0         Urban            1  \n",
       "1         Rural            0  \n",
       "2         Urban            1  \n",
       "3         Urban            1  \n",
       "4         Urban            1  "
      ]
     },
     "execution_count": 743,
     "metadata": {},
     "output_type": "execute_result"
    }
   ],
   "source": [
    "df_filled = df.copy()\n",
    "df_filled.head()"
   ]
  },
  {
   "cell_type": "markdown",
   "metadata": {},
   "source": [
    "### Creation of new features"
   ]
  },
  {
   "cell_type": "code",
   "execution_count": 744,
   "metadata": {},
   "outputs": [
    {
     "data": {
      "text/html": [
       "<div>\n",
       "<style scoped>\n",
       "    .dataframe tbody tr th:only-of-type {\n",
       "        vertical-align: middle;\n",
       "    }\n",
       "\n",
       "    .dataframe tbody tr th {\n",
       "        vertical-align: top;\n",
       "    }\n",
       "\n",
       "    .dataframe thead th {\n",
       "        text-align: right;\n",
       "    }\n",
       "</style>\n",
       "<table border=\"1\" class=\"dataframe\">\n",
       "  <thead>\n",
       "    <tr style=\"text-align: right;\">\n",
       "      <th></th>\n",
       "      <th>ApplicantIncome</th>\n",
       "      <th>CoapplicantIncome</th>\n",
       "      <th>LoanAmount</th>\n",
       "      <th>Loan_Amount_Term</th>\n",
       "      <th>Credit_History</th>\n",
       "      <th>Loan_Status</th>\n",
       "    </tr>\n",
       "  </thead>\n",
       "  <tbody>\n",
       "    <tr>\n",
       "      <td>ApplicantIncome</td>\n",
       "      <td>1.000000</td>\n",
       "      <td>-0.116605</td>\n",
       "      <td>0.565076</td>\n",
       "      <td>-0.046531</td>\n",
       "      <td>-0.010051</td>\n",
       "      <td>-0.004710</td>\n",
       "    </tr>\n",
       "    <tr>\n",
       "      <td>CoapplicantIncome</td>\n",
       "      <td>-0.116605</td>\n",
       "      <td>1.000000</td>\n",
       "      <td>0.189350</td>\n",
       "      <td>-0.059383</td>\n",
       "      <td>-0.054737</td>\n",
       "      <td>-0.059187</td>\n",
       "    </tr>\n",
       "    <tr>\n",
       "      <td>LoanAmount</td>\n",
       "      <td>0.565076</td>\n",
       "      <td>0.189350</td>\n",
       "      <td>1.000000</td>\n",
       "      <td>0.037009</td>\n",
       "      <td>-0.022155</td>\n",
       "      <td>-0.032864</td>\n",
       "    </tr>\n",
       "    <tr>\n",
       "      <td>Loan_Amount_Term</td>\n",
       "      <td>-0.046531</td>\n",
       "      <td>-0.059383</td>\n",
       "      <td>0.037009</td>\n",
       "      <td>1.000000</td>\n",
       "      <td>-0.007758</td>\n",
       "      <td>-0.022549</td>\n",
       "    </tr>\n",
       "    <tr>\n",
       "      <td>Credit_History</td>\n",
       "      <td>-0.010051</td>\n",
       "      <td>-0.054737</td>\n",
       "      <td>-0.022155</td>\n",
       "      <td>-0.007758</td>\n",
       "      <td>1.000000</td>\n",
       "      <td>0.595642</td>\n",
       "    </tr>\n",
       "    <tr>\n",
       "      <td>Loan_Status</td>\n",
       "      <td>-0.004710</td>\n",
       "      <td>-0.059187</td>\n",
       "      <td>-0.032864</td>\n",
       "      <td>-0.022549</td>\n",
       "      <td>0.595642</td>\n",
       "      <td>1.000000</td>\n",
       "    </tr>\n",
       "  </tbody>\n",
       "</table>\n",
       "</div>"
      ],
      "text/plain": [
       "                   ApplicantIncome  CoapplicantIncome  LoanAmount  \\\n",
       "ApplicantIncome           1.000000          -0.116605    0.565076   \n",
       "CoapplicantIncome        -0.116605           1.000000    0.189350   \n",
       "LoanAmount                0.565076           0.189350    1.000000   \n",
       "Loan_Amount_Term         -0.046531          -0.059383    0.037009   \n",
       "Credit_History           -0.010051          -0.054737   -0.022155   \n",
       "Loan_Status              -0.004710          -0.059187   -0.032864   \n",
       "\n",
       "                   Loan_Amount_Term  Credit_History  Loan_Status  \n",
       "ApplicantIncome           -0.046531       -0.010051    -0.004710  \n",
       "CoapplicantIncome         -0.059383       -0.054737    -0.059187  \n",
       "LoanAmount                 0.037009       -0.022155    -0.032864  \n",
       "Loan_Amount_Term           1.000000       -0.007758    -0.022549  \n",
       "Credit_History            -0.007758        1.000000     0.595642  \n",
       "Loan_Status               -0.022549        0.595642     1.000000  "
      ]
     },
     "execution_count": 744,
     "metadata": {},
     "output_type": "execute_result"
    }
   ],
   "source": [
    "df_filled.corr()"
   ]
  },
  {
   "cell_type": "code",
   "execution_count": 745,
   "metadata": {},
   "outputs": [
    {
     "data": {
      "text/html": [
       "<style  type=\"text/css\" >\n",
       "    #T_206ac83a_9aea_11eb_b40b_a81e8407a1b6row0_col0 {\n",
       "            background-color:  #b40426;\n",
       "            color:  #f1f1f1;\n",
       "        }    #T_206ac83a_9aea_11eb_b40b_a81e8407a1b6row0_col1 {\n",
       "            background-color:  #3b4cc0;\n",
       "            color:  #f1f1f1;\n",
       "        }    #T_206ac83a_9aea_11eb_b40b_a81e8407a1b6row0_col2 {\n",
       "            background-color:  #efcfbf;\n",
       "            color:  #000000;\n",
       "        }    #T_206ac83a_9aea_11eb_b40b_a81e8407a1b6row0_col3 {\n",
       "            background-color:  #3e51c5;\n",
       "            color:  #f1f1f1;\n",
       "        }    #T_206ac83a_9aea_11eb_b40b_a81e8407a1b6row0_col4 {\n",
       "            background-color:  #465ecf;\n",
       "            color:  #f1f1f1;\n",
       "        }    #T_206ac83a_9aea_11eb_b40b_a81e8407a1b6row0_col5 {\n",
       "            background-color:  #4a63d3;\n",
       "            color:  #f1f1f1;\n",
       "        }    #T_206ac83a_9aea_11eb_b40b_a81e8407a1b6row1_col0 {\n",
       "            background-color:  #3b4cc0;\n",
       "            color:  #f1f1f1;\n",
       "        }    #T_206ac83a_9aea_11eb_b40b_a81e8407a1b6row1_col1 {\n",
       "            background-color:  #b40426;\n",
       "            color:  #f1f1f1;\n",
       "        }    #T_206ac83a_9aea_11eb_b40b_a81e8407a1b6row1_col2 {\n",
       "            background-color:  #81a4fb;\n",
       "            color:  #000000;\n",
       "        }    #T_206ac83a_9aea_11eb_b40b_a81e8407a1b6row1_col3 {\n",
       "            background-color:  #3b4cc0;\n",
       "            color:  #f1f1f1;\n",
       "        }    #T_206ac83a_9aea_11eb_b40b_a81e8407a1b6row1_col4 {\n",
       "            background-color:  #3b4cc0;\n",
       "            color:  #f1f1f1;\n",
       "        }    #T_206ac83a_9aea_11eb_b40b_a81e8407a1b6row1_col5 {\n",
       "            background-color:  #3b4cc0;\n",
       "            color:  #f1f1f1;\n",
       "        }    #T_206ac83a_9aea_11eb_b40b_a81e8407a1b6row2_col0 {\n",
       "            background-color:  #f3c8b2;\n",
       "            color:  #000000;\n",
       "        }    #T_206ac83a_9aea_11eb_b40b_a81e8407a1b6row2_col1 {\n",
       "            background-color:  #96b7ff;\n",
       "            color:  #000000;\n",
       "        }    #T_206ac83a_9aea_11eb_b40b_a81e8407a1b6row2_col2 {\n",
       "            background-color:  #b40426;\n",
       "            color:  #f1f1f1;\n",
       "        }    #T_206ac83a_9aea_11eb_b40b_a81e8407a1b6row2_col3 {\n",
       "            background-color:  #5673e0;\n",
       "            color:  #000000;\n",
       "        }    #T_206ac83a_9aea_11eb_b40b_a81e8407a1b6row2_col4 {\n",
       "            background-color:  #4358cb;\n",
       "            color:  #f1f1f1;\n",
       "        }    #T_206ac83a_9aea_11eb_b40b_a81e8407a1b6row2_col5 {\n",
       "            background-color:  #4257c9;\n",
       "            color:  #f1f1f1;\n",
       "        }    #T_206ac83a_9aea_11eb_b40b_a81e8407a1b6row3_col0 {\n",
       "            background-color:  #4e68d8;\n",
       "            color:  #000000;\n",
       "        }    #T_206ac83a_9aea_11eb_b40b_a81e8407a1b6row3_col1 {\n",
       "            background-color:  #4a63d3;\n",
       "            color:  #f1f1f1;\n",
       "        }    #T_206ac83a_9aea_11eb_b40b_a81e8407a1b6row3_col2 {\n",
       "            background-color:  #4f69d9;\n",
       "            color:  #000000;\n",
       "        }    #T_206ac83a_9aea_11eb_b40b_a81e8407a1b6row3_col3 {\n",
       "            background-color:  #b40426;\n",
       "            color:  #f1f1f1;\n",
       "        }    #T_206ac83a_9aea_11eb_b40b_a81e8407a1b6row3_col4 {\n",
       "            background-color:  #485fd1;\n",
       "            color:  #f1f1f1;\n",
       "        }    #T_206ac83a_9aea_11eb_b40b_a81e8407a1b6row3_col5 {\n",
       "            background-color:  #445acc;\n",
       "            color:  #f1f1f1;\n",
       "        }    #T_206ac83a_9aea_11eb_b40b_a81e8407a1b6row4_col0 {\n",
       "            background-color:  #5875e1;\n",
       "            color:  #000000;\n",
       "        }    #T_206ac83a_9aea_11eb_b40b_a81e8407a1b6row4_col1 {\n",
       "            background-color:  #4b64d5;\n",
       "            color:  #f1f1f1;\n",
       "        }    #T_206ac83a_9aea_11eb_b40b_a81e8407a1b6row4_col2 {\n",
       "            background-color:  #3d50c3;\n",
       "            color:  #f1f1f1;\n",
       "        }    #T_206ac83a_9aea_11eb_b40b_a81e8407a1b6row4_col3 {\n",
       "            background-color:  #4961d2;\n",
       "            color:  #f1f1f1;\n",
       "        }    #T_206ac83a_9aea_11eb_b40b_a81e8407a1b6row4_col4 {\n",
       "            background-color:  #b40426;\n",
       "            color:  #f1f1f1;\n",
       "        }    #T_206ac83a_9aea_11eb_b40b_a81e8407a1b6row4_col5 {\n",
       "            background-color:  #f4c6af;\n",
       "            color:  #000000;\n",
       "        }    #T_206ac83a_9aea_11eb_b40b_a81e8407a1b6row5_col0 {\n",
       "            background-color:  #5977e3;\n",
       "            color:  #000000;\n",
       "        }    #T_206ac83a_9aea_11eb_b40b_a81e8407a1b6row5_col1 {\n",
       "            background-color:  #4a63d3;\n",
       "            color:  #f1f1f1;\n",
       "        }    #T_206ac83a_9aea_11eb_b40b_a81e8407a1b6row5_col2 {\n",
       "            background-color:  #3b4cc0;\n",
       "            color:  #f1f1f1;\n",
       "        }    #T_206ac83a_9aea_11eb_b40b_a81e8407a1b6row5_col3 {\n",
       "            background-color:  #445acc;\n",
       "            color:  #f1f1f1;\n",
       "        }    #T_206ac83a_9aea_11eb_b40b_a81e8407a1b6row5_col4 {\n",
       "            background-color:  #f3c7b1;\n",
       "            color:  #000000;\n",
       "        }    #T_206ac83a_9aea_11eb_b40b_a81e8407a1b6row5_col5 {\n",
       "            background-color:  #b40426;\n",
       "            color:  #f1f1f1;\n",
       "        }</style><table id=\"T_206ac83a_9aea_11eb_b40b_a81e8407a1b6\" ><thead>    <tr>        <th class=\"blank level0\" ></th>        <th class=\"col_heading level0 col0\" >ApplicantIncome</th>        <th class=\"col_heading level0 col1\" >CoapplicantIncome</th>        <th class=\"col_heading level0 col2\" >LoanAmount</th>        <th class=\"col_heading level0 col3\" >Loan_Amount_Term</th>        <th class=\"col_heading level0 col4\" >Credit_History</th>        <th class=\"col_heading level0 col5\" >Loan_Status</th>    </tr></thead><tbody>\n",
       "                <tr>\n",
       "                        <th id=\"T_206ac83a_9aea_11eb_b40b_a81e8407a1b6level0_row0\" class=\"row_heading level0 row0\" >ApplicantIncome</th>\n",
       "                        <td id=\"T_206ac83a_9aea_11eb_b40b_a81e8407a1b6row0_col0\" class=\"data row0 col0\" >1</td>\n",
       "                        <td id=\"T_206ac83a_9aea_11eb_b40b_a81e8407a1b6row0_col1\" class=\"data row0 col1\" >-0.116605</td>\n",
       "                        <td id=\"T_206ac83a_9aea_11eb_b40b_a81e8407a1b6row0_col2\" class=\"data row0 col2\" >0.565076</td>\n",
       "                        <td id=\"T_206ac83a_9aea_11eb_b40b_a81e8407a1b6row0_col3\" class=\"data row0 col3\" >-0.0465311</td>\n",
       "                        <td id=\"T_206ac83a_9aea_11eb_b40b_a81e8407a1b6row0_col4\" class=\"data row0 col4\" >-0.0100508</td>\n",
       "                        <td id=\"T_206ac83a_9aea_11eb_b40b_a81e8407a1b6row0_col5\" class=\"data row0 col5\" >-0.00470952</td>\n",
       "            </tr>\n",
       "            <tr>\n",
       "                        <th id=\"T_206ac83a_9aea_11eb_b40b_a81e8407a1b6level0_row1\" class=\"row_heading level0 row1\" >CoapplicantIncome</th>\n",
       "                        <td id=\"T_206ac83a_9aea_11eb_b40b_a81e8407a1b6row1_col0\" class=\"data row1 col0\" >-0.116605</td>\n",
       "                        <td id=\"T_206ac83a_9aea_11eb_b40b_a81e8407a1b6row1_col1\" class=\"data row1 col1\" >1</td>\n",
       "                        <td id=\"T_206ac83a_9aea_11eb_b40b_a81e8407a1b6row1_col2\" class=\"data row1 col2\" >0.18935</td>\n",
       "                        <td id=\"T_206ac83a_9aea_11eb_b40b_a81e8407a1b6row1_col3\" class=\"data row1 col3\" >-0.0593831</td>\n",
       "                        <td id=\"T_206ac83a_9aea_11eb_b40b_a81e8407a1b6row1_col4\" class=\"data row1 col4\" >-0.0547368</td>\n",
       "                        <td id=\"T_206ac83a_9aea_11eb_b40b_a81e8407a1b6row1_col5\" class=\"data row1 col5\" >-0.0591873</td>\n",
       "            </tr>\n",
       "            <tr>\n",
       "                        <th id=\"T_206ac83a_9aea_11eb_b40b_a81e8407a1b6level0_row2\" class=\"row_heading level0 row2\" >LoanAmount</th>\n",
       "                        <td id=\"T_206ac83a_9aea_11eb_b40b_a81e8407a1b6row2_col0\" class=\"data row2 col0\" >0.565076</td>\n",
       "                        <td id=\"T_206ac83a_9aea_11eb_b40b_a81e8407a1b6row2_col1\" class=\"data row2 col1\" >0.18935</td>\n",
       "                        <td id=\"T_206ac83a_9aea_11eb_b40b_a81e8407a1b6row2_col2\" class=\"data row2 col2\" >1</td>\n",
       "                        <td id=\"T_206ac83a_9aea_11eb_b40b_a81e8407a1b6row2_col3\" class=\"data row2 col3\" >0.0370092</td>\n",
       "                        <td id=\"T_206ac83a_9aea_11eb_b40b_a81e8407a1b6row2_col4\" class=\"data row2 col4\" >-0.0221546</td>\n",
       "                        <td id=\"T_206ac83a_9aea_11eb_b40b_a81e8407a1b6row2_col5\" class=\"data row2 col5\" >-0.0328635</td>\n",
       "            </tr>\n",
       "            <tr>\n",
       "                        <th id=\"T_206ac83a_9aea_11eb_b40b_a81e8407a1b6level0_row3\" class=\"row_heading level0 row3\" >Loan_Amount_Term</th>\n",
       "                        <td id=\"T_206ac83a_9aea_11eb_b40b_a81e8407a1b6row3_col0\" class=\"data row3 col0\" >-0.0465311</td>\n",
       "                        <td id=\"T_206ac83a_9aea_11eb_b40b_a81e8407a1b6row3_col1\" class=\"data row3 col1\" >-0.0593831</td>\n",
       "                        <td id=\"T_206ac83a_9aea_11eb_b40b_a81e8407a1b6row3_col2\" class=\"data row3 col2\" >0.0370092</td>\n",
       "                        <td id=\"T_206ac83a_9aea_11eb_b40b_a81e8407a1b6row3_col3\" class=\"data row3 col3\" >1</td>\n",
       "                        <td id=\"T_206ac83a_9aea_11eb_b40b_a81e8407a1b6row3_col4\" class=\"data row3 col4\" >-0.00775828</td>\n",
       "                        <td id=\"T_206ac83a_9aea_11eb_b40b_a81e8407a1b6row3_col5\" class=\"data row3 col5\" >-0.022549</td>\n",
       "            </tr>\n",
       "            <tr>\n",
       "                        <th id=\"T_206ac83a_9aea_11eb_b40b_a81e8407a1b6level0_row4\" class=\"row_heading level0 row4\" >Credit_History</th>\n",
       "                        <td id=\"T_206ac83a_9aea_11eb_b40b_a81e8407a1b6row4_col0\" class=\"data row4 col0\" >-0.0100508</td>\n",
       "                        <td id=\"T_206ac83a_9aea_11eb_b40b_a81e8407a1b6row4_col1\" class=\"data row4 col1\" >-0.0547368</td>\n",
       "                        <td id=\"T_206ac83a_9aea_11eb_b40b_a81e8407a1b6row4_col2\" class=\"data row4 col2\" >-0.0221546</td>\n",
       "                        <td id=\"T_206ac83a_9aea_11eb_b40b_a81e8407a1b6row4_col3\" class=\"data row4 col3\" >-0.00775828</td>\n",
       "                        <td id=\"T_206ac83a_9aea_11eb_b40b_a81e8407a1b6row4_col4\" class=\"data row4 col4\" >1</td>\n",
       "                        <td id=\"T_206ac83a_9aea_11eb_b40b_a81e8407a1b6row4_col5\" class=\"data row4 col5\" >0.595642</td>\n",
       "            </tr>\n",
       "            <tr>\n",
       "                        <th id=\"T_206ac83a_9aea_11eb_b40b_a81e8407a1b6level0_row5\" class=\"row_heading level0 row5\" >Loan_Status</th>\n",
       "                        <td id=\"T_206ac83a_9aea_11eb_b40b_a81e8407a1b6row5_col0\" class=\"data row5 col0\" >-0.00470952</td>\n",
       "                        <td id=\"T_206ac83a_9aea_11eb_b40b_a81e8407a1b6row5_col1\" class=\"data row5 col1\" >-0.0591873</td>\n",
       "                        <td id=\"T_206ac83a_9aea_11eb_b40b_a81e8407a1b6row5_col2\" class=\"data row5 col2\" >-0.0328635</td>\n",
       "                        <td id=\"T_206ac83a_9aea_11eb_b40b_a81e8407a1b6row5_col3\" class=\"data row5 col3\" >-0.022549</td>\n",
       "                        <td id=\"T_206ac83a_9aea_11eb_b40b_a81e8407a1b6row5_col4\" class=\"data row5 col4\" >0.595642</td>\n",
       "                        <td id=\"T_206ac83a_9aea_11eb_b40b_a81e8407a1b6row5_col5\" class=\"data row5 col5\" >1</td>\n",
       "            </tr>\n",
       "    </tbody></table>"
      ],
      "text/plain": [
       "<pandas.io.formats.style.Styler at 0x215050ee148>"
      ]
     },
     "execution_count": 745,
     "metadata": {},
     "output_type": "execute_result"
    }
   ],
   "source": [
    "corr = df_filled.corr()\n",
    "corr.style.background_gradient(cmap='coolwarm')"
   ]
  },
  {
   "cell_type": "code",
   "execution_count": 746,
   "metadata": {},
   "outputs": [],
   "source": [
    "# There are some relationships between features, for example, in financial retrospective\n",
    "# a loan amount and a loan amount term has some strong relationship as well as CoapplicantIncome and applicant income.\n",
    "# We will create new features such as 'new_col_1'(LoanAmount & Loan_Amount_Term)\n",
    "# and 'new_col_2'('CoapplicantIncome & ApplicantIncome') respectively."
   ]
  },
  {
   "cell_type": "code",
   "execution_count": 747,
   "metadata": {},
   "outputs": [],
   "source": [
    "# new features\n",
    "df_filled['new_col_1'] = 1/(df_filled['LoanAmount'] / df_filled['Loan_Amount_Term'])\n",
    "df_filled['new_col_2'] = (df_filled['ApplicantIncome'] + df_filled['CoapplicantIncome'])"
   ]
  },
  {
   "cell_type": "code",
   "execution_count": 748,
   "metadata": {},
   "outputs": [
    {
     "data": {
      "text/html": [
       "<div>\n",
       "<style scoped>\n",
       "    .dataframe tbody tr th:only-of-type {\n",
       "        vertical-align: middle;\n",
       "    }\n",
       "\n",
       "    .dataframe tbody tr th {\n",
       "        vertical-align: top;\n",
       "    }\n",
       "\n",
       "    .dataframe thead th {\n",
       "        text-align: right;\n",
       "    }\n",
       "</style>\n",
       "<table border=\"1\" class=\"dataframe\">\n",
       "  <thead>\n",
       "    <tr style=\"text-align: right;\">\n",
       "      <th></th>\n",
       "      <th>Gender</th>\n",
       "      <th>Married</th>\n",
       "      <th>Dependents</th>\n",
       "      <th>Education</th>\n",
       "      <th>Self_Employed</th>\n",
       "      <th>ApplicantIncome</th>\n",
       "      <th>CoapplicantIncome</th>\n",
       "      <th>LoanAmount</th>\n",
       "      <th>Loan_Amount_Term</th>\n",
       "      <th>Credit_History</th>\n",
       "      <th>Property_Area</th>\n",
       "      <th>Loan_Status</th>\n",
       "      <th>new_col_1</th>\n",
       "      <th>new_col_2</th>\n",
       "    </tr>\n",
       "  </thead>\n",
       "  <tbody>\n",
       "    <tr>\n",
       "      <td>0</td>\n",
       "      <td>Male</td>\n",
       "      <td>No</td>\n",
       "      <td>0</td>\n",
       "      <td>Graduate</td>\n",
       "      <td>No</td>\n",
       "      <td>5849</td>\n",
       "      <td>0.0</td>\n",
       "      <td>126.0</td>\n",
       "      <td>360.0</td>\n",
       "      <td>1.0</td>\n",
       "      <td>Urban</td>\n",
       "      <td>1</td>\n",
       "      <td>2.857143</td>\n",
       "      <td>5849.0</td>\n",
       "    </tr>\n",
       "    <tr>\n",
       "      <td>1</td>\n",
       "      <td>Male</td>\n",
       "      <td>Yes</td>\n",
       "      <td>1</td>\n",
       "      <td>Graduate</td>\n",
       "      <td>No</td>\n",
       "      <td>4583</td>\n",
       "      <td>1508.0</td>\n",
       "      <td>128.0</td>\n",
       "      <td>360.0</td>\n",
       "      <td>1.0</td>\n",
       "      <td>Rural</td>\n",
       "      <td>0</td>\n",
       "      <td>2.812500</td>\n",
       "      <td>6091.0</td>\n",
       "    </tr>\n",
       "    <tr>\n",
       "      <td>2</td>\n",
       "      <td>Male</td>\n",
       "      <td>Yes</td>\n",
       "      <td>0</td>\n",
       "      <td>Graduate</td>\n",
       "      <td>Yes</td>\n",
       "      <td>3000</td>\n",
       "      <td>0.0</td>\n",
       "      <td>66.0</td>\n",
       "      <td>360.0</td>\n",
       "      <td>1.0</td>\n",
       "      <td>Urban</td>\n",
       "      <td>1</td>\n",
       "      <td>5.454545</td>\n",
       "      <td>3000.0</td>\n",
       "    </tr>\n",
       "    <tr>\n",
       "      <td>3</td>\n",
       "      <td>Male</td>\n",
       "      <td>Yes</td>\n",
       "      <td>0</td>\n",
       "      <td>Not Graduate</td>\n",
       "      <td>No</td>\n",
       "      <td>2583</td>\n",
       "      <td>2358.0</td>\n",
       "      <td>120.0</td>\n",
       "      <td>360.0</td>\n",
       "      <td>1.0</td>\n",
       "      <td>Urban</td>\n",
       "      <td>1</td>\n",
       "      <td>3.000000</td>\n",
       "      <td>4941.0</td>\n",
       "    </tr>\n",
       "    <tr>\n",
       "      <td>4</td>\n",
       "      <td>Male</td>\n",
       "      <td>No</td>\n",
       "      <td>0</td>\n",
       "      <td>Graduate</td>\n",
       "      <td>No</td>\n",
       "      <td>6000</td>\n",
       "      <td>0.0</td>\n",
       "      <td>141.0</td>\n",
       "      <td>360.0</td>\n",
       "      <td>1.0</td>\n",
       "      <td>Urban</td>\n",
       "      <td>1</td>\n",
       "      <td>2.553191</td>\n",
       "      <td>6000.0</td>\n",
       "    </tr>\n",
       "  </tbody>\n",
       "</table>\n",
       "</div>"
      ],
      "text/plain": [
       "  Gender Married Dependents     Education Self_Employed  ApplicantIncome  \\\n",
       "0   Male      No          0      Graduate            No             5849   \n",
       "1   Male     Yes          1      Graduate            No             4583   \n",
       "2   Male     Yes          0      Graduate           Yes             3000   \n",
       "3   Male     Yes          0  Not Graduate            No             2583   \n",
       "4   Male      No          0      Graduate            No             6000   \n",
       "\n",
       "   CoapplicantIncome  LoanAmount  Loan_Amount_Term  Credit_History  \\\n",
       "0                0.0       126.0             360.0             1.0   \n",
       "1             1508.0       128.0             360.0             1.0   \n",
       "2                0.0        66.0             360.0             1.0   \n",
       "3             2358.0       120.0             360.0             1.0   \n",
       "4                0.0       141.0             360.0             1.0   \n",
       "\n",
       "  Property_Area  Loan_Status  new_col_1  new_col_2  \n",
       "0         Urban            1   2.857143     5849.0  \n",
       "1         Rural            0   2.812500     6091.0  \n",
       "2         Urban            1   5.454545     3000.0  \n",
       "3         Urban            1   3.000000     4941.0  \n",
       "4         Urban            1   2.553191     6000.0  "
      ]
     },
     "execution_count": 748,
     "metadata": {},
     "output_type": "execute_result"
    }
   ],
   "source": [
    "df_filled.head()"
   ]
  },
  {
   "cell_type": "code",
   "execution_count": 749,
   "metadata": {},
   "outputs": [
    {
     "data": {
      "text/html": [
       "<div>\n",
       "<style scoped>\n",
       "    .dataframe tbody tr th:only-of-type {\n",
       "        vertical-align: middle;\n",
       "    }\n",
       "\n",
       "    .dataframe tbody tr th {\n",
       "        vertical-align: top;\n",
       "    }\n",
       "\n",
       "    .dataframe thead th {\n",
       "        text-align: right;\n",
       "    }\n",
       "</style>\n",
       "<table border=\"1\" class=\"dataframe\">\n",
       "  <thead>\n",
       "    <tr style=\"text-align: right;\">\n",
       "      <th></th>\n",
       "      <th>ApplicantIncome</th>\n",
       "      <th>CoapplicantIncome</th>\n",
       "      <th>LoanAmount</th>\n",
       "      <th>Loan_Amount_Term</th>\n",
       "      <th>Credit_History</th>\n",
       "      <th>Loan_Status</th>\n",
       "      <th>new_col_1</th>\n",
       "      <th>new_col_2</th>\n",
       "    </tr>\n",
       "  </thead>\n",
       "  <tbody>\n",
       "    <tr>\n",
       "      <td>ApplicantIncome</td>\n",
       "      <td>1.000000</td>\n",
       "      <td>-0.116605</td>\n",
       "      <td>0.565076</td>\n",
       "      <td>-0.046531</td>\n",
       "      <td>-0.010051</td>\n",
       "      <td>-0.004710</td>\n",
       "      <td>-0.216258</td>\n",
       "      <td>0.893037</td>\n",
       "    </tr>\n",
       "    <tr>\n",
       "      <td>CoapplicantIncome</td>\n",
       "      <td>-0.116605</td>\n",
       "      <td>1.000000</td>\n",
       "      <td>0.189350</td>\n",
       "      <td>-0.059383</td>\n",
       "      <td>-0.054737</td>\n",
       "      <td>-0.059187</td>\n",
       "      <td>-0.144511</td>\n",
       "      <td>0.342781</td>\n",
       "    </tr>\n",
       "    <tr>\n",
       "      <td>LoanAmount</td>\n",
       "      <td>0.565076</td>\n",
       "      <td>0.189350</td>\n",
       "      <td>1.000000</td>\n",
       "      <td>0.037009</td>\n",
       "      <td>-0.022155</td>\n",
       "      <td>-0.032864</td>\n",
       "      <td>-0.517662</td>\n",
       "      <td>0.620277</td>\n",
       "    </tr>\n",
       "    <tr>\n",
       "      <td>Loan_Amount_Term</td>\n",
       "      <td>-0.046531</td>\n",
       "      <td>-0.059383</td>\n",
       "      <td>0.037009</td>\n",
       "      <td>1.000000</td>\n",
       "      <td>-0.007758</td>\n",
       "      <td>-0.022549</td>\n",
       "      <td>0.210502</td>\n",
       "      <td>-0.070917</td>\n",
       "    </tr>\n",
       "    <tr>\n",
       "      <td>Credit_History</td>\n",
       "      <td>-0.010051</td>\n",
       "      <td>-0.054737</td>\n",
       "      <td>-0.022155</td>\n",
       "      <td>-0.007758</td>\n",
       "      <td>1.000000</td>\n",
       "      <td>0.595642</td>\n",
       "      <td>0.045459</td>\n",
       "      <td>-0.034306</td>\n",
       "    </tr>\n",
       "    <tr>\n",
       "      <td>Loan_Status</td>\n",
       "      <td>-0.004710</td>\n",
       "      <td>-0.059187</td>\n",
       "      <td>-0.032864</td>\n",
       "      <td>-0.022549</td>\n",
       "      <td>0.595642</td>\n",
       "      <td>1.000000</td>\n",
       "      <td>-0.009376</td>\n",
       "      <td>-0.031271</td>\n",
       "    </tr>\n",
       "    <tr>\n",
       "      <td>new_col_1</td>\n",
       "      <td>-0.216258</td>\n",
       "      <td>-0.144511</td>\n",
       "      <td>-0.517662</td>\n",
       "      <td>0.210502</td>\n",
       "      <td>0.045459</td>\n",
       "      <td>-0.009376</td>\n",
       "      <td>1.000000</td>\n",
       "      <td>-0.270026</td>\n",
       "    </tr>\n",
       "    <tr>\n",
       "      <td>new_col_2</td>\n",
       "      <td>0.893037</td>\n",
       "      <td>0.342781</td>\n",
       "      <td>0.620277</td>\n",
       "      <td>-0.070917</td>\n",
       "      <td>-0.034306</td>\n",
       "      <td>-0.031271</td>\n",
       "      <td>-0.270026</td>\n",
       "      <td>1.000000</td>\n",
       "    </tr>\n",
       "  </tbody>\n",
       "</table>\n",
       "</div>"
      ],
      "text/plain": [
       "                   ApplicantIncome  CoapplicantIncome  LoanAmount  \\\n",
       "ApplicantIncome           1.000000          -0.116605    0.565076   \n",
       "CoapplicantIncome        -0.116605           1.000000    0.189350   \n",
       "LoanAmount                0.565076           0.189350    1.000000   \n",
       "Loan_Amount_Term         -0.046531          -0.059383    0.037009   \n",
       "Credit_History           -0.010051          -0.054737   -0.022155   \n",
       "Loan_Status              -0.004710          -0.059187   -0.032864   \n",
       "new_col_1                -0.216258          -0.144511   -0.517662   \n",
       "new_col_2                 0.893037           0.342781    0.620277   \n",
       "\n",
       "                   Loan_Amount_Term  Credit_History  Loan_Status  new_col_1  \\\n",
       "ApplicantIncome           -0.046531       -0.010051    -0.004710  -0.216258   \n",
       "CoapplicantIncome         -0.059383       -0.054737    -0.059187  -0.144511   \n",
       "LoanAmount                 0.037009       -0.022155    -0.032864  -0.517662   \n",
       "Loan_Amount_Term           1.000000       -0.007758    -0.022549   0.210502   \n",
       "Credit_History            -0.007758        1.000000     0.595642   0.045459   \n",
       "Loan_Status               -0.022549        0.595642     1.000000  -0.009376   \n",
       "new_col_1                  0.210502        0.045459    -0.009376   1.000000   \n",
       "new_col_2                 -0.070917       -0.034306    -0.031271  -0.270026   \n",
       "\n",
       "                   new_col_2  \n",
       "ApplicantIncome     0.893037  \n",
       "CoapplicantIncome   0.342781  \n",
       "LoanAmount          0.620277  \n",
       "Loan_Amount_Term   -0.070917  \n",
       "Credit_History     -0.034306  \n",
       "Loan_Status        -0.031271  \n",
       "new_col_1          -0.270026  \n",
       "new_col_2           1.000000  "
      ]
     },
     "execution_count": 749,
     "metadata": {},
     "output_type": "execute_result"
    }
   ],
   "source": [
    "df_filled.corr()"
   ]
  },
  {
   "cell_type": "code",
   "execution_count": 750,
   "metadata": {},
   "outputs": [
    {
     "data": {
      "text/html": [
       "<style  type=\"text/css\" >\n",
       "    #T_21a89f9a_9aea_11eb_ab56_a81e8407a1b6row0_col0 {\n",
       "            background-color:  #b40426;\n",
       "            color:  #f1f1f1;\n",
       "        }    #T_21a89f9a_9aea_11eb_ab56_a81e8407a1b6row0_col1 {\n",
       "            background-color:  #4257c9;\n",
       "            color:  #f1f1f1;\n",
       "        }    #T_21a89f9a_9aea_11eb_ab56_a81e8407a1b6row0_col2 {\n",
       "            background-color:  #f7a889;\n",
       "            color:  #000000;\n",
       "        }    #T_21a89f9a_9aea_11eb_ab56_a81e8407a1b6row0_col3 {\n",
       "            background-color:  #4055c8;\n",
       "            color:  #f1f1f1;\n",
       "        }    #T_21a89f9a_9aea_11eb_ab56_a81e8407a1b6row0_col4 {\n",
       "            background-color:  #465ecf;\n",
       "            color:  #f1f1f1;\n",
       "        }    #T_21a89f9a_9aea_11eb_ab56_a81e8407a1b6row0_col5 {\n",
       "            background-color:  #4a63d3;\n",
       "            color:  #f1f1f1;\n",
       "        }    #T_21a89f9a_9aea_11eb_ab56_a81e8407a1b6row0_col6 {\n",
       "            background-color:  #7a9df8;\n",
       "            color:  #000000;\n",
       "        }    #T_21a89f9a_9aea_11eb_ab56_a81e8407a1b6row0_col7 {\n",
       "            background-color:  #d1493f;\n",
       "            color:  #f1f1f1;\n",
       "        }    #T_21a89f9a_9aea_11eb_ab56_a81e8407a1b6row1_col0 {\n",
       "            background-color:  #536edd;\n",
       "            color:  #000000;\n",
       "        }    #T_21a89f9a_9aea_11eb_ab56_a81e8407a1b6row1_col1 {\n",
       "            background-color:  #b40426;\n",
       "            color:  #f1f1f1;\n",
       "        }    #T_21a89f9a_9aea_11eb_ab56_a81e8407a1b6row1_col2 {\n",
       "            background-color:  #d4dbe6;\n",
       "            color:  #000000;\n",
       "        }    #T_21a89f9a_9aea_11eb_ab56_a81e8407a1b6row1_col3 {\n",
       "            background-color:  #3d50c3;\n",
       "            color:  #f1f1f1;\n",
       "        }    #T_21a89f9a_9aea_11eb_ab56_a81e8407a1b6row1_col4 {\n",
       "            background-color:  #3b4cc0;\n",
       "            color:  #f1f1f1;\n",
       "        }    #T_21a89f9a_9aea_11eb_ab56_a81e8407a1b6row1_col5 {\n",
       "            background-color:  #3b4cc0;\n",
       "            color:  #f1f1f1;\n",
       "        }    #T_21a89f9a_9aea_11eb_ab56_a81e8407a1b6row1_col6 {\n",
       "            background-color:  #8badfd;\n",
       "            color:  #000000;\n",
       "        }    #T_21a89f9a_9aea_11eb_ab56_a81e8407a1b6row1_col7 {\n",
       "            background-color:  #d8dce2;\n",
       "            color:  #000000;\n",
       "        }    #T_21a89f9a_9aea_11eb_ab56_a81e8407a1b6row2_col0 {\n",
       "            background-color:  #f6bfa6;\n",
       "            color:  #000000;\n",
       "        }    #T_21a89f9a_9aea_11eb_ab56_a81e8407a1b6row2_col1 {\n",
       "            background-color:  #9bbcff;\n",
       "            color:  #000000;\n",
       "        }    #T_21a89f9a_9aea_11eb_ab56_a81e8407a1b6row2_col2 {\n",
       "            background-color:  #b40426;\n",
       "            color:  #f1f1f1;\n",
       "        }    #T_21a89f9a_9aea_11eb_ab56_a81e8407a1b6row2_col3 {\n",
       "            background-color:  #5977e3;\n",
       "            color:  #000000;\n",
       "        }    #T_21a89f9a_9aea_11eb_ab56_a81e8407a1b6row2_col4 {\n",
       "            background-color:  #4358cb;\n",
       "            color:  #f1f1f1;\n",
       "        }    #T_21a89f9a_9aea_11eb_ab56_a81e8407a1b6row2_col5 {\n",
       "            background-color:  #4257c9;\n",
       "            color:  #f1f1f1;\n",
       "        }    #T_21a89f9a_9aea_11eb_ab56_a81e8407a1b6row2_col6 {\n",
       "            background-color:  #3b4cc0;\n",
       "            color:  #f1f1f1;\n",
       "        }    #T_21a89f9a_9aea_11eb_ab56_a81e8407a1b6row2_col7 {\n",
       "            background-color:  #f7ac8e;\n",
       "            color:  #000000;\n",
       "        }    #T_21a89f9a_9aea_11eb_ab56_a81e8407a1b6row3_col0 {\n",
       "            background-color:  #6687ed;\n",
       "            color:  #000000;\n",
       "        }    #T_21a89f9a_9aea_11eb_ab56_a81e8407a1b6row3_col1 {\n",
       "            background-color:  #516ddb;\n",
       "            color:  #000000;\n",
       "        }    #T_21a89f9a_9aea_11eb_ab56_a81e8407a1b6row3_col2 {\n",
       "            background-color:  #b5cdfa;\n",
       "            color:  #000000;\n",
       "        }    #T_21a89f9a_9aea_11eb_ab56_a81e8407a1b6row3_col3 {\n",
       "            background-color:  #b40426;\n",
       "            color:  #f1f1f1;\n",
       "        }    #T_21a89f9a_9aea_11eb_ab56_a81e8407a1b6row3_col4 {\n",
       "            background-color:  #485fd1;\n",
       "            color:  #f1f1f1;\n",
       "        }    #T_21a89f9a_9aea_11eb_ab56_a81e8407a1b6row3_col5 {\n",
       "            background-color:  #445acc;\n",
       "            color:  #f1f1f1;\n",
       "        }    #T_21a89f9a_9aea_11eb_ab56_a81e8407a1b6row3_col6 {\n",
       "            background-color:  #d7dce3;\n",
       "            color:  #000000;\n",
       "        }    #T_21a89f9a_9aea_11eb_ab56_a81e8407a1b6row3_col7 {\n",
       "            background-color:  #6c8ff1;\n",
       "            color:  #000000;\n",
       "        }    #T_21a89f9a_9aea_11eb_ab56_a81e8407a1b6row4_col0 {\n",
       "            background-color:  #7093f3;\n",
       "            color:  #000000;\n",
       "        }    #T_21a89f9a_9aea_11eb_ab56_a81e8407a1b6row4_col1 {\n",
       "            background-color:  #536edd;\n",
       "            color:  #000000;\n",
       "        }    #T_21a89f9a_9aea_11eb_ab56_a81e8407a1b6row4_col2 {\n",
       "            background-color:  #a7c5fe;\n",
       "            color:  #000000;\n",
       "        }    #T_21a89f9a_9aea_11eb_ab56_a81e8407a1b6row4_col3 {\n",
       "            background-color:  #4c66d6;\n",
       "            color:  #000000;\n",
       "        }    #T_21a89f9a_9aea_11eb_ab56_a81e8407a1b6row4_col4 {\n",
       "            background-color:  #b40426;\n",
       "            color:  #f1f1f1;\n",
       "        }    #T_21a89f9a_9aea_11eb_ab56_a81e8407a1b6row4_col5 {\n",
       "            background-color:  #f4c6af;\n",
       "            color:  #000000;\n",
       "        }    #T_21a89f9a_9aea_11eb_ab56_a81e8407a1b6row4_col6 {\n",
       "            background-color:  #b6cefa;\n",
       "            color:  #000000;\n",
       "        }    #T_21a89f9a_9aea_11eb_ab56_a81e8407a1b6row4_col7 {\n",
       "            background-color:  #7699f6;\n",
       "            color:  #000000;\n",
       "        }    #T_21a89f9a_9aea_11eb_ab56_a81e8407a1b6row5_col0 {\n",
       "            background-color:  #7295f4;\n",
       "            color:  #000000;\n",
       "        }    #T_21a89f9a_9aea_11eb_ab56_a81e8407a1b6row5_col1 {\n",
       "            background-color:  #516ddb;\n",
       "            color:  #000000;\n",
       "        }    #T_21a89f9a_9aea_11eb_ab56_a81e8407a1b6row5_col2 {\n",
       "            background-color:  #a5c3fe;\n",
       "            color:  #000000;\n",
       "        }    #T_21a89f9a_9aea_11eb_ab56_a81e8407a1b6row5_col3 {\n",
       "            background-color:  #485fd1;\n",
       "            color:  #f1f1f1;\n",
       "        }    #T_21a89f9a_9aea_11eb_ab56_a81e8407a1b6row5_col4 {\n",
       "            background-color:  #f3c7b1;\n",
       "            color:  #000000;\n",
       "        }    #T_21a89f9a_9aea_11eb_ab56_a81e8407a1b6row5_col5 {\n",
       "            background-color:  #b40426;\n",
       "            color:  #f1f1f1;\n",
       "        }    #T_21a89f9a_9aea_11eb_ab56_a81e8407a1b6row5_col6 {\n",
       "            background-color:  #aac7fd;\n",
       "            color:  #000000;\n",
       "        }    #T_21a89f9a_9aea_11eb_ab56_a81e8407a1b6row5_col7 {\n",
       "            background-color:  #779af7;\n",
       "            color:  #000000;\n",
       "        }    #T_21a89f9a_9aea_11eb_ab56_a81e8407a1b6row6_col0 {\n",
       "            background-color:  #3b4cc0;\n",
       "            color:  #f1f1f1;\n",
       "        }    #T_21a89f9a_9aea_11eb_ab56_a81e8407a1b6row6_col1 {\n",
       "            background-color:  #3b4cc0;\n",
       "            color:  #f1f1f1;\n",
       "        }    #T_21a89f9a_9aea_11eb_ab56_a81e8407a1b6row6_col2 {\n",
       "            background-color:  #3b4cc0;\n",
       "            color:  #f1f1f1;\n",
       "        }    #T_21a89f9a_9aea_11eb_ab56_a81e8407a1b6row6_col3 {\n",
       "            background-color:  #92b4fe;\n",
       "            color:  #000000;\n",
       "        }    #T_21a89f9a_9aea_11eb_ab56_a81e8407a1b6row6_col4 {\n",
       "            background-color:  #5875e1;\n",
       "            color:  #000000;\n",
       "        }    #T_21a89f9a_9aea_11eb_ab56_a81e8407a1b6row6_col5 {\n",
       "            background-color:  #4961d2;\n",
       "            color:  #f1f1f1;\n",
       "        }    #T_21a89f9a_9aea_11eb_ab56_a81e8407a1b6row6_col6 {\n",
       "            background-color:  #b40426;\n",
       "            color:  #f1f1f1;\n",
       "        }    #T_21a89f9a_9aea_11eb_ab56_a81e8407a1b6row6_col7 {\n",
       "            background-color:  #3b4cc0;\n",
       "            color:  #f1f1f1;\n",
       "        }    #T_21a89f9a_9aea_11eb_ab56_a81e8407a1b6row7_col0 {\n",
       "            background-color:  #d24b40;\n",
       "            color:  #f1f1f1;\n",
       "        }    #T_21a89f9a_9aea_11eb_ab56_a81e8407a1b6row7_col1 {\n",
       "            background-color:  #c7d7f0;\n",
       "            color:  #000000;\n",
       "        }    #T_21a89f9a_9aea_11eb_ab56_a81e8407a1b6row7_col2 {\n",
       "            background-color:  #f49a7b;\n",
       "            color:  #000000;\n",
       "        }    #T_21a89f9a_9aea_11eb_ab56_a81e8407a1b6row7_col3 {\n",
       "            background-color:  #3b4cc0;\n",
       "            color:  #f1f1f1;\n",
       "        }    #T_21a89f9a_9aea_11eb_ab56_a81e8407a1b6row7_col4 {\n",
       "            background-color:  #3f53c6;\n",
       "            color:  #f1f1f1;\n",
       "        }    #T_21a89f9a_9aea_11eb_ab56_a81e8407a1b6row7_col5 {\n",
       "            background-color:  #4257c9;\n",
       "            color:  #f1f1f1;\n",
       "        }    #T_21a89f9a_9aea_11eb_ab56_a81e8407a1b6row7_col6 {\n",
       "            background-color:  #6e90f2;\n",
       "            color:  #000000;\n",
       "        }    #T_21a89f9a_9aea_11eb_ab56_a81e8407a1b6row7_col7 {\n",
       "            background-color:  #b40426;\n",
       "            color:  #f1f1f1;\n",
       "        }</style><table id=\"T_21a89f9a_9aea_11eb_ab56_a81e8407a1b6\" ><thead>    <tr>        <th class=\"blank level0\" ></th>        <th class=\"col_heading level0 col0\" >ApplicantIncome</th>        <th class=\"col_heading level0 col1\" >CoapplicantIncome</th>        <th class=\"col_heading level0 col2\" >LoanAmount</th>        <th class=\"col_heading level0 col3\" >Loan_Amount_Term</th>        <th class=\"col_heading level0 col4\" >Credit_History</th>        <th class=\"col_heading level0 col5\" >Loan_Status</th>        <th class=\"col_heading level0 col6\" >new_col_1</th>        <th class=\"col_heading level0 col7\" >new_col_2</th>    </tr></thead><tbody>\n",
       "                <tr>\n",
       "                        <th id=\"T_21a89f9a_9aea_11eb_ab56_a81e8407a1b6level0_row0\" class=\"row_heading level0 row0\" >ApplicantIncome</th>\n",
       "                        <td id=\"T_21a89f9a_9aea_11eb_ab56_a81e8407a1b6row0_col0\" class=\"data row0 col0\" >1</td>\n",
       "                        <td id=\"T_21a89f9a_9aea_11eb_ab56_a81e8407a1b6row0_col1\" class=\"data row0 col1\" >-0.116605</td>\n",
       "                        <td id=\"T_21a89f9a_9aea_11eb_ab56_a81e8407a1b6row0_col2\" class=\"data row0 col2\" >0.565076</td>\n",
       "                        <td id=\"T_21a89f9a_9aea_11eb_ab56_a81e8407a1b6row0_col3\" class=\"data row0 col3\" >-0.0465311</td>\n",
       "                        <td id=\"T_21a89f9a_9aea_11eb_ab56_a81e8407a1b6row0_col4\" class=\"data row0 col4\" >-0.0100508</td>\n",
       "                        <td id=\"T_21a89f9a_9aea_11eb_ab56_a81e8407a1b6row0_col5\" class=\"data row0 col5\" >-0.00470952</td>\n",
       "                        <td id=\"T_21a89f9a_9aea_11eb_ab56_a81e8407a1b6row0_col6\" class=\"data row0 col6\" >-0.216258</td>\n",
       "                        <td id=\"T_21a89f9a_9aea_11eb_ab56_a81e8407a1b6row0_col7\" class=\"data row0 col7\" >0.893037</td>\n",
       "            </tr>\n",
       "            <tr>\n",
       "                        <th id=\"T_21a89f9a_9aea_11eb_ab56_a81e8407a1b6level0_row1\" class=\"row_heading level0 row1\" >CoapplicantIncome</th>\n",
       "                        <td id=\"T_21a89f9a_9aea_11eb_ab56_a81e8407a1b6row1_col0\" class=\"data row1 col0\" >-0.116605</td>\n",
       "                        <td id=\"T_21a89f9a_9aea_11eb_ab56_a81e8407a1b6row1_col1\" class=\"data row1 col1\" >1</td>\n",
       "                        <td id=\"T_21a89f9a_9aea_11eb_ab56_a81e8407a1b6row1_col2\" class=\"data row1 col2\" >0.18935</td>\n",
       "                        <td id=\"T_21a89f9a_9aea_11eb_ab56_a81e8407a1b6row1_col3\" class=\"data row1 col3\" >-0.0593831</td>\n",
       "                        <td id=\"T_21a89f9a_9aea_11eb_ab56_a81e8407a1b6row1_col4\" class=\"data row1 col4\" >-0.0547368</td>\n",
       "                        <td id=\"T_21a89f9a_9aea_11eb_ab56_a81e8407a1b6row1_col5\" class=\"data row1 col5\" >-0.0591873</td>\n",
       "                        <td id=\"T_21a89f9a_9aea_11eb_ab56_a81e8407a1b6row1_col6\" class=\"data row1 col6\" >-0.144511</td>\n",
       "                        <td id=\"T_21a89f9a_9aea_11eb_ab56_a81e8407a1b6row1_col7\" class=\"data row1 col7\" >0.342781</td>\n",
       "            </tr>\n",
       "            <tr>\n",
       "                        <th id=\"T_21a89f9a_9aea_11eb_ab56_a81e8407a1b6level0_row2\" class=\"row_heading level0 row2\" >LoanAmount</th>\n",
       "                        <td id=\"T_21a89f9a_9aea_11eb_ab56_a81e8407a1b6row2_col0\" class=\"data row2 col0\" >0.565076</td>\n",
       "                        <td id=\"T_21a89f9a_9aea_11eb_ab56_a81e8407a1b6row2_col1\" class=\"data row2 col1\" >0.18935</td>\n",
       "                        <td id=\"T_21a89f9a_9aea_11eb_ab56_a81e8407a1b6row2_col2\" class=\"data row2 col2\" >1</td>\n",
       "                        <td id=\"T_21a89f9a_9aea_11eb_ab56_a81e8407a1b6row2_col3\" class=\"data row2 col3\" >0.0370092</td>\n",
       "                        <td id=\"T_21a89f9a_9aea_11eb_ab56_a81e8407a1b6row2_col4\" class=\"data row2 col4\" >-0.0221546</td>\n",
       "                        <td id=\"T_21a89f9a_9aea_11eb_ab56_a81e8407a1b6row2_col5\" class=\"data row2 col5\" >-0.0328635</td>\n",
       "                        <td id=\"T_21a89f9a_9aea_11eb_ab56_a81e8407a1b6row2_col6\" class=\"data row2 col6\" >-0.517662</td>\n",
       "                        <td id=\"T_21a89f9a_9aea_11eb_ab56_a81e8407a1b6row2_col7\" class=\"data row2 col7\" >0.620277</td>\n",
       "            </tr>\n",
       "            <tr>\n",
       "                        <th id=\"T_21a89f9a_9aea_11eb_ab56_a81e8407a1b6level0_row3\" class=\"row_heading level0 row3\" >Loan_Amount_Term</th>\n",
       "                        <td id=\"T_21a89f9a_9aea_11eb_ab56_a81e8407a1b6row3_col0\" class=\"data row3 col0\" >-0.0465311</td>\n",
       "                        <td id=\"T_21a89f9a_9aea_11eb_ab56_a81e8407a1b6row3_col1\" class=\"data row3 col1\" >-0.0593831</td>\n",
       "                        <td id=\"T_21a89f9a_9aea_11eb_ab56_a81e8407a1b6row3_col2\" class=\"data row3 col2\" >0.0370092</td>\n",
       "                        <td id=\"T_21a89f9a_9aea_11eb_ab56_a81e8407a1b6row3_col3\" class=\"data row3 col3\" >1</td>\n",
       "                        <td id=\"T_21a89f9a_9aea_11eb_ab56_a81e8407a1b6row3_col4\" class=\"data row3 col4\" >-0.00775828</td>\n",
       "                        <td id=\"T_21a89f9a_9aea_11eb_ab56_a81e8407a1b6row3_col5\" class=\"data row3 col5\" >-0.022549</td>\n",
       "                        <td id=\"T_21a89f9a_9aea_11eb_ab56_a81e8407a1b6row3_col6\" class=\"data row3 col6\" >0.210502</td>\n",
       "                        <td id=\"T_21a89f9a_9aea_11eb_ab56_a81e8407a1b6row3_col7\" class=\"data row3 col7\" >-0.0709172</td>\n",
       "            </tr>\n",
       "            <tr>\n",
       "                        <th id=\"T_21a89f9a_9aea_11eb_ab56_a81e8407a1b6level0_row4\" class=\"row_heading level0 row4\" >Credit_History</th>\n",
       "                        <td id=\"T_21a89f9a_9aea_11eb_ab56_a81e8407a1b6row4_col0\" class=\"data row4 col0\" >-0.0100508</td>\n",
       "                        <td id=\"T_21a89f9a_9aea_11eb_ab56_a81e8407a1b6row4_col1\" class=\"data row4 col1\" >-0.0547368</td>\n",
       "                        <td id=\"T_21a89f9a_9aea_11eb_ab56_a81e8407a1b6row4_col2\" class=\"data row4 col2\" >-0.0221546</td>\n",
       "                        <td id=\"T_21a89f9a_9aea_11eb_ab56_a81e8407a1b6row4_col3\" class=\"data row4 col3\" >-0.00775828</td>\n",
       "                        <td id=\"T_21a89f9a_9aea_11eb_ab56_a81e8407a1b6row4_col4\" class=\"data row4 col4\" >1</td>\n",
       "                        <td id=\"T_21a89f9a_9aea_11eb_ab56_a81e8407a1b6row4_col5\" class=\"data row4 col5\" >0.595642</td>\n",
       "                        <td id=\"T_21a89f9a_9aea_11eb_ab56_a81e8407a1b6row4_col6\" class=\"data row4 col6\" >0.0454587</td>\n",
       "                        <td id=\"T_21a89f9a_9aea_11eb_ab56_a81e8407a1b6row4_col7\" class=\"data row4 col7\" >-0.0343065</td>\n",
       "            </tr>\n",
       "            <tr>\n",
       "                        <th id=\"T_21a89f9a_9aea_11eb_ab56_a81e8407a1b6level0_row5\" class=\"row_heading level0 row5\" >Loan_Status</th>\n",
       "                        <td id=\"T_21a89f9a_9aea_11eb_ab56_a81e8407a1b6row5_col0\" class=\"data row5 col0\" >-0.00470952</td>\n",
       "                        <td id=\"T_21a89f9a_9aea_11eb_ab56_a81e8407a1b6row5_col1\" class=\"data row5 col1\" >-0.0591873</td>\n",
       "                        <td id=\"T_21a89f9a_9aea_11eb_ab56_a81e8407a1b6row5_col2\" class=\"data row5 col2\" >-0.0328635</td>\n",
       "                        <td id=\"T_21a89f9a_9aea_11eb_ab56_a81e8407a1b6row5_col3\" class=\"data row5 col3\" >-0.022549</td>\n",
       "                        <td id=\"T_21a89f9a_9aea_11eb_ab56_a81e8407a1b6row5_col4\" class=\"data row5 col4\" >0.595642</td>\n",
       "                        <td id=\"T_21a89f9a_9aea_11eb_ab56_a81e8407a1b6row5_col5\" class=\"data row5 col5\" >1</td>\n",
       "                        <td id=\"T_21a89f9a_9aea_11eb_ab56_a81e8407a1b6row5_col6\" class=\"data row5 col6\" >-0.00937628</td>\n",
       "                        <td id=\"T_21a89f9a_9aea_11eb_ab56_a81e8407a1b6row5_col7\" class=\"data row5 col7\" >-0.0312708</td>\n",
       "            </tr>\n",
       "            <tr>\n",
       "                        <th id=\"T_21a89f9a_9aea_11eb_ab56_a81e8407a1b6level0_row6\" class=\"row_heading level0 row6\" >new_col_1</th>\n",
       "                        <td id=\"T_21a89f9a_9aea_11eb_ab56_a81e8407a1b6row6_col0\" class=\"data row6 col0\" >-0.216258</td>\n",
       "                        <td id=\"T_21a89f9a_9aea_11eb_ab56_a81e8407a1b6row6_col1\" class=\"data row6 col1\" >-0.144511</td>\n",
       "                        <td id=\"T_21a89f9a_9aea_11eb_ab56_a81e8407a1b6row6_col2\" class=\"data row6 col2\" >-0.517662</td>\n",
       "                        <td id=\"T_21a89f9a_9aea_11eb_ab56_a81e8407a1b6row6_col3\" class=\"data row6 col3\" >0.210502</td>\n",
       "                        <td id=\"T_21a89f9a_9aea_11eb_ab56_a81e8407a1b6row6_col4\" class=\"data row6 col4\" >0.0454587</td>\n",
       "                        <td id=\"T_21a89f9a_9aea_11eb_ab56_a81e8407a1b6row6_col5\" class=\"data row6 col5\" >-0.00937628</td>\n",
       "                        <td id=\"T_21a89f9a_9aea_11eb_ab56_a81e8407a1b6row6_col6\" class=\"data row6 col6\" >1</td>\n",
       "                        <td id=\"T_21a89f9a_9aea_11eb_ab56_a81e8407a1b6row6_col7\" class=\"data row6 col7\" >-0.270026</td>\n",
       "            </tr>\n",
       "            <tr>\n",
       "                        <th id=\"T_21a89f9a_9aea_11eb_ab56_a81e8407a1b6level0_row7\" class=\"row_heading level0 row7\" >new_col_2</th>\n",
       "                        <td id=\"T_21a89f9a_9aea_11eb_ab56_a81e8407a1b6row7_col0\" class=\"data row7 col0\" >0.893037</td>\n",
       "                        <td id=\"T_21a89f9a_9aea_11eb_ab56_a81e8407a1b6row7_col1\" class=\"data row7 col1\" >0.342781</td>\n",
       "                        <td id=\"T_21a89f9a_9aea_11eb_ab56_a81e8407a1b6row7_col2\" class=\"data row7 col2\" >0.620277</td>\n",
       "                        <td id=\"T_21a89f9a_9aea_11eb_ab56_a81e8407a1b6row7_col3\" class=\"data row7 col3\" >-0.0709172</td>\n",
       "                        <td id=\"T_21a89f9a_9aea_11eb_ab56_a81e8407a1b6row7_col4\" class=\"data row7 col4\" >-0.0343065</td>\n",
       "                        <td id=\"T_21a89f9a_9aea_11eb_ab56_a81e8407a1b6row7_col5\" class=\"data row7 col5\" >-0.0312708</td>\n",
       "                        <td id=\"T_21a89f9a_9aea_11eb_ab56_a81e8407a1b6row7_col6\" class=\"data row7 col6\" >-0.270026</td>\n",
       "                        <td id=\"T_21a89f9a_9aea_11eb_ab56_a81e8407a1b6row7_col7\" class=\"data row7 col7\" >1</td>\n",
       "            </tr>\n",
       "    </tbody></table>"
      ],
      "text/plain": [
       "<pandas.io.formats.style.Styler at 0x2150514a108>"
      ]
     },
     "execution_count": 750,
     "metadata": {},
     "output_type": "execute_result"
    }
   ],
   "source": [
    "corr = df_filled.corr()\n",
    "corr.style.background_gradient(cmap='coolwarm')"
   ]
  },
  {
   "cell_type": "markdown",
   "metadata": {},
   "source": [
    "### Format Data Part 1: Split data into Dependent and Independent Variables"
   ]
  },
  {
   "cell_type": "code",
   "execution_count": 751,
   "metadata": {},
   "outputs": [
    {
     "data": {
      "text/plain": [
       "0    1\n",
       "1    0\n",
       "2    1\n",
       "3    1\n",
       "4    1\n",
       "Name: Loan_Status, dtype: int64"
      ]
     },
     "execution_count": 751,
     "metadata": {},
     "output_type": "execute_result"
    }
   ],
   "source": [
    "# Dependent variable is y\n",
    "y = df_filled['Loan_Status'].copy()\n",
    "y.head()"
   ]
  },
  {
   "cell_type": "code",
   "execution_count": 752,
   "metadata": {},
   "outputs": [
    {
     "data": {
      "text/html": [
       "<div>\n",
       "<style scoped>\n",
       "    .dataframe tbody tr th:only-of-type {\n",
       "        vertical-align: middle;\n",
       "    }\n",
       "\n",
       "    .dataframe tbody tr th {\n",
       "        vertical-align: top;\n",
       "    }\n",
       "\n",
       "    .dataframe thead th {\n",
       "        text-align: right;\n",
       "    }\n",
       "</style>\n",
       "<table border=\"1\" class=\"dataframe\">\n",
       "  <thead>\n",
       "    <tr style=\"text-align: right;\">\n",
       "      <th></th>\n",
       "      <th>Gender</th>\n",
       "      <th>Married</th>\n",
       "      <th>Dependents</th>\n",
       "      <th>Education</th>\n",
       "      <th>Self_Employed</th>\n",
       "      <th>ApplicantIncome</th>\n",
       "      <th>CoapplicantIncome</th>\n",
       "      <th>LoanAmount</th>\n",
       "      <th>Loan_Amount_Term</th>\n",
       "      <th>Credit_History</th>\n",
       "      <th>Property_Area</th>\n",
       "      <th>new_col_1</th>\n",
       "      <th>new_col_2</th>\n",
       "    </tr>\n",
       "  </thead>\n",
       "  <tbody>\n",
       "    <tr>\n",
       "      <td>0</td>\n",
       "      <td>Male</td>\n",
       "      <td>No</td>\n",
       "      <td>0</td>\n",
       "      <td>Graduate</td>\n",
       "      <td>No</td>\n",
       "      <td>5849</td>\n",
       "      <td>0.0</td>\n",
       "      <td>126.0</td>\n",
       "      <td>360.0</td>\n",
       "      <td>1.0</td>\n",
       "      <td>Urban</td>\n",
       "      <td>2.857143</td>\n",
       "      <td>5849.0</td>\n",
       "    </tr>\n",
       "    <tr>\n",
       "      <td>1</td>\n",
       "      <td>Male</td>\n",
       "      <td>Yes</td>\n",
       "      <td>1</td>\n",
       "      <td>Graduate</td>\n",
       "      <td>No</td>\n",
       "      <td>4583</td>\n",
       "      <td>1508.0</td>\n",
       "      <td>128.0</td>\n",
       "      <td>360.0</td>\n",
       "      <td>1.0</td>\n",
       "      <td>Rural</td>\n",
       "      <td>2.812500</td>\n",
       "      <td>6091.0</td>\n",
       "    </tr>\n",
       "    <tr>\n",
       "      <td>2</td>\n",
       "      <td>Male</td>\n",
       "      <td>Yes</td>\n",
       "      <td>0</td>\n",
       "      <td>Graduate</td>\n",
       "      <td>Yes</td>\n",
       "      <td>3000</td>\n",
       "      <td>0.0</td>\n",
       "      <td>66.0</td>\n",
       "      <td>360.0</td>\n",
       "      <td>1.0</td>\n",
       "      <td>Urban</td>\n",
       "      <td>5.454545</td>\n",
       "      <td>3000.0</td>\n",
       "    </tr>\n",
       "    <tr>\n",
       "      <td>3</td>\n",
       "      <td>Male</td>\n",
       "      <td>Yes</td>\n",
       "      <td>0</td>\n",
       "      <td>Not Graduate</td>\n",
       "      <td>No</td>\n",
       "      <td>2583</td>\n",
       "      <td>2358.0</td>\n",
       "      <td>120.0</td>\n",
       "      <td>360.0</td>\n",
       "      <td>1.0</td>\n",
       "      <td>Urban</td>\n",
       "      <td>3.000000</td>\n",
       "      <td>4941.0</td>\n",
       "    </tr>\n",
       "    <tr>\n",
       "      <td>4</td>\n",
       "      <td>Male</td>\n",
       "      <td>No</td>\n",
       "      <td>0</td>\n",
       "      <td>Graduate</td>\n",
       "      <td>No</td>\n",
       "      <td>6000</td>\n",
       "      <td>0.0</td>\n",
       "      <td>141.0</td>\n",
       "      <td>360.0</td>\n",
       "      <td>1.0</td>\n",
       "      <td>Urban</td>\n",
       "      <td>2.553191</td>\n",
       "      <td>6000.0</td>\n",
       "    </tr>\n",
       "  </tbody>\n",
       "</table>\n",
       "</div>"
      ],
      "text/plain": [
       "  Gender Married Dependents     Education Self_Employed  ApplicantIncome  \\\n",
       "0   Male      No          0      Graduate            No             5849   \n",
       "1   Male     Yes          1      Graduate            No             4583   \n",
       "2   Male     Yes          0      Graduate           Yes             3000   \n",
       "3   Male     Yes          0  Not Graduate            No             2583   \n",
       "4   Male      No          0      Graduate            No             6000   \n",
       "\n",
       "   CoapplicantIncome  LoanAmount  Loan_Amount_Term  Credit_History  \\\n",
       "0                0.0       126.0             360.0             1.0   \n",
       "1             1508.0       128.0             360.0             1.0   \n",
       "2                0.0        66.0             360.0             1.0   \n",
       "3             2358.0       120.0             360.0             1.0   \n",
       "4                0.0       141.0             360.0             1.0   \n",
       "\n",
       "  Property_Area  new_col_1  new_col_2  \n",
       "0         Urban   2.857143     5849.0  \n",
       "1         Rural   2.812500     6091.0  \n",
       "2         Urban   5.454545     3000.0  \n",
       "3         Urban   3.000000     4941.0  \n",
       "4         Urban   2.553191     6000.0  "
      ]
     },
     "execution_count": 752,
     "metadata": {},
     "output_type": "execute_result"
    }
   ],
   "source": [
    "# Independent variable is X\n",
    "X = df_filled.drop(['Loan_Status'], axis='columns').copy()\n",
    "X.head()"
   ]
  },
  {
   "cell_type": "markdown",
   "metadata": {},
   "source": [
    "### Format the Data Part 2: One-Hot-Encoding"
   ]
  },
  {
   "cell_type": "code",
   "execution_count": 753,
   "metadata": {},
   "outputs": [
    {
     "data": {
      "text/plain": [
       "Gender                object\n",
       "Married               object\n",
       "Dependents            object\n",
       "Education             object\n",
       "Self_Employed         object\n",
       "ApplicantIncome        int64\n",
       "CoapplicantIncome    float64\n",
       "LoanAmount           float64\n",
       "Loan_Amount_Term     float64\n",
       "Credit_History       float64\n",
       "Property_Area         object\n",
       "new_col_1            float64\n",
       "new_col_2            float64\n",
       "dtype: object"
      ]
     },
     "execution_count": 753,
     "metadata": {},
     "output_type": "execute_result"
    }
   ],
   "source": [
    "X.dtypes"
   ]
  },
  {
   "cell_type": "code",
   "execution_count": 754,
   "metadata": {},
   "outputs": [
    {
     "data": {
      "text/html": [
       "<div>\n",
       "<style scoped>\n",
       "    .dataframe tbody tr th:only-of-type {\n",
       "        vertical-align: middle;\n",
       "    }\n",
       "\n",
       "    .dataframe tbody tr th {\n",
       "        vertical-align: top;\n",
       "    }\n",
       "\n",
       "    .dataframe thead th {\n",
       "        text-align: right;\n",
       "    }\n",
       "</style>\n",
       "<table border=\"1\" class=\"dataframe\">\n",
       "  <thead>\n",
       "    <tr style=\"text-align: right;\">\n",
       "      <th></th>\n",
       "      <th>ApplicantIncome</th>\n",
       "      <th>CoapplicantIncome</th>\n",
       "      <th>LoanAmount</th>\n",
       "      <th>Loan_Amount_Term</th>\n",
       "      <th>new_col_1</th>\n",
       "      <th>new_col_2</th>\n",
       "      <th>Credit_History_0.0</th>\n",
       "      <th>Credit_History_1.0</th>\n",
       "      <th>Dependents_0</th>\n",
       "      <th>Dependents_1</th>\n",
       "      <th>...</th>\n",
       "      <th>Education_Not Graduate</th>\n",
       "      <th>Gender_Female</th>\n",
       "      <th>Gender_Male</th>\n",
       "      <th>Married_No</th>\n",
       "      <th>Married_Yes</th>\n",
       "      <th>Property_Area_Rural</th>\n",
       "      <th>Property_Area_Semiurban</th>\n",
       "      <th>Property_Area_Urban</th>\n",
       "      <th>Self_Employed_No</th>\n",
       "      <th>Self_Employed_Yes</th>\n",
       "    </tr>\n",
       "  </thead>\n",
       "  <tbody>\n",
       "    <tr>\n",
       "      <td>0</td>\n",
       "      <td>5849</td>\n",
       "      <td>0.0</td>\n",
       "      <td>126.0</td>\n",
       "      <td>360.0</td>\n",
       "      <td>2.857143</td>\n",
       "      <td>5849.0</td>\n",
       "      <td>0</td>\n",
       "      <td>1</td>\n",
       "      <td>1</td>\n",
       "      <td>0</td>\n",
       "      <td>...</td>\n",
       "      <td>0</td>\n",
       "      <td>0</td>\n",
       "      <td>1</td>\n",
       "      <td>1</td>\n",
       "      <td>0</td>\n",
       "      <td>0</td>\n",
       "      <td>0</td>\n",
       "      <td>1</td>\n",
       "      <td>1</td>\n",
       "      <td>0</td>\n",
       "    </tr>\n",
       "    <tr>\n",
       "      <td>1</td>\n",
       "      <td>4583</td>\n",
       "      <td>1508.0</td>\n",
       "      <td>128.0</td>\n",
       "      <td>360.0</td>\n",
       "      <td>2.812500</td>\n",
       "      <td>6091.0</td>\n",
       "      <td>0</td>\n",
       "      <td>1</td>\n",
       "      <td>0</td>\n",
       "      <td>1</td>\n",
       "      <td>...</td>\n",
       "      <td>0</td>\n",
       "      <td>0</td>\n",
       "      <td>1</td>\n",
       "      <td>0</td>\n",
       "      <td>1</td>\n",
       "      <td>1</td>\n",
       "      <td>0</td>\n",
       "      <td>0</td>\n",
       "      <td>1</td>\n",
       "      <td>0</td>\n",
       "    </tr>\n",
       "    <tr>\n",
       "      <td>2</td>\n",
       "      <td>3000</td>\n",
       "      <td>0.0</td>\n",
       "      <td>66.0</td>\n",
       "      <td>360.0</td>\n",
       "      <td>5.454545</td>\n",
       "      <td>3000.0</td>\n",
       "      <td>0</td>\n",
       "      <td>1</td>\n",
       "      <td>1</td>\n",
       "      <td>0</td>\n",
       "      <td>...</td>\n",
       "      <td>0</td>\n",
       "      <td>0</td>\n",
       "      <td>1</td>\n",
       "      <td>0</td>\n",
       "      <td>1</td>\n",
       "      <td>0</td>\n",
       "      <td>0</td>\n",
       "      <td>1</td>\n",
       "      <td>0</td>\n",
       "      <td>1</td>\n",
       "    </tr>\n",
       "    <tr>\n",
       "      <td>3</td>\n",
       "      <td>2583</td>\n",
       "      <td>2358.0</td>\n",
       "      <td>120.0</td>\n",
       "      <td>360.0</td>\n",
       "      <td>3.000000</td>\n",
       "      <td>4941.0</td>\n",
       "      <td>0</td>\n",
       "      <td>1</td>\n",
       "      <td>1</td>\n",
       "      <td>0</td>\n",
       "      <td>...</td>\n",
       "      <td>1</td>\n",
       "      <td>0</td>\n",
       "      <td>1</td>\n",
       "      <td>0</td>\n",
       "      <td>1</td>\n",
       "      <td>0</td>\n",
       "      <td>0</td>\n",
       "      <td>1</td>\n",
       "      <td>1</td>\n",
       "      <td>0</td>\n",
       "    </tr>\n",
       "    <tr>\n",
       "      <td>4</td>\n",
       "      <td>6000</td>\n",
       "      <td>0.0</td>\n",
       "      <td>141.0</td>\n",
       "      <td>360.0</td>\n",
       "      <td>2.553191</td>\n",
       "      <td>6000.0</td>\n",
       "      <td>0</td>\n",
       "      <td>1</td>\n",
       "      <td>1</td>\n",
       "      <td>0</td>\n",
       "      <td>...</td>\n",
       "      <td>0</td>\n",
       "      <td>0</td>\n",
       "      <td>1</td>\n",
       "      <td>1</td>\n",
       "      <td>0</td>\n",
       "      <td>0</td>\n",
       "      <td>0</td>\n",
       "      <td>1</td>\n",
       "      <td>1</td>\n",
       "      <td>0</td>\n",
       "    </tr>\n",
       "  </tbody>\n",
       "</table>\n",
       "<p>5 rows × 23 columns</p>\n",
       "</div>"
      ],
      "text/plain": [
       "   ApplicantIncome  CoapplicantIncome  LoanAmount  Loan_Amount_Term  \\\n",
       "0             5849                0.0       126.0             360.0   \n",
       "1             4583             1508.0       128.0             360.0   \n",
       "2             3000                0.0        66.0             360.0   \n",
       "3             2583             2358.0       120.0             360.0   \n",
       "4             6000                0.0       141.0             360.0   \n",
       "\n",
       "   new_col_1  new_col_2  Credit_History_0.0  Credit_History_1.0  Dependents_0  \\\n",
       "0   2.857143     5849.0                   0                   1             1   \n",
       "1   2.812500     6091.0                   0                   1             0   \n",
       "2   5.454545     3000.0                   0                   1             1   \n",
       "3   3.000000     4941.0                   0                   1             1   \n",
       "4   2.553191     6000.0                   0                   1             1   \n",
       "\n",
       "   Dependents_1  ...  Education_Not Graduate  Gender_Female  Gender_Male  \\\n",
       "0             0  ...                       0              0            1   \n",
       "1             1  ...                       0              0            1   \n",
       "2             0  ...                       0              0            1   \n",
       "3             0  ...                       1              0            1   \n",
       "4             0  ...                       0              0            1   \n",
       "\n",
       "   Married_No  Married_Yes  Property_Area_Rural  Property_Area_Semiurban  \\\n",
       "0           1            0                    0                        0   \n",
       "1           0            1                    1                        0   \n",
       "2           0            1                    0                        0   \n",
       "3           0            1                    0                        0   \n",
       "4           1            0                    0                        0   \n",
       "\n",
       "   Property_Area_Urban  Self_Employed_No  Self_Employed_Yes  \n",
       "0                    1                 1                  0  \n",
       "1                    0                 1                  0  \n",
       "2                    1                 0                  1  \n",
       "3                    1                 1                  0  \n",
       "4                    1                 1                  0  \n",
       "\n",
       "[5 rows x 23 columns]"
      ]
     },
     "execution_count": 754,
     "metadata": {},
     "output_type": "execute_result"
    }
   ],
   "source": [
    "X_encoded = pd.get_dummies(X, columns=['Credit_History',\n",
    "                                       'Dependents',\n",
    "                                       'Education',\n",
    "                                       'Gender',\n",
    "                                       'Married',\n",
    "                                       'Property_Area',\n",
    "                                       'Self_Employed',\n",
    "                                       ])\n",
    "X_encoded.head()"
   ]
  },
  {
   "cell_type": "code",
   "execution_count": 755,
   "metadata": {},
   "outputs": [
    {
     "data": {
      "text/plain": [
       "Index(['ApplicantIncome', 'CoapplicantIncome', 'LoanAmount',\n",
       "       'Loan_Amount_Term', 'new_col_1', 'new_col_2', 'Credit_History_0.0',\n",
       "       'Credit_History_1.0', 'Dependents_0', 'Dependents_1', 'Dependents_2',\n",
       "       'Dependents_3+', 'Education_Graduate', 'Education_Not Graduate',\n",
       "       'Gender_Female', 'Gender_Male', 'Married_No', 'Married_Yes',\n",
       "       'Property_Area_Rural', 'Property_Area_Semiurban', 'Property_Area_Urban',\n",
       "       'Self_Employed_No', 'Self_Employed_Yes'],\n",
       "      dtype='object')"
      ]
     },
     "execution_count": 755,
     "metadata": {},
     "output_type": "execute_result"
    }
   ],
   "source": [
    "X_encoded.columns"
   ]
  },
  {
   "cell_type": "markdown",
   "metadata": {},
   "source": [
    "###  Centring and Scaling"
   ]
  },
  {
   "cell_type": "code",
   "execution_count": 756,
   "metadata": {},
   "outputs": [],
   "source": [
    "X_train, X_test, y_train, y_test = train_test_split(X_encoded, y, test_size=0.2, random_state=42)\n"
   ]
  },
  {
   "cell_type": "code",
   "execution_count": 757,
   "metadata": {},
   "outputs": [],
   "source": [
    "# As we will use some models that require scaled values, we need to make some transformations such as StandardScaler.\n",
    "# To avoid data 'Data Leakage' we will scale train and test data separately.\n",
    "# For train data we will use fit_transform() \n",
    "# For test data we will use transform()"
   ]
  },
  {
   "cell_type": "code",
   "execution_count": 758,
   "metadata": {},
   "outputs": [],
   "source": [
    "scaler_app_inc = StandardScaler()\n",
    "scaler_coapp_inc = StandardScaler()\n",
    "scaler_loan_am = StandardScaler()\n",
    "scaler_loan_am_term = StandardScaler()\n",
    "\n",
    "scaler_new_col_1 = StandardScaler()\n",
    "scaler_new_col_2 = StandardScaler()"
   ]
  },
  {
   "cell_type": "code",
   "execution_count": 759,
   "metadata": {},
   "outputs": [],
   "source": [
    "X_train['ApplicantIncome'] = scaler_app_inc.fit_transform(X_train[['ApplicantIncome']])\n",
    "X_train['CoapplicantIncome'] = scaler_coapp_inc.fit_transform(X_train[['CoapplicantIncome']])\n",
    "X_train['LoanAmount'] = scaler_loan_am.fit_transform(X_train[['LoanAmount']])\n",
    "X_train['Loan_Amount_Term'] = scaler_loan_am_term.fit_transform(X_train[['Loan_Amount_Term']])\n",
    "\n",
    "X_train['new_col_1'] = scaler_new_col_1.fit_transform(X_train[['new_col_1']])\n",
    "X_train['new_col_2'] = scaler_new_col_2.fit_transform(X_train[['new_col_2']])"
   ]
  },
  {
   "cell_type": "code",
   "execution_count": 760,
   "metadata": {},
   "outputs": [
    {
     "data": {
      "text/html": [
       "<div>\n",
       "<style scoped>\n",
       "    .dataframe tbody tr th:only-of-type {\n",
       "        vertical-align: middle;\n",
       "    }\n",
       "\n",
       "    .dataframe tbody tr th {\n",
       "        vertical-align: top;\n",
       "    }\n",
       "\n",
       "    .dataframe thead th {\n",
       "        text-align: right;\n",
       "    }\n",
       "</style>\n",
       "<table border=\"1\" class=\"dataframe\">\n",
       "  <thead>\n",
       "    <tr style=\"text-align: right;\">\n",
       "      <th></th>\n",
       "      <th>ApplicantIncome</th>\n",
       "      <th>CoapplicantIncome</th>\n",
       "      <th>LoanAmount</th>\n",
       "      <th>Loan_Amount_Term</th>\n",
       "      <th>new_col_1</th>\n",
       "      <th>new_col_2</th>\n",
       "      <th>Credit_History_0.0</th>\n",
       "      <th>Credit_History_1.0</th>\n",
       "      <th>Dependents_0</th>\n",
       "      <th>Dependents_1</th>\n",
       "      <th>...</th>\n",
       "      <th>Education_Not Graduate</th>\n",
       "      <th>Gender_Female</th>\n",
       "      <th>Gender_Male</th>\n",
       "      <th>Married_No</th>\n",
       "      <th>Married_Yes</th>\n",
       "      <th>Property_Area_Rural</th>\n",
       "      <th>Property_Area_Semiurban</th>\n",
       "      <th>Property_Area_Urban</th>\n",
       "      <th>Self_Employed_No</th>\n",
       "      <th>Self_Employed_Yes</th>\n",
       "    </tr>\n",
       "  </thead>\n",
       "  <tbody>\n",
       "    <tr>\n",
       "      <td>83</td>\n",
       "      <td>0.083915</td>\n",
       "      <td>0.180667</td>\n",
       "      <td>1.356240</td>\n",
       "      <td>0.287611</td>\n",
       "      <td>-0.944752</td>\n",
       "      <td>0.167302</td>\n",
       "      <td>1</td>\n",
       "      <td>0</td>\n",
       "      <td>1</td>\n",
       "      <td>0</td>\n",
       "      <td>...</td>\n",
       "      <td>0</td>\n",
       "      <td>0</td>\n",
       "      <td>1</td>\n",
       "      <td>0</td>\n",
       "      <td>1</td>\n",
       "      <td>0</td>\n",
       "      <td>1</td>\n",
       "      <td>0</td>\n",
       "      <td>1</td>\n",
       "      <td>0</td>\n",
       "    </tr>\n",
       "    <tr>\n",
       "      <td>90</td>\n",
       "      <td>-0.429338</td>\n",
       "      <td>0.385430</td>\n",
       "      <td>-0.196817</td>\n",
       "      <td>0.287611</td>\n",
       "      <td>-0.101399</td>\n",
       "      <td>-0.206402</td>\n",
       "      <td>0</td>\n",
       "      <td>1</td>\n",
       "      <td>1</td>\n",
       "      <td>0</td>\n",
       "      <td>...</td>\n",
       "      <td>0</td>\n",
       "      <td>0</td>\n",
       "      <td>1</td>\n",
       "      <td>0</td>\n",
       "      <td>1</td>\n",
       "      <td>0</td>\n",
       "      <td>1</td>\n",
       "      <td>0</td>\n",
       "      <td>1</td>\n",
       "      <td>0</td>\n",
       "    </tr>\n",
       "    <tr>\n",
       "      <td>227</td>\n",
       "      <td>0.126095</td>\n",
       "      <td>0.005831</td>\n",
       "      <td>0.718791</td>\n",
       "      <td>0.287611</td>\n",
       "      <td>-0.728819</td>\n",
       "      <td>0.119652</td>\n",
       "      <td>0</td>\n",
       "      <td>1</td>\n",
       "      <td>0</td>\n",
       "      <td>0</td>\n",
       "      <td>...</td>\n",
       "      <td>0</td>\n",
       "      <td>0</td>\n",
       "      <td>1</td>\n",
       "      <td>0</td>\n",
       "      <td>1</td>\n",
       "      <td>0</td>\n",
       "      <td>1</td>\n",
       "      <td>0</td>\n",
       "      <td>1</td>\n",
       "      <td>0</td>\n",
       "    </tr>\n",
       "    <tr>\n",
       "      <td>482</td>\n",
       "      <td>-0.576970</td>\n",
       "      <td>0.464185</td>\n",
       "      <td>-0.231587</td>\n",
       "      <td>0.287611</td>\n",
       "      <td>-0.062309</td>\n",
       "      <td>-0.304046</td>\n",
       "      <td>0</td>\n",
       "      <td>1</td>\n",
       "      <td>1</td>\n",
       "      <td>0</td>\n",
       "      <td>...</td>\n",
       "      <td>0</td>\n",
       "      <td>0</td>\n",
       "      <td>1</td>\n",
       "      <td>0</td>\n",
       "      <td>1</td>\n",
       "      <td>0</td>\n",
       "      <td>1</td>\n",
       "      <td>0</td>\n",
       "      <td>1</td>\n",
       "      <td>0</td>\n",
       "    </tr>\n",
       "    <tr>\n",
       "      <td>464</td>\n",
       "      <td>-0.225522</td>\n",
       "      <td>-0.528127</td>\n",
       "      <td>-0.579286</td>\n",
       "      <td>0.287611</td>\n",
       "      <td>0.460216</td>\n",
       "      <td>-0.470744</td>\n",
       "      <td>1</td>\n",
       "      <td>0</td>\n",
       "      <td>1</td>\n",
       "      <td>0</td>\n",
       "      <td>...</td>\n",
       "      <td>0</td>\n",
       "      <td>0</td>\n",
       "      <td>1</td>\n",
       "      <td>1</td>\n",
       "      <td>0</td>\n",
       "      <td>0</td>\n",
       "      <td>1</td>\n",
       "      <td>0</td>\n",
       "      <td>1</td>\n",
       "      <td>0</td>\n",
       "    </tr>\n",
       "  </tbody>\n",
       "</table>\n",
       "<p>5 rows × 23 columns</p>\n",
       "</div>"
      ],
      "text/plain": [
       "     ApplicantIncome  CoapplicantIncome  LoanAmount  Loan_Amount_Term  \\\n",
       "83          0.083915           0.180667    1.356240          0.287611   \n",
       "90         -0.429338           0.385430   -0.196817          0.287611   \n",
       "227         0.126095           0.005831    0.718791          0.287611   \n",
       "482        -0.576970           0.464185   -0.231587          0.287611   \n",
       "464        -0.225522          -0.528127   -0.579286          0.287611   \n",
       "\n",
       "     new_col_1  new_col_2  Credit_History_0.0  Credit_History_1.0  \\\n",
       "83   -0.944752   0.167302                   1                   0   \n",
       "90   -0.101399  -0.206402                   0                   1   \n",
       "227  -0.728819   0.119652                   0                   1   \n",
       "482  -0.062309  -0.304046                   0                   1   \n",
       "464   0.460216  -0.470744                   1                   0   \n",
       "\n",
       "     Dependents_0  Dependents_1  ...  Education_Not Graduate  Gender_Female  \\\n",
       "83              1             0  ...                       0              0   \n",
       "90              1             0  ...                       0              0   \n",
       "227             0             0  ...                       0              0   \n",
       "482             1             0  ...                       0              0   \n",
       "464             1             0  ...                       0              0   \n",
       "\n",
       "     Gender_Male  Married_No  Married_Yes  Property_Area_Rural  \\\n",
       "83             1           0            1                    0   \n",
       "90             1           0            1                    0   \n",
       "227            1           0            1                    0   \n",
       "482            1           0            1                    0   \n",
       "464            1           1            0                    0   \n",
       "\n",
       "     Property_Area_Semiurban  Property_Area_Urban  Self_Employed_No  \\\n",
       "83                         1                    0                 1   \n",
       "90                         1                    0                 1   \n",
       "227                        1                    0                 1   \n",
       "482                        1                    0                 1   \n",
       "464                        1                    0                 1   \n",
       "\n",
       "     Self_Employed_Yes  \n",
       "83                   0  \n",
       "90                   0  \n",
       "227                  0  \n",
       "482                  0  \n",
       "464                  0  \n",
       "\n",
       "[5 rows x 23 columns]"
      ]
     },
     "execution_count": 760,
     "metadata": {},
     "output_type": "execute_result"
    }
   ],
   "source": [
    "X_train.head()"
   ]
  },
  {
   "cell_type": "code",
   "execution_count": 761,
   "metadata": {},
   "outputs": [],
   "source": [
    "X_test['ApplicantIncome'] = scaler_app_inc.transform(X_test[['ApplicantIncome']])\n",
    "X_test['CoapplicantIncome'] = scaler_coapp_inc.transform(X_test[['CoapplicantIncome']])\n",
    "X_test['LoanAmount'] = scaler_loan_am.transform(X_test[['LoanAmount']])\n",
    "X_test['Loan_Amount_Term'] = scaler_loan_am_term.transform(X_test[['Loan_Amount_Term']])\n",
    "\n",
    "X_test['new_col_1'] = scaler_new_col_1.transform(X_test[['new_col_1']])\n",
    "X_test['new_col_2'] = scaler_new_col_2.transform(X_test[['new_col_2']])"
   ]
  },
  {
   "cell_type": "markdown",
   "metadata": {},
   "source": [
    "#### We will collect our models statistics for comparisone and chossing the best model. "
   ]
  },
  {
   "cell_type": "code",
   "execution_count": 762,
   "metadata": {},
   "outputs": [],
   "source": [
    "# After training each model will add his (model) name, train and test accuracy scores,\n",
    "# optimal model name and the optimal model itself."
   ]
  },
  {
   "cell_type": "code",
   "execution_count": 763,
   "metadata": {},
   "outputs": [
    {
     "data": {
      "text/html": [
       "<div>\n",
       "<style scoped>\n",
       "    .dataframe tbody tr th:only-of-type {\n",
       "        vertical-align: middle;\n",
       "    }\n",
       "\n",
       "    .dataframe tbody tr th {\n",
       "        vertical-align: top;\n",
       "    }\n",
       "\n",
       "    .dataframe thead th {\n",
       "        text-align: right;\n",
       "    }\n",
       "</style>\n",
       "<table border=\"1\" class=\"dataframe\">\n",
       "  <thead>\n",
       "    <tr style=\"text-align: right;\">\n",
       "      <th></th>\n",
       "      <th>model_name</th>\n",
       "      <th>train_score</th>\n",
       "      <th>test_score</th>\n",
       "      <th>optimal_model_name</th>\n",
       "      <th>optimal_model</th>\n",
       "    </tr>\n",
       "  </thead>\n",
       "  <tbody>\n",
       "  </tbody>\n",
       "</table>\n",
       "</div>"
      ],
      "text/plain": [
       "Empty DataFrame\n",
       "Columns: [model_name, train_score, test_score, optimal_model_name, optimal_model]\n",
       "Index: []"
      ]
     },
     "execution_count": 763,
     "metadata": {},
     "output_type": "execute_result"
    }
   ],
   "source": [
    "models_statistics = pd.DataFrame(columns=['model_name', 'train_score', 'test_score','optimal_model_name','optimal_model'])\n",
    "models_statistics"
   ]
  },
  {
   "cell_type": "markdown",
   "metadata": {},
   "source": [
    "### Logistic Regresssion"
   ]
  },
  {
   "cell_type": "code",
   "execution_count": 764,
   "metadata": {},
   "outputs": [
    {
     "data": {
      "text/plain": [
       "LogisticRegression(random_state=42)"
      ]
     },
     "execution_count": 764,
     "metadata": {},
     "output_type": "execute_result"
    }
   ],
   "source": [
    "# Preliminary model\n",
    "lr = LogisticRegression(random_state=42)\n",
    "lr.fit(X_train, y_train)"
   ]
  },
  {
   "cell_type": "code",
   "execution_count": 765,
   "metadata": {},
   "outputs": [
    {
     "data": {
      "text/plain": [
       "0.835030549898167"
      ]
     },
     "execution_count": 765,
     "metadata": {},
     "output_type": "execute_result"
    }
   ],
   "source": [
    "y_pred = pd.DataFrame(lr.predict(X_test))\n",
    "lr.score(X_train, y_train)"
   ]
  },
  {
   "cell_type": "code",
   "execution_count": 766,
   "metadata": {},
   "outputs": [
    {
     "data": {
      "text/plain": [
       "0.8292682926829268"
      ]
     },
     "execution_count": 766,
     "metadata": {},
     "output_type": "execute_result"
    }
   ],
   "source": [
    "lr.score(X_test, y_test)"
   ]
  },
  {
   "cell_type": "code",
   "execution_count": 767,
   "metadata": {},
   "outputs": [
    {
     "name": "stdout",
     "output_type": "stream",
     "text": [
      "              precision    recall  f1-score   support\n",
      "\n",
      "          No       0.96      0.53      0.69        43\n",
      "         Yes       0.80      0.99      0.88        80\n",
      "\n",
      "    accuracy                           0.83       123\n",
      "   macro avg       0.88      0.76      0.78       123\n",
      "weighted avg       0.85      0.83      0.81       123\n",
      "\n"
     ]
    }
   ],
   "source": [
    "y_pred_LR = lr.predict(X_test)\n",
    "target_names = ['No', 'Yes']\n",
    "print(classification_report(y_test, y_pred_LR, target_names=target_names))"
   ]
  },
  {
   "cell_type": "code",
   "execution_count": 768,
   "metadata": {},
   "outputs": [],
   "source": [
    "# Hyperparameters tuning with GridSearch"
   ]
  },
  {
   "cell_type": "code",
   "execution_count": 769,
   "metadata": {},
   "outputs": [],
   "source": [
    "param_grid = [\n",
    "    {'penalty': ['l1', 'l2'],\n",
    "     'C':[0.001,0.01,0.1,0.5,0.7,1,5],\n",
    "    'class_weight':[None,'balanced'],\n",
    "    'random_state': np.array([42])\n",
    "    }\n",
    "]"
   ]
  },
  {
   "cell_type": "code",
   "execution_count": 770,
   "metadata": {},
   "outputs": [
    {
     "name": "stdout",
     "output_type": "stream",
     "text": [
      "{'C': 0.1, 'class_weight': None, 'penalty': 'l2', 'random_state': 42}\n"
     ]
    }
   ],
   "source": [
    "optimal_params = GridSearchCV(\n",
    "    LogisticRegression(random_state=42),\n",
    "    param_grid=param_grid,\n",
    "    cv=5,\n",
    "    scoring='accuracy',\n",
    "    verbose=0 # Note: If you want to see what Grid Search is doing, set verbose=2\n",
    ")\n",
    "\n",
    "optimal_params.fit(X_train, y_train)\n",
    "print(optimal_params.best_params_)"
   ]
  },
  {
   "cell_type": "code",
   "execution_count": 771,
   "metadata": {},
   "outputs": [
    {
     "name": "stdout",
     "output_type": "stream",
     "text": [
      "0.835030549898167\n",
      "0.8211382113821138\n"
     ]
    }
   ],
   "source": [
    "C = optimal_params.best_params_['C']\n",
    "penalty = optimal_params.best_params_['penalty']\n",
    "class_weight = optimal_params.best_params_['class_weight']\n",
    "random_state = optimal_params.best_params_['random_state']\n",
    "\n",
    "lr_optimal = LogisticRegression(\n",
    "    C=C,\n",
    "    penalty=penalty,\n",
    "    class_weight=class_weight,\n",
    "    random_state=random_state\n",
    ")\n",
    "lr_optimal.fit(X_train, y_train)\n",
    "\n",
    "print(lr_optimal.score(X_train, y_train))\n",
    "print(lr_optimal.score(X_test, y_test))"
   ]
  },
  {
   "cell_type": "code",
   "execution_count": 772,
   "metadata": {},
   "outputs": [
    {
     "name": "stdout",
     "output_type": "stream",
     "text": [
      "              precision    recall  f1-score   support\n",
      "\n",
      "          No       0.96      0.53      0.69        43\n",
      "         Yes       0.80      0.99      0.88        80\n",
      "\n",
      "    accuracy                           0.83       123\n",
      "   macro avg       0.88      0.76      0.78       123\n",
      "weighted avg       0.85      0.83      0.81       123\n",
      "\n"
     ]
    }
   ],
   "source": [
    "y_pred_LR = lr.predict(X_test)\n",
    "target_names = ['No','Yes']\n",
    "print(classification_report(y_test, y_pred_LR, target_names=target_names))"
   ]
  },
  {
   "cell_type": "markdown",
   "metadata": {},
   "source": [
    "#### Feature Importance"
   ]
  },
  {
   "cell_type": "code",
   "execution_count": 773,
   "metadata": {},
   "outputs": [
    {
     "data": {
      "text/plain": [
       "Text(0.5, 1.0, 'Feature Importance - Logistic Regression')"
      ]
     },
     "execution_count": 773,
     "metadata": {},
     "output_type": "execute_result"
    },
    {
     "data": {
      "image/png": "[encoded data removed]",
      "text/plain": [
       "<Figure size 864x504 with 1 Axes>"
      ]
     },
     "metadata": {
      "needs_background": "light"
     },
     "output_type": "display_data"
    }
   ],
   "source": [
    "importance_lr = lr.coef_[0]\n",
    "feat_imp_df = pd.DataFrame({'Feature_names':X_encoded.columns, 'importance':importance_lr })\n",
    "feat_imp_df_sorted = feat_imp_df.sort_values(by=['importance'])\n",
    "plt.figure(figsize=(12,7))\n",
    "plt.barh(feat_imp_df_sorted['Feature_names'],feat_imp_df_sorted['importance'])\n",
    "plt.xlabel(\"Importance\")\n",
    "plt.ylabel(\"Features\")\n",
    "plt.title('Feature Importance - Logistic Regression')"
   ]
  },
  {
   "cell_type": "code",
   "execution_count": 774,
   "metadata": {},
   "outputs": [
    {
     "data": {
      "text/html": [
       "<div>\n",
       "<style scoped>\n",
       "    .dataframe tbody tr th:only-of-type {\n",
       "        vertical-align: middle;\n",
       "    }\n",
       "\n",
       "    .dataframe tbody tr th {\n",
       "        vertical-align: top;\n",
       "    }\n",
       "\n",
       "    .dataframe thead th {\n",
       "        text-align: right;\n",
       "    }\n",
       "</style>\n",
       "<table border=\"1\" class=\"dataframe\">\n",
       "  <thead>\n",
       "    <tr style=\"text-align: right;\">\n",
       "      <th></th>\n",
       "      <th>model_name</th>\n",
       "      <th>train_score</th>\n",
       "      <th>test_score</th>\n",
       "      <th>optimal_model_name</th>\n",
       "      <th>optimal_model</th>\n",
       "    </tr>\n",
       "  </thead>\n",
       "  <tbody>\n",
       "    <tr>\n",
       "      <td>0</td>\n",
       "      <td>Logistic Regression</td>\n",
       "      <td>0.835031</td>\n",
       "      <td>0.821138</td>\n",
       "      <td>lr_optimal</td>\n",
       "      <td>LogisticRegression(C=0.1, random_state=42)</td>\n",
       "    </tr>\n",
       "  </tbody>\n",
       "</table>\n",
       "</div>"
      ],
      "text/plain": [
       "            model_name  train_score  test_score optimal_model_name  \\\n",
       "0  Logistic Regression     0.835031    0.821138         lr_optimal   \n",
       "\n",
       "                                optimal_model  \n",
       "0  LogisticRegression(C=0.1, random_state=42)  "
      ]
     },
     "execution_count": 774,
     "metadata": {},
     "output_type": "execute_result"
    }
   ],
   "source": [
    "a_series = pd.Series({'model_name':'Logistic Regression',\n",
    "                      'train_score':lr_optimal.score(X_train, y_train),\n",
    "                      'test_score':lr_optimal.score(X_test, y_test),\n",
    "                      'optimal_model_name':'lr_optimal',\n",
    "                     'optimal_model': lr_optimal})\n",
    "models_statistics = models_statistics.append(a_series, ignore_index=True)\n",
    "models_statistics"
   ]
  },
  {
   "cell_type": "markdown",
   "metadata": {},
   "source": [
    "### SVM"
   ]
  },
  {
   "cell_type": "code",
   "execution_count": 775,
   "metadata": {},
   "outputs": [
    {
     "data": {
      "text/plain": [
       "SVC(random_state=42)"
      ]
     },
     "execution_count": 775,
     "metadata": {},
     "output_type": "execute_result"
    }
   ],
   "source": [
    "clf_svm = SVC(random_state=42)\n",
    "clf_svm.fit(X_train, y_train)"
   ]
  },
  {
   "cell_type": "code",
   "execution_count": 776,
   "metadata": {},
   "outputs": [
    {
     "data": {
      "text/plain": [
       "0.8472505091649695"
      ]
     },
     "execution_count": 776,
     "metadata": {},
     "output_type": "execute_result"
    }
   ],
   "source": [
    "clf_svm.score(X_train, y_train)"
   ]
  },
  {
   "cell_type": "code",
   "execution_count": 777,
   "metadata": {},
   "outputs": [
    {
     "data": {
      "text/plain": [
       "0.8211382113821138"
      ]
     },
     "execution_count": 777,
     "metadata": {},
     "output_type": "execute_result"
    }
   ],
   "source": [
    "clf_svm.score(X_test, y_test)"
   ]
  },
  {
   "cell_type": "code",
   "execution_count": 778,
   "metadata": {},
   "outputs": [
    {
     "name": "stdout",
     "output_type": "stream",
     "text": [
      "              precision    recall  f1-score   support\n",
      "\n",
      "          No       0.96      0.51      0.67        43\n",
      "         Yes       0.79      0.99      0.88        80\n",
      "\n",
      "    accuracy                           0.82       123\n",
      "   macro avg       0.87      0.75      0.77       123\n",
      "weighted avg       0.85      0.82      0.80       123\n",
      "\n"
     ]
    }
   ],
   "source": [
    "y_pred_SVM = clf_svm.predict(X_test)\n",
    "target_names = ['No', 'Yes']\n",
    "print(classification_report(y_test, y_pred_SVM, target_names=target_names))"
   ]
  },
  {
   "cell_type": "code",
   "execution_count": 779,
   "metadata": {},
   "outputs": [
    {
     "name": "stdout",
     "output_type": "stream",
     "text": [
      "{'C': 0.1, 'class_weight': None, 'gamma': 'scale', 'kernel': 'linear', 'random_state': 42}\n"
     ]
    }
   ],
   "source": [
    "param_grid = [\n",
    "    {\"C\":[0.1,0.3,0.5,0.8,1,5,7,10], # Note: Values for C must be > 0\n",
    "     'gamma':['scale', 1, 0.1, 0.5, 0.01,0.03,0.05,0.07,0.08,0.09, 0.001, 0.005],\n",
    "     'kernel':['rbf','linear'],\n",
    "    'class_weight':[None,'balanced'],\n",
    "     'random_state': np.array([42])\n",
    "    },\n",
    "]\n",
    "\n",
    "\n",
    "optimal_params = GridSearchCV(\n",
    "    SVC(),\n",
    "    param_grid=param_grid,\n",
    "    cv=5,\n",
    "    scoring='accuracy',\n",
    "    verbose=0 # Note: If you want to see what Grid Search is doing, set verbose=2\n",
    ")\n",
    "\n",
    "optimal_params.fit(X_train, y_train)\n",
    "print(optimal_params.best_params_)"
   ]
  },
  {
   "cell_type": "code",
   "execution_count": 780,
   "metadata": {},
   "outputs": [
    {
     "name": "stdout",
     "output_type": "stream",
     "text": [
      "0.8329938900203666\n",
      "0.8211382113821138\n"
     ]
    }
   ],
   "source": [
    "C = optimal_params.best_params_['C']\n",
    "gamma = optimal_params.best_params_['gamma']\n",
    "class_weight = optimal_params.best_params_['class_weight']\n",
    "kernel = optimal_params.best_params_['kernel']\n",
    "random_state = optimal_params.best_params_['random_state']\n",
    "\n",
    "clf_svm_optimal = SVC(\n",
    "    C=C,\n",
    "    gamma=gamma,\n",
    "    class_weight=class_weight,\n",
    "    random_state=random_state,\n",
    "    kernel=kernel\n",
    ")\n",
    "clf_svm_optimal.fit(X_train, y_train)\n",
    "\n",
    "print(clf_svm_optimal.score(X_train, y_train))\n",
    "print(clf_svm_optimal.score(X_test, y_test))"
   ]
  },
  {
   "cell_type": "code",
   "execution_count": 781,
   "metadata": {},
   "outputs": [
    {
     "name": "stdout",
     "output_type": "stream",
     "text": [
      "              precision    recall  f1-score   support\n",
      "\n",
      "          No       0.96      0.51      0.67        43\n",
      "         Yes       0.79      0.99      0.88        80\n",
      "\n",
      "    accuracy                           0.82       123\n",
      "   macro avg       0.87      0.75      0.77       123\n",
      "weighted avg       0.85      0.82      0.80       123\n",
      "\n"
     ]
    }
   ],
   "source": [
    "y_pred_SVM = clf_svm.predict(X_test)\n",
    "target_names = ['No','Yes']\n",
    "print(classification_report(y_test, y_pred_SVM, target_names=target_names))"
   ]
  },
  {
   "cell_type": "code",
   "execution_count": 782,
   "metadata": {},
   "outputs": [
    {
     "data": {
      "text/plain": [
       "array([-2.10718689e-06, -2.30430181e-05, -8.25018684e-05, -5.60888637e-06,\n",
       "       -6.48611157e-05, -1.33791162e-05, -1.00004014e+00,  1.00004014e+00,\n",
       "       -1.28075755e-05,  1.62222953e-05,  7.51391234e-06, -1.09286321e-05,\n",
       "        2.73393436e-05, -2.73393436e-05,  2.03086705e-05, -2.03086705e-05,\n",
       "       -4.58436778e-05,  4.58436778e-05, -6.17728839e-05,  3.01127528e-05,\n",
       "        3.16601311e-05,  7.70338356e-06, -7.70338355e-06])"
      ]
     },
     "execution_count": 782,
     "metadata": {},
     "output_type": "execute_result"
    }
   ],
   "source": [
    "clf_svm_optimal.coef_[0]"
   ]
  },
  {
   "cell_type": "code",
   "execution_count": 783,
   "metadata": {},
   "outputs": [
    {
     "data": {
      "image/png": "[encoded data removed]",
      "text/plain": [
       "<Figure size 864x504 with 1 Axes>"
      ]
     },
     "metadata": {
      "needs_background": "light"
     },
     "output_type": "display_data"
    }
   ],
   "source": [
    "if kernel == 'linear':\n",
    "    importance_svm = clf_svm_optimal.coef_[0]\n",
    "    feat_imp_df = pd.DataFrame({'Feature_names':X_encoded.columns, 'importance':importance_svm })\n",
    "    feat_imp_df_sorted = feat_imp_df.sort_values(by=['importance'])\n",
    "    #print(feat_imp_df_sorted)\n",
    "    plt.figure(figsize=(12,7))\n",
    "    plt.barh(feat_imp_df_sorted['Feature_names'],feat_imp_df_sorted['importance'])\n",
    "    plt.xlabel(\"Importance\")\n",
    "    plt.ylabel(\"Features\")\n",
    "    plt.title('Feature Importance - Support Vector Machine')"
   ]
  },
  {
   "cell_type": "code",
   "execution_count": 784,
   "metadata": {},
   "outputs": [
    {
     "data": {
      "text/html": [
       "<div>\n",
       "<style scoped>\n",
       "    .dataframe tbody tr th:only-of-type {\n",
       "        vertical-align: middle;\n",
       "    }\n",
       "\n",
       "    .dataframe tbody tr th {\n",
       "        vertical-align: top;\n",
       "    }\n",
       "\n",
       "    .dataframe thead th {\n",
       "        text-align: right;\n",
       "    }\n",
       "</style>\n",
       "<table border=\"1\" class=\"dataframe\">\n",
       "  <thead>\n",
       "    <tr style=\"text-align: right;\">\n",
       "      <th></th>\n",
       "      <th>model_name</th>\n",
       "      <th>train_score</th>\n",
       "      <th>test_score</th>\n",
       "      <th>optimal_model_name</th>\n",
       "      <th>optimal_model</th>\n",
       "    </tr>\n",
       "  </thead>\n",
       "  <tbody>\n",
       "    <tr>\n",
       "      <td>0</td>\n",
       "      <td>Logistic Regression</td>\n",
       "      <td>0.835031</td>\n",
       "      <td>0.821138</td>\n",
       "      <td>lr_optimal</td>\n",
       "      <td>LogisticRegression(C=0.1, random_state=42)</td>\n",
       "    </tr>\n",
       "    <tr>\n",
       "      <td>1</td>\n",
       "      <td>Support Vector Machine</td>\n",
       "      <td>0.832994</td>\n",
       "      <td>0.821138</td>\n",
       "      <td>clf_svm_optimal</td>\n",
       "      <td>SVC(C=0.1, kernel='linear', random_state=42)</td>\n",
       "    </tr>\n",
       "  </tbody>\n",
       "</table>\n",
       "</div>"
      ],
      "text/plain": [
       "               model_name  train_score  test_score optimal_model_name  \\\n",
       "0     Logistic Regression     0.835031    0.821138         lr_optimal   \n",
       "1  Support Vector Machine     0.832994    0.821138    clf_svm_optimal   \n",
       "\n",
       "                                  optimal_model  \n",
       "0    LogisticRegression(C=0.1, random_state=42)  \n",
       "1  SVC(C=0.1, kernel='linear', random_state=42)  "
      ]
     },
     "execution_count": 784,
     "metadata": {},
     "output_type": "execute_result"
    }
   ],
   "source": [
    "a_series = pd.Series({'model_name':'Support Vector Machine',\n",
    "                      'train_score':clf_svm_optimal.score(X_train, y_train),\n",
    "                      'test_score':clf_svm_optimal.score(X_test, y_test),\n",
    "                      'optimal_model_name':'clf_svm_optimal',\n",
    "                     'optimal_model': clf_svm_optimal})\n",
    "models_statistics = models_statistics.append(a_series, ignore_index=True)\n",
    "models_statistics"
   ]
  },
  {
   "cell_type": "markdown",
   "metadata": {},
   "source": [
    "### DecisionTree"
   ]
  },
  {
   "cell_type": "code",
   "execution_count": 785,
   "metadata": {},
   "outputs": [],
   "source": [
    "clf_dt = DecisionTreeClassifier(random_state=42)\n",
    "clf_dt = clf_dt.fit(X_train, y_train)"
   ]
  },
  {
   "cell_type": "code",
   "execution_count": 786,
   "metadata": {},
   "outputs": [
    {
     "data": {
      "text/plain": [
       "1.0"
      ]
     },
     "execution_count": 786,
     "metadata": {},
     "output_type": "execute_result"
    }
   ],
   "source": [
    "clf_dt.score(X_train, y_train)"
   ]
  },
  {
   "cell_type": "code",
   "execution_count": 787,
   "metadata": {},
   "outputs": [
    {
     "data": {
      "text/plain": [
       "0.7560975609756098"
      ]
     },
     "execution_count": 787,
     "metadata": {},
     "output_type": "execute_result"
    }
   ],
   "source": [
    "clf_dt.score(X_test, y_test)"
   ]
  },
  {
   "cell_type": "code",
   "execution_count": 788,
   "metadata": {},
   "outputs": [
    {
     "name": "stdout",
     "output_type": "stream",
     "text": [
      "              precision    recall  f1-score   support\n",
      "\n",
      "          No       0.65      0.65      0.65        43\n",
      "         Yes       0.81      0.81      0.81        80\n",
      "\n",
      "    accuracy                           0.76       123\n",
      "   macro avg       0.73      0.73      0.73       123\n",
      "weighted avg       0.76      0.76      0.76       123\n",
      "\n"
     ]
    }
   ],
   "source": [
    "y_pred_DT = clf_dt.predict(X_test)\n",
    "target_names = ['No','Yes']\n",
    "print(classification_report(y_test, y_pred_DT, target_names=target_names))"
   ]
  },
  {
   "cell_type": "code",
   "execution_count": 789,
   "metadata": {},
   "outputs": [],
   "source": [
    "param_grid = {'criterion':['gini','entropy'],\n",
    "             'max_depth':range(1,5),\n",
    "             'min_samples_split':range(1,5),\n",
    "             'min_samples_leaf':range(1,5),\n",
    "              'ccp_alpha':np.array([1,0.1,0.01,0.001,0.0001,0]),\n",
    "              'class_weight':[None,'balanced'],\n",
    "              'random_state': np.array([42])\n",
    "             }"
   ]
  },
  {
   "cell_type": "code",
   "execution_count": 790,
   "metadata": {},
   "outputs": [],
   "source": [
    "optimal_params = GridSearchCV(\n",
    "        clf_dt,\n",
    "        param_grid=param_grid,\n",
    "        cv=5,\n",
    "        scoring='accuracy',\n",
    "        verbose=0 # Note: If you want to see what Grid Search is doing, set verbose=2\n",
    "    )"
   ]
  },
  {
   "cell_type": "code",
   "execution_count": 791,
   "metadata": {},
   "outputs": [
    {
     "name": "stdout",
     "output_type": "stream",
     "text": [
      "{'ccp_alpha': 0.1, 'class_weight': None, 'criterion': 'gini', 'max_depth': 1, 'min_samples_leaf': 1, 'min_samples_split': 2, 'random_state': 42}\n"
     ]
    }
   ],
   "source": [
    "optimal_params.fit(X_train, y_train)\n",
    "print(optimal_params.best_params_)"
   ]
  },
  {
   "cell_type": "code",
   "execution_count": 792,
   "metadata": {},
   "outputs": [],
   "source": [
    "ccp_alpha = optimal_params.best_params_['ccp_alpha']\n",
    "class_weight = optimal_params.best_params_['class_weight']\n",
    "criterion = optimal_params.best_params_['criterion']\n",
    "max_depth = optimal_params.best_params_['max_depth']\n",
    "min_samples_leaf = optimal_params.best_params_['min_samples_leaf']\n",
    "min_samples_split = optimal_params.best_params_['min_samples_split']\n",
    "random_state = optimal_params.best_params_['random_state']"
   ]
  },
  {
   "cell_type": "code",
   "execution_count": 793,
   "metadata": {},
   "outputs": [],
   "source": [
    "clf_dt_pruned = DecisionTreeClassifier(random_state=random_state,\n",
    "                                       ccp_alpha= ccp_alpha,\n",
    "                                      class_weight=class_weight,\n",
    "                                      criterion=criterion,\n",
    "                                      max_depth=max_depth,\n",
    "                                      min_samples_leaf=min_samples_leaf,\n",
    "                                      min_samples_split=min_samples_split)\n",
    "clf_dt_pruned = clf_dt_pruned.fit(X_train, y_train)"
   ]
  },
  {
   "cell_type": "code",
   "execution_count": 794,
   "metadata": {},
   "outputs": [
    {
     "data": {
      "text/plain": [
       "array(['ApplicantIncome', 'CoapplicantIncome', 'LoanAmount',\n",
       "       'Loan_Amount_Term', 'new_col_1', 'new_col_2', 'Credit_History_0.0',\n",
       "       'Credit_History_1.0', 'Dependents_0', 'Dependents_1',\n",
       "       'Dependents_2', 'Dependents_3+', 'Education_Graduate',\n",
       "       'Education_Not Graduate', 'Gender_Female', 'Gender_Male',\n",
       "       'Married_No', 'Married_Yes', 'Property_Area_Rural',\n",
       "       'Property_Area_Semiurban', 'Property_Area_Urban',\n",
       "       'Self_Employed_No', 'Self_Employed_Yes'], dtype=object)"
      ]
     },
     "execution_count": 794,
     "metadata": {},
     "output_type": "execute_result"
    }
   ],
   "source": [
    "features = X_encoded.columns.values\n",
    "features"
   ]
  },
  {
   "cell_type": "code",
   "execution_count": 795,
   "metadata": {},
   "outputs": [
    {
     "data": {
      "image/png": "[encoded data removed]",
      "text/plain": [
       "<Figure size 1080x540 with 1 Axes>"
      ]
     },
     "metadata": {
      "needs_background": "light"
     },
     "output_type": "display_data"
    }
   ],
   "source": [
    "plt.figure(figsize=(15,7.5))\n",
    "plot_tree(clf_dt_pruned,\n",
    "         filled=True,\n",
    "         rounded=True,\n",
    "         class_names=['No', 'Yes'], \n",
    "         feature_names=features);"
   ]
  },
  {
   "cell_type": "code",
   "execution_count": 796,
   "metadata": {},
   "outputs": [
    {
     "data": {
      "text/plain": [
       "0.8329938900203666"
      ]
     },
     "execution_count": 796,
     "metadata": {},
     "output_type": "execute_result"
    }
   ],
   "source": [
    "clf_dt_pruned.score(X_train, y_train)"
   ]
  },
  {
   "cell_type": "code",
   "execution_count": 797,
   "metadata": {},
   "outputs": [
    {
     "data": {
      "text/plain": [
       "0.8211382113821138"
      ]
     },
     "execution_count": 797,
     "metadata": {},
     "output_type": "execute_result"
    }
   ],
   "source": [
    "clf_dt_pruned.score(X_test, y_test)"
   ]
  },
  {
   "cell_type": "code",
   "execution_count": 798,
   "metadata": {},
   "outputs": [
    {
     "name": "stdout",
     "output_type": "stream",
     "text": [
      "              precision    recall  f1-score   support\n",
      "\n",
      "          No       0.96      0.51      0.67        43\n",
      "         Yes       0.79      0.99      0.88        80\n",
      "\n",
      "    accuracy                           0.82       123\n",
      "   macro avg       0.87      0.75      0.77       123\n",
      "weighted avg       0.85      0.82      0.80       123\n",
      "\n"
     ]
    }
   ],
   "source": [
    "y_pred_DT = clf_dt_pruned.predict(X_test)\n",
    "target_names = ['No','Yes']\n",
    "print(classification_report(y_test, y_pred_DT, target_names=target_names))"
   ]
  },
  {
   "cell_type": "code",
   "execution_count": 799,
   "metadata": {},
   "outputs": [
    {
     "data": {
      "text/plain": [
       "Text(0.5, 1.0, 'Feature Importance - Random Forest Classifier')"
      ]
     },
     "execution_count": 799,
     "metadata": {},
     "output_type": "execute_result"
    },
    {
     "data": {
      "image/png": "[encoded data removed]",
      "text/plain": [
       "<Figure size 864x504 with 1 Axes>"
      ]
     },
     "metadata": {
      "needs_background": "light"
     },
     "output_type": "display_data"
    }
   ],
   "source": [
    "importance_rand_for = clf_dt_pruned.feature_importances_\n",
    "#print(clf_dt_pruned.feature_importances_)\n",
    "feat_imp_df = pd.DataFrame({'Feature_names':X_encoded.columns, 'importance':importance_rand_for })\n",
    "feat_imp_df_sorted = feat_imp_df.sort_values(by=['importance'])\n",
    "plt.figure(figsize=(12,7))\n",
    "plt.barh(feat_imp_df_sorted['Feature_names'],feat_imp_df_sorted['importance'])\n",
    "plt.xlabel(\"Importance\")\n",
    "plt.ylabel(\"Features\")\n",
    "plt.title('Feature Importance - Random Forest Classifier')"
   ]
  },
  {
   "cell_type": "code",
   "execution_count": 800,
   "metadata": {},
   "outputs": [
    {
     "data": {
      "text/html": [
       "<div>\n",
       "<style scoped>\n",
       "    .dataframe tbody tr th:only-of-type {\n",
       "        vertical-align: middle;\n",
       "    }\n",
       "\n",
       "    .dataframe tbody tr th {\n",
       "        vertical-align: top;\n",
       "    }\n",
       "\n",
       "    .dataframe thead th {\n",
       "        text-align: right;\n",
       "    }\n",
       "</style>\n",
       "<table border=\"1\" class=\"dataframe\">\n",
       "  <thead>\n",
       "    <tr style=\"text-align: right;\">\n",
       "      <th></th>\n",
       "      <th>model_name</th>\n",
       "      <th>train_score</th>\n",
       "      <th>test_score</th>\n",
       "      <th>optimal_model_name</th>\n",
       "      <th>optimal_model</th>\n",
       "    </tr>\n",
       "  </thead>\n",
       "  <tbody>\n",
       "    <tr>\n",
       "      <td>0</td>\n",
       "      <td>Logistic Regression</td>\n",
       "      <td>0.835031</td>\n",
       "      <td>0.821138</td>\n",
       "      <td>lr_optimal</td>\n",
       "      <td>LogisticRegression(C=0.1, random_state=42)</td>\n",
       "    </tr>\n",
       "    <tr>\n",
       "      <td>1</td>\n",
       "      <td>Support Vector Machine</td>\n",
       "      <td>0.832994</td>\n",
       "      <td>0.821138</td>\n",
       "      <td>clf_svm_optimal</td>\n",
       "      <td>SVC(C=0.1, kernel='linear', random_state=42)</td>\n",
       "    </tr>\n",
       "    <tr>\n",
       "      <td>2</td>\n",
       "      <td>Decision Tree</td>\n",
       "      <td>0.832994</td>\n",
       "      <td>0.821138</td>\n",
       "      <td>clf_dt_pruned</td>\n",
       "      <td>DecisionTreeClassifier(ccp_alpha=0.1, max_dept...</td>\n",
       "    </tr>\n",
       "  </tbody>\n",
       "</table>\n",
       "</div>"
      ],
      "text/plain": [
       "               model_name  train_score  test_score optimal_model_name  \\\n",
       "0     Logistic Regression     0.835031    0.821138         lr_optimal   \n",
       "1  Support Vector Machine     0.832994    0.821138    clf_svm_optimal   \n",
       "2           Decision Tree     0.832994    0.821138      clf_dt_pruned   \n",
       "\n",
       "                                       optimal_model  \n",
       "0         LogisticRegression(C=0.1, random_state=42)  \n",
       "1       SVC(C=0.1, kernel='linear', random_state=42)  \n",
       "2  DecisionTreeClassifier(ccp_alpha=0.1, max_dept...  "
      ]
     },
     "execution_count": 800,
     "metadata": {},
     "output_type": "execute_result"
    }
   ],
   "source": [
    "a_series = pd.Series({'model_name':'Decision Tree',\n",
    "                      'train_score':clf_dt_pruned.score(X_train, y_train),\n",
    "                      'test_score':clf_dt_pruned.score(X_test, y_test),\n",
    "                      'optimal_model_name':'clf_dt_pruned',\n",
    "                     'optimal_model': clf_dt_pruned})\n",
    "models_statistics = models_statistics.append(a_series, ignore_index=True)\n",
    "models_statistics"
   ]
  },
  {
   "cell_type": "markdown",
   "metadata": {},
   "source": [
    "### Random Forest"
   ]
  },
  {
   "cell_type": "code",
   "execution_count": 801,
   "metadata": {},
   "outputs": [],
   "source": [
    "random_for = RandomForestClassifier(random_state=42)\n",
    "random_for = random_for.fit(X_train, y_train)"
   ]
  },
  {
   "cell_type": "code",
   "execution_count": 802,
   "metadata": {},
   "outputs": [
    {
     "data": {
      "text/plain": [
       "1.0"
      ]
     },
     "execution_count": 802,
     "metadata": {},
     "output_type": "execute_result"
    }
   ],
   "source": [
    "random_for.score(X_train, y_train)"
   ]
  },
  {
   "cell_type": "code",
   "execution_count": 803,
   "metadata": {},
   "outputs": [
    {
     "data": {
      "text/plain": [
       "0.8048780487804879"
      ]
     },
     "execution_count": 803,
     "metadata": {},
     "output_type": "execute_result"
    }
   ],
   "source": [
    "random_for.score(X_test, y_test)"
   ]
  },
  {
   "cell_type": "code",
   "execution_count": 804,
   "metadata": {},
   "outputs": [
    {
     "name": "stdout",
     "output_type": "stream",
     "text": [
      "              precision    recall  f1-score   support\n",
      "\n",
      "          No       0.88      0.51      0.65        43\n",
      "         Yes       0.79      0.96      0.87        80\n",
      "\n",
      "    accuracy                           0.80       123\n",
      "   macro avg       0.83      0.74      0.76       123\n",
      "weighted avg       0.82      0.80      0.79       123\n",
      "\n"
     ]
    }
   ],
   "source": [
    "y_pred_Rand_For = random_for.predict(X_test)\n",
    "target_names = ['No','Yes']\n",
    "print(classification_report(y_test, y_pred_Rand_For, target_names=target_names))"
   ]
  },
  {
   "cell_type": "code",
   "execution_count": 805,
   "metadata": {},
   "outputs": [],
   "source": [
    "param_grid = {'bootstrap': [True,False],\n",
    "                 'class_weight': [None,'balanced'],\n",
    "                 'criterion': ['gini','entropy'],\n",
    "                 'max_depth': range(1,2),\n",
    "                 'max_features': ['auto', 'sqrt'],\n",
    "                 #'max_leaf_nodes': range(1,2),\n",
    "                 #'min_impurity_decrease': 0.0,\n",
    "                 #'min_impurity_split': None,\n",
    "                 #'min_samples_leaf': range(1,2),\n",
    "                 #'min_samples_split': range(1,2),\n",
    "                 #'min_weight_fraction_leaf': 0.0,\n",
    "                 'n_estimators': range(1,40,3),\n",
    "                 'n_jobs': np.array([-1]),\n",
    "                 'oob_score': [True,False],\n",
    "                 'random_state': np.array([42]),\n",
    "                }"
   ]
  },
  {
   "cell_type": "code",
   "execution_count": 806,
   "metadata": {},
   "outputs": [],
   "source": [
    "optimal_params = GridSearchCV(\n",
    "        random_for,\n",
    "        param_grid=param_grid,\n",
    "        cv=5,\n",
    "        scoring='accuracy',\n",
    "        verbose=0 # Note: If you want to see what Grid Search is doing, set verbose=2\n",
    "    )"
   ]
  },
  {
   "cell_type": "code",
   "execution_count": 807,
   "metadata": {},
   "outputs": [
    {
     "name": "stdout",
     "output_type": "stream",
     "text": [
      "{'bootstrap': False, 'class_weight': 'balanced', 'criterion': 'entropy', 'max_depth': 1, 'max_features': 'auto', 'n_estimators': 22, 'n_jobs': -1, 'oob_score': False, 'random_state': 42}\n"
     ]
    }
   ],
   "source": [
    "optimal_params.fit(X_train, y_train)\n",
    "print(optimal_params.best_params_)"
   ]
  },
  {
   "cell_type": "code",
   "execution_count": 808,
   "metadata": {},
   "outputs": [],
   "source": [
    "bootstrap = optimal_params.best_params_['bootstrap']\n",
    "class_weight = optimal_params.best_params_['class_weight']\n",
    "criterion = optimal_params.best_params_['criterion']\n",
    "max_depth = optimal_params.best_params_['max_depth']\n",
    "max_features = optimal_params.best_params_['max_features']\n",
    "n_estimators = optimal_params.best_params_['n_estimators']\n",
    "random_state = optimal_params.best_params_['random_state']\n",
    "n_jobs = optimal_params.best_params_['n_jobs']\n",
    "oob_score = optimal_params.best_params_['oob_score']"
   ]
  },
  {
   "cell_type": "code",
   "execution_count": 809,
   "metadata": {},
   "outputs": [],
   "source": [
    "random_for_optimal = RandomForestClassifier(bootstrap=bootstrap,\n",
    "                                    class_weight= class_weight,\n",
    "                                    criterion=criterion,\n",
    "                                    max_depth=max_depth,\n",
    "                                    max_features=max_features,\n",
    "                                    n_estimators=n_estimators,\n",
    "                                    random_state=random_state,\n",
    "                                    n_jobs=n_jobs,\n",
    "                                    oob_score=oob_score\n",
    "                                    )\n",
    "random_for_optimal = random_for_optimal.fit(X_train, y_train)"
   ]
  },
  {
   "cell_type": "code",
   "execution_count": 810,
   "metadata": {},
   "outputs": [
    {
     "data": {
      "text/plain": [
       "0.8431771894093686"
      ]
     },
     "execution_count": 810,
     "metadata": {},
     "output_type": "execute_result"
    }
   ],
   "source": [
    "random_for_optimal.score(X_train, y_train)"
   ]
  },
  {
   "cell_type": "code",
   "execution_count": 811,
   "metadata": {},
   "outputs": [
    {
     "data": {
      "text/plain": [
       "0.8048780487804879"
      ]
     },
     "execution_count": 811,
     "metadata": {},
     "output_type": "execute_result"
    }
   ],
   "source": [
    "random_for_optimal.score(X_test, y_test)"
   ]
  },
  {
   "cell_type": "code",
   "execution_count": 812,
   "metadata": {},
   "outputs": [
    {
     "name": "stdout",
     "output_type": "stream",
     "text": [
      "              precision    recall  f1-score   support\n",
      "\n",
      "          No       0.88      0.51      0.65        43\n",
      "         Yes       0.79      0.96      0.87        80\n",
      "\n",
      "    accuracy                           0.80       123\n",
      "   macro avg       0.83      0.74      0.76       123\n",
      "weighted avg       0.82      0.80      0.79       123\n",
      "\n"
     ]
    }
   ],
   "source": [
    "y_pred_Rand_For = random_for.predict(X_test)\n",
    "target_names = ['No','Yes']\n",
    "print(classification_report(y_test, y_pred_Rand_For, target_names=target_names))"
   ]
  },
  {
   "cell_type": "code",
   "execution_count": 813,
   "metadata": {},
   "outputs": [
    {
     "data": {
      "text/plain": [
       "Text(0.5, 1.0, 'Feature Importance - Random Forest Classifier')"
      ]
     },
     "execution_count": 813,
     "metadata": {},
     "output_type": "execute_result"
    },
    {
     "data": {
      "image/png": "[encoded data removed]",
      "text/plain": [
       "<Figure size 864x504 with 1 Axes>"
      ]
     },
     "metadata": {
      "needs_background": "light"
     },
     "output_type": "display_data"
    }
   ],
   "source": [
    "importance_rand_for = random_for.feature_importances_\n",
    "feat_imp_df = pd.DataFrame({'Feature_names':X_encoded.columns, 'importance':importance_rand_for })\n",
    "feat_imp_df_sorted = feat_imp_df.sort_values(by=['importance'])\n",
    "plt.figure(figsize=(12,7))\n",
    "plt.barh(feat_imp_df_sorted['Feature_names'],feat_imp_df_sorted['importance'])\n",
    "plt.xlabel(\"Importance\")\n",
    "plt.ylabel(\"Features\")\n",
    "plt.title('Feature Importance - Random Forest Classifier')"
   ]
  },
  {
   "cell_type": "code",
   "execution_count": 814,
   "metadata": {},
   "outputs": [
    {
     "data": {
      "text/html": [
       "<div>\n",
       "<style scoped>\n",
       "    .dataframe tbody tr th:only-of-type {\n",
       "        vertical-align: middle;\n",
       "    }\n",
       "\n",
       "    .dataframe tbody tr th {\n",
       "        vertical-align: top;\n",
       "    }\n",
       "\n",
       "    .dataframe thead th {\n",
       "        text-align: right;\n",
       "    }\n",
       "</style>\n",
       "<table border=\"1\" class=\"dataframe\">\n",
       "  <thead>\n",
       "    <tr style=\"text-align: right;\">\n",
       "      <th></th>\n",
       "      <th>model_name</th>\n",
       "      <th>train_score</th>\n",
       "      <th>test_score</th>\n",
       "      <th>optimal_model_name</th>\n",
       "      <th>optimal_model</th>\n",
       "    </tr>\n",
       "  </thead>\n",
       "  <tbody>\n",
       "    <tr>\n",
       "      <td>0</td>\n",
       "      <td>Logistic Regression</td>\n",
       "      <td>0.835031</td>\n",
       "      <td>0.821138</td>\n",
       "      <td>lr_optimal</td>\n",
       "      <td>LogisticRegression(C=0.1, random_state=42)</td>\n",
       "    </tr>\n",
       "    <tr>\n",
       "      <td>1</td>\n",
       "      <td>Support Vector Machine</td>\n",
       "      <td>0.832994</td>\n",
       "      <td>0.821138</td>\n",
       "      <td>clf_svm_optimal</td>\n",
       "      <td>SVC(C=0.1, kernel='linear', random_state=42)</td>\n",
       "    </tr>\n",
       "    <tr>\n",
       "      <td>2</td>\n",
       "      <td>Decision Tree</td>\n",
       "      <td>0.832994</td>\n",
       "      <td>0.821138</td>\n",
       "      <td>clf_dt_pruned</td>\n",
       "      <td>DecisionTreeClassifier(ccp_alpha=0.1, max_dept...</td>\n",
       "    </tr>\n",
       "    <tr>\n",
       "      <td>3</td>\n",
       "      <td>Random Forest</td>\n",
       "      <td>0.843177</td>\n",
       "      <td>0.804878</td>\n",
       "      <td>random_for_optimal</td>\n",
       "      <td>(DecisionTreeClassifier(criterion='entropy', m...</td>\n",
       "    </tr>\n",
       "  </tbody>\n",
       "</table>\n",
       "</div>"
      ],
      "text/plain": [
       "               model_name  train_score  test_score  optimal_model_name  \\\n",
       "0     Logistic Regression     0.835031    0.821138          lr_optimal   \n",
       "1  Support Vector Machine     0.832994    0.821138     clf_svm_optimal   \n",
       "2           Decision Tree     0.832994    0.821138       clf_dt_pruned   \n",
       "3           Random Forest     0.843177    0.804878  random_for_optimal   \n",
       "\n",
       "                                       optimal_model  \n",
       "0         LogisticRegression(C=0.1, random_state=42)  \n",
       "1       SVC(C=0.1, kernel='linear', random_state=42)  \n",
       "2  DecisionTreeClassifier(ccp_alpha=0.1, max_dept...  \n",
       "3  (DecisionTreeClassifier(criterion='entropy', m...  "
      ]
     },
     "execution_count": 814,
     "metadata": {},
     "output_type": "execute_result"
    }
   ],
   "source": [
    "a_series = pd.Series({'model_name':'Random Forest',\n",
    "                      'train_score':random_for_optimal.score(X_train, y_train),\n",
    "                      'test_score':random_for_optimal.score(X_test, y_test),\n",
    "                      'optimal_model_name':'random_for_optimal',\n",
    "                     'optimal_model': random_for_optimal})\n",
    "models_statistics = models_statistics.append(a_series, ignore_index=True)\n",
    "models_statistics"
   ]
  },
  {
   "cell_type": "markdown",
   "metadata": {},
   "source": [
    "### Final statistics"
   ]
  },
  {
   "cell_type": "code",
   "execution_count": 815,
   "metadata": {
    "scrolled": true
   },
   "outputs": [
    {
     "data": {
      "text/html": [
       "<div>\n",
       "<style scoped>\n",
       "    .dataframe tbody tr th:only-of-type {\n",
       "        vertical-align: middle;\n",
       "    }\n",
       "\n",
       "    .dataframe tbody tr th {\n",
       "        vertical-align: top;\n",
       "    }\n",
       "\n",
       "    .dataframe thead th {\n",
       "        text-align: right;\n",
       "    }\n",
       "</style>\n",
       "<table border=\"1\" class=\"dataframe\">\n",
       "  <thead>\n",
       "    <tr style=\"text-align: right;\">\n",
       "      <th></th>\n",
       "      <th>model_name</th>\n",
       "      <th>train_score</th>\n",
       "      <th>test_score</th>\n",
       "      <th>optimal_model_name</th>\n",
       "      <th>optimal_model</th>\n",
       "    </tr>\n",
       "  </thead>\n",
       "  <tbody>\n",
       "    <tr>\n",
       "      <td>0</td>\n",
       "      <td>Logistic Regression</td>\n",
       "      <td>0.835031</td>\n",
       "      <td>0.821138</td>\n",
       "      <td>lr_optimal</td>\n",
       "      <td>LogisticRegression(C=0.1, random_state=42)</td>\n",
       "    </tr>\n",
       "    <tr>\n",
       "      <td>1</td>\n",
       "      <td>Support Vector Machine</td>\n",
       "      <td>0.832994</td>\n",
       "      <td>0.821138</td>\n",
       "      <td>clf_svm_optimal</td>\n",
       "      <td>SVC(C=0.1, kernel='linear', random_state=42)</td>\n",
       "    </tr>\n",
       "    <tr>\n",
       "      <td>2</td>\n",
       "      <td>Decision Tree</td>\n",
       "      <td>0.832994</td>\n",
       "      <td>0.821138</td>\n",
       "      <td>clf_dt_pruned</td>\n",
       "      <td>DecisionTreeClassifier(ccp_alpha=0.1, max_dept...</td>\n",
       "    </tr>\n",
       "    <tr>\n",
       "      <td>3</td>\n",
       "      <td>Random Forest</td>\n",
       "      <td>0.843177</td>\n",
       "      <td>0.804878</td>\n",
       "      <td>random_for_optimal</td>\n",
       "      <td>(DecisionTreeClassifier(criterion='entropy', m...</td>\n",
       "    </tr>\n",
       "  </tbody>\n",
       "</table>\n",
       "</div>"
      ],
      "text/plain": [
       "               model_name  train_score  test_score  optimal_model_name  \\\n",
       "0     Logistic Regression     0.835031    0.821138          lr_optimal   \n",
       "1  Support Vector Machine     0.832994    0.821138     clf_svm_optimal   \n",
       "2           Decision Tree     0.832994    0.821138       clf_dt_pruned   \n",
       "3           Random Forest     0.843177    0.804878  random_for_optimal   \n",
       "\n",
       "                                       optimal_model  \n",
       "0         LogisticRegression(C=0.1, random_state=42)  \n",
       "1       SVC(C=0.1, kernel='linear', random_state=42)  \n",
       "2  DecisionTreeClassifier(ccp_alpha=0.1, max_dept...  \n",
       "3  (DecisionTreeClassifier(criterion='entropy', m...  "
      ]
     },
     "execution_count": 815,
     "metadata": {},
     "output_type": "execute_result"
    }
   ],
   "source": [
    "models_statistics.sort_values(by=['test_score', 'train_score'], ascending=False)"
   ]
  },
  {
   "cell_type": "markdown",
   "metadata": {},
   "source": [
    "### Best model"
   ]
  },
  {
   "cell_type": "code",
   "execution_count": 816,
   "metadata": {},
   "outputs": [
    {
     "data": {
      "text/plain": [
       "model_name                                   Logistic Regression\n",
       "train_score                                             0.835031\n",
       "test_score                                              0.821138\n",
       "optimal_model_name                                    lr_optimal\n",
       "optimal_model         LogisticRegression(C=0.1, random_state=42)\n",
       "Name: 0, dtype: object"
      ]
     },
     "execution_count": 816,
     "metadata": {},
     "output_type": "execute_result"
    }
   ],
   "source": [
    "models_statistics.sort_values(by=['test_score', 'train_score'], ascending=False).loc[0,:]"
   ]
  },
  {
   "cell_type": "markdown",
   "metadata": {},
   "source": [
    "### Serializing models"
   ]
  },
  {
   "cell_type": "code",
   "execution_count": 817,
   "metadata": {},
   "outputs": [],
   "source": [
    "with open(\"models.pckl\", \"wb\") as f:\n",
    "    for model in models_statistics['optimal_model']:\n",
    "         pickle.dump(model, f)"
   ]
  },
  {
   "cell_type": "code",
   "execution_count": 818,
   "metadata": {},
   "outputs": [],
   "source": [
    "models = []\n",
    "with open(\"models.pckl\", \"rb\") as f:\n",
    "    while True:\n",
    "        try:\n",
    "            models.append(pickle.load(f))\n",
    "        except EOFError:\n",
    "            break"
   ]
  },
  {
   "cell_type": "code",
   "execution_count": 819,
   "metadata": {},
   "outputs": [
    {
     "data": {
      "text/plain": [
       "[LogisticRegression(C=0.1, random_state=42),\n",
       " SVC(C=0.1, kernel='linear', random_state=42),\n",
       " DecisionTreeClassifier(ccp_alpha=0.1, max_depth=1, random_state=42),\n",
       " RandomForestClassifier(bootstrap=False, class_weight='balanced',\n",
       "                        criterion='entropy', max_depth=1, n_estimators=22,\n",
       "                        n_jobs=-1, random_state=42)]"
      ]
     },
     "execution_count": 819,
     "metadata": {},
     "output_type": "execute_result"
    }
   ],
   "source": [
    "models"
   ]
  },
  {
   "cell_type": "code",
   "execution_count": null,
   "metadata": {},
   "outputs": [],
   "source": []
  }
 ],
 "metadata": {
  "kernelspec": {
   "display_name": "Python 3",
   "language": "python",
   "name": "python3"
  }
 },
 "nbformat": 4,
 "nbformat_minor": 2
}
